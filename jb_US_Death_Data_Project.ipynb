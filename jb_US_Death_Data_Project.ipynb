{
 "cells": [
  {
   "cell_type": "code",
   "execution_count": null,
   "id": "2afa8ff3-59f8-4382-894b-cef4155e064d",
   "metadata": {},
   "outputs": [],
   "source": [
    "# Dependencies and Setup\n",
    "\n",
    "import pandas as pd"
   ]
  },
  {
   "cell_type": "code",
   "execution_count": null,
   "id": "6da80eb1-0e40-403c-bbac-1cbb18f8ee8d",
   "metadata": {},
   "outputs": [],
   "source": [
    "# Load the raw data CSV file from Kaggle \"Death in the United States\" dataset into a Pandas DataFrame\n",
    "raw_2005_DD_df = pd.read_csv(\"Resources/2005_data.csv\", low_memory=False)\n",
    "\n",
    "# Display sample data\n",
    "raw_2005_DD_df.head()"
   ]
  },
  {
   "cell_type": "code",
   "execution_count": null,
   "id": "947f14b8-5d55-4926-b337-098f6a51cdc2",
   "metadata": {},
   "outputs": [],
   "source": [
    "#Reduce the dataframe to only the columns of interest (causes of death)\n",
    "##edit code to reflect final fully mapped dataframe above\n",
    "clean_2005_DD_df = pd.DataFrame(raw_2005_DD_df, columns=[\"358_cause_recode\", \"113_cause_recode\", \"130_infant_cause_recode\", \"39_cause_recode\"])\n",
    "\n",
    "clean_2005_DD_df"
   ]
  },
  {
   "cell_type": "code",
   "execution_count": 52,
   "id": "49b05b71-8f0a-482e-a30c-b5e991a15417",
   "metadata": {},
   "outputs": [
    {
     "data": {
      "text/html": [
       "<div>\n",
       "<style scoped>\n",
       "    .dataframe tbody tr th:only-of-type {\n",
       "        vertical-align: middle;\n",
       "    }\n",
       "\n",
       "    .dataframe tbody tr th {\n",
       "        vertical-align: top;\n",
       "    }\n",
       "\n",
       "    .dataframe thead th {\n",
       "        text-align: right;\n",
       "    }\n",
       "</style>\n",
       "<table border=\"1\" class=\"dataframe\">\n",
       "  <thead>\n",
       "    <tr style=\"text-align: right;\">\n",
       "      <th></th>\n",
       "      <th>358_cause_recode</th>\n",
       "      <th>113_cause_recode</th>\n",
       "      <th>130_infant_cause_recode</th>\n",
       "      <th>39_cause_recode</th>\n",
       "    </tr>\n",
       "  </thead>\n",
       "  <tbody>\n",
       "    <tr>\n",
       "      <th>52</th>\n",
       "      <td>372</td>\n",
       "      <td>109</td>\n",
       "      <td>128.0</td>\n",
       "      <td>34</td>\n",
       "    </tr>\n",
       "    <tr>\n",
       "      <th>55</th>\n",
       "      <td>278</td>\n",
       "      <td>89</td>\n",
       "      <td>62.0</td>\n",
       "      <td>37</td>\n",
       "    </tr>\n",
       "    <tr>\n",
       "      <th>150</th>\n",
       "      <td>364</td>\n",
       "      <td>108</td>\n",
       "      <td>110.0</td>\n",
       "      <td>33</td>\n",
       "    </tr>\n",
       "    <tr>\n",
       "      <th>159</th>\n",
       "      <td>448</td>\n",
       "      <td>133</td>\n",
       "      <td>158.0</td>\n",
       "      <td>42</td>\n",
       "    </tr>\n",
       "    <tr>\n",
       "      <th>258</th>\n",
       "      <td>361</td>\n",
       "      <td>108</td>\n",
       "      <td>96.0</td>\n",
       "      <td>33</td>\n",
       "    </tr>\n",
       "    <tr>\n",
       "      <th>...</th>\n",
       "      <td>...</td>\n",
       "      <td>...</td>\n",
       "      <td>...</td>\n",
       "      <td>...</td>\n",
       "    </tr>\n",
       "    <tr>\n",
       "      <th>2452497</th>\n",
       "      <td>362</td>\n",
       "      <td>108</td>\n",
       "      <td>103.0</td>\n",
       "      <td>33</td>\n",
       "    </tr>\n",
       "    <tr>\n",
       "      <th>2452500</th>\n",
       "      <td>364</td>\n",
       "      <td>108</td>\n",
       "      <td>117.0</td>\n",
       "      <td>33</td>\n",
       "    </tr>\n",
       "    <tr>\n",
       "      <th>2452502</th>\n",
       "      <td>362</td>\n",
       "      <td>108</td>\n",
       "      <td>101.0</td>\n",
       "      <td>33</td>\n",
       "    </tr>\n",
       "    <tr>\n",
       "      <th>2452503</th>\n",
       "      <td>363</td>\n",
       "      <td>108</td>\n",
       "      <td>106.0</td>\n",
       "      <td>33</td>\n",
       "    </tr>\n",
       "    <tr>\n",
       "      <th>2452504</th>\n",
       "      <td>357</td>\n",
       "      <td>108</td>\n",
       "      <td>75.0</td>\n",
       "      <td>33</td>\n",
       "    </tr>\n",
       "  </tbody>\n",
       "</table>\n",
       "<p>28503 rows × 4 columns</p>\n",
       "</div>"
      ],
      "text/plain": [
       "         358_cause_recode  113_cause_recode  130_infant_cause_recode  \\\n",
       "52                    372               109                    128.0   \n",
       "55                    278                89                     62.0   \n",
       "150                   364               108                    110.0   \n",
       "159                   448               133                    158.0   \n",
       "258                   361               108                     96.0   \n",
       "...                   ...               ...                      ...   \n",
       "2452497               362               108                    103.0   \n",
       "2452500               364               108                    117.0   \n",
       "2452502               362               108                    101.0   \n",
       "2452503               363               108                    106.0   \n",
       "2452504               357               108                     75.0   \n",
       "\n",
       "         39_cause_recode  \n",
       "52                    34  \n",
       "55                    37  \n",
       "150                   33  \n",
       "159                   42  \n",
       "258                   33  \n",
       "...                  ...  \n",
       "2452497               33  \n",
       "2452500               33  \n",
       "2452502               33  \n",
       "2452503               33  \n",
       "2452504               33  \n",
       "\n",
       "[28503 rows x 4 columns]"
      ]
     },
     "execution_count": 52,
     "metadata": {},
     "output_type": "execute_result"
    }
   ],
   "source": [
    "# Drop rows with NaN entries in the specified columns\n",
    "clean_2005_DD_df.dropna(subset=[\"358_cause_recode\", \"113_cause_recode\", \"130_infant_cause_recode\", \"39_cause_recode\"], inplace=True)\n",
    "\n",
    "# Display the cleaned DataFrame\n",
    "clean_2005_DD_df"
   ]
  },
  {
   "cell_type": "code",
   "execution_count": 53,
   "id": "ce2511ae-6e50-47d1-bfda-16cd1aa59c08",
   "metadata": {},
   "outputs": [],
   "source": [
    "#define JSON key and dictonary information as a variable\n",
    "text = \"\"\"\"358_cause_recode\": {\"001\": \"I. Certain infectious and parasitic diseases (A00-B99)\", \"002\": \"Intestinal infectious diseases (A00-A09)\", \"003\": \"Cholera (A00)\", \"004\": \"Other intestinal infectious diseases (A01-A08)\", \"005\": \"Typhoid fever (A01.0)\", \"006\": \"Paratyphoid fevers and other salmonella infections (A01.1-A01.4,A02)\", \"007\": \"Shigellosis (A03)\", \"008\": \"Other bacterial food-borne intoxications (A05)\", \"009\": \"Amebiasis (A06)\", \"010\": \"Intestinal infections due to other specified organisms (A04,A07-A08)\", \"011\": \"Diarrhea and gastroenteritis of infectious origin (A09)\", \"012\": \"Tuberculosis (A16-A19)\", \"013\": \"Respiratory tuberculosis (A16)\", \"014\": \"Other tuberculosis (A17-A19)\", \"015\": \"Zoonotic and other bacterial diseases (A20-A49)\", \"016\": \"Plague (A20)\", \"017\": \"Brucellosis (A23)\", \"018\": \"Tetanus (A33-A35)\", \"019\": \"Diptheria (A36)\", \"020\": \"Whooping cough (A37)\", \"021\": \"Scarlet fever and erysipelas (A38,A46)\", \"022\": \"Meningococcal infection (A39)\", \"023\": \"Septicemia (A40-A41)\", \"024\": \"Other zoonotic and bacterial diseases (A21-A22,A24-A32,A42-A44, A48-A49)\", \"025\": \"Infections with a predominately sexual mode of transmission (A50-A64)\", \"026\": \"Syphilis (A50-A53)\", \"027\": \"Cardiovascular syphilis (A52.0)\", \"028\": \"Neurosyphilis (A52.1-A52.3)\", \"029\": \"Other and unspecified syphilis (A50-A51,A52.7-A52.9,A53)\", \"030\": \"Gonococcal infection (A54)\", \"031\": \"Other infections with a predominately sexual mode of transmission (A55-A64)\", \"032\": \"Other infections caused by spirochetes, chlamydia or rickettsia (A65-A79)\", \"033\": \"Lyme disease (A69.2)\", \"034\": \"Typhus fever (A75)\", \"035\": \"All other infections caused by spirochetes, chlamydia or rickettsia (A65-A68,A69.0-A69.1,A69.8-A69.9,A70-A74,A77-A79)\", \"036\": \"Viral diseases (A80-B34)\", \"037\": \"Acute poliomyelitis (A80)\", \"038\": \"Rabies (A82)\", \"039\": \"Arthropod-borne viral encephalitis (A83-A84,A85.2)\", \"040\": \"Yellow fever (A95)\", \"041\": \"Other and unspecified arthropod-borne viral and hemorrhagic fevers (A90-A94,A96-A99)\", \"042\": \"Herpesviral (herpes simplex) infections (B00)\", \"043\": \"Zoster (herpes zoster) (B02)\", \"044\": \"Smallpox (B03)\", \"045\": \"Measles (B05)\", \"046\": \"Rubella (German measles) (B06)\", \"047\": \"Viral hepatitis (B15-B19)\", \"048\": \"Human immunodeficiency virus (HIV) disease (B20-B24)\", \"049\": \"Human immunodeficiency virus (HIV) disease resulting in infectious and parasitic diseases (B20)\", \"050\": \"Human immunodeficiency virus (HIV) disease resulting in malignant neoplasms (B21)\", \"051\": \"Human immunodeficiency virus (HIV) disease resulting in other specified diseases (B22)\", \"052\": \"Human immunodeficiency virus (HIV) disease resulting in other conditions (B23)\", \"053\": \"Unspecified human immunodeficiency virus (HIV) disease (B24)\", \"054\": \"All other and unspecified viral diseases (A81,A85.0-A85.1,A85.8, A86-A89,B01,B04,B07-B09,B25-B34)\", \"055\": \"Other and unspecified infectious and parasitic diseases and their sequelae (B35-B99)\", \"056\": \"Mycoses (B35-B49)\", \"057\": \"Protozoal diseases (B50-B64)\", \"058\": \"Malaria (B50-B54)\", \"059\": \"Leishmaniasis (B55)\", \"060\": \"Trypanosomiasis (B56-B57)\", \"061\": \"Pneumocystosis (B59)\", \"062\": \"Other and unspecified protozoal diseases (B58,B60-B64)\", \"063\": \"Helminthiases (B65-B83)\", \"064\": \"Schistosomiasis (bilharziasis) (B65)\", \"065\": \"Other and unspecified helminthiases (B66-B83)\", \"066\": \"Sequelae of tuberculosis (B90)\", \"067\": \"Sequelae of poliomyelitis (B91)\", \"068\": \"All other and unspecified infectious and parasitic diseases and their sequelae (B85-B89,B92-B99)\", \"069\": \"II. Neoplasms (C00-D48)\", \"070\": \"Malignant neoplasms (C00-C97)\", \"071\": \"Malignant neoplasms of lip, oral cavity and pharynx (C00-C14)\", \"072\": \"Of lip (C00)\", \"073\": \"Of tongue (C01-C02)\", \"074\": \"Of pharynx (C10-C13,C14.0)\", \"075\": \"Of other and unspecified sites within the lip, oral cavity and pharynx (C03-C09,C14.2-C14.8)\", \"076\": \"Malignant neoplasms of digestive organs (C15-C26)\", \"077\": \"Of esophagus (C15)\", \"078\": \"Of stomach (C16)\", \"079\": \"Of small intestine (C17)\", \"080\": \"Of colon, rectum and anus (C18-C21)\", \"081\": \"Colon (C18)\", \"082\": \"Rectosigmoid junction and rectum (C19-C20)\", \"083\": \"Anus and anus canal (C21)\", \"084\": \"Of liver and intrahepatic bile ducts (C22)\", \"085\": \"Liver (C22.0,C22.2-C22.9)\", \"086\": \"Intrahepatic bile duct carcinoma (C22.1)\", \"087\": \"Of gallbladder and extrahepatic bile ducts (C23-C24)\", \"088\": \"Of pancreas (C25)\", \"089\": \"Of other and ill-defined digestive organs (C26)\", \"090\": \"Malignant neoplasms of respiratory and intrathoracic organs (C30-C39)\", \"091\": \"Of nasal cavity, middle ear and accessory sinuses (C30-C31)\", \"092\": \"Of larynx (C32)\", \"093\": \"Of trachea, bronchus and lung (C33-C34)\", \"094\": \"Of thymus, heart, mediastinum and pleura (C37-C38)\", \"095\": \"Of other and ill-defined sites in respiratory system and intrathoracic organs (C39)\", \"096\": \"Malignant neoplasms of bone and articular cartilage (C40-C41)\", \"097\": \"Melanoma and other malignant neoplasms of skin (C43-C44)\", \"098\": \"Malignant melanoma of skin (C43)\", \"099\": \"Other malignant neoplasms of skin (C44)\", \"100\": \"Malignant neoplasms of mesothelial and soft tissue (C45-C49)\", \"101\": \"Mesothelioma (C45)\", \"102\": \"Kaposi=s sarcoma (C46)\", \"103\": \"Of other mesothelial and soft tissue (C47-C49)\", \"104\": \"Malignant neoplasm of breast (C50)\", \"105\": \"Malignant neoplasms of female genital organs (C51-C58)\", \"106\": \"Of vulva and vagina (C51-C52)\", \"107\": \"Of cervix uteri (C53)\", \"108\": \"Of corpus uteri and uterus, part unspecified (C54-C55)\", \"109\": \"Of ovary (C56)\", \"110\": \"Of other and unspecified female genital organs (C57)\", \"111\": \"Of placenta (C58)\", \"112\": \"Malignant neoplasms of male genital organs (C60-C63)\", \"113\": \"Of prostate (C61)\", \"114\": \"Of testis (C62)\", \"115\": \"Of penis and other and unspecified male genital organs (C60,C63)\", \"116\": \"Malignant neoplasms of urinary tract (C64-C68)\", \"117\": \"Of kidney and renal pelvis (C64-C65)\", \"118\": \"Of bladder (C67)\", \"119\": \"Of other and unspecified sites within the urinary tract (C66,C68)\", \"120\": \"Malignant neoplasm of eye and adnexa (C69)\", \"121\": \"Malignant neoplasms of meninges, brain and other parts of central nervous system (C70-C72)\", \"122\": \"Of brain (C71)\", \"123\": \"Of other parts of central nervous system (C70,C72)\", \"124\": \"Malignant neoplasms of thyroid and other endocrine glands (C73-C75)\", \"125\": \"Other malignant neoplasms of other and unspecified sites (C76-C80,C97)\", \"126\": \"Malignant neoplasms of lymphoid, hematopoietic and related tissue (C81-C96)\", \"127\": \"Hodgkin=s disease (C81)\", \"128\": \"Of other lymphoid, hematopoietic and related tissue (C82-C85,C96)\", \"129\": \"Non-Hodgkin=s lymphoma (C82-C85)\", \"130\": \"Of other and unspecified lymphoid, hematopoietic and related tissue (C96)\", \"131\": \"Malignant immunoproliferative diseases (C88)\", \"132\": \"Multiple myeloma and malignant plasma cell neoplasms (C90)\", \"133\": \"Leukemia (C91-C95)\", \"134\": \"Lymphoid leukemia (C91)\", \"135\": \"Myeloid leukemia (C92)\", \"136\": \"Monocytic leukemia (C93)\", \"137\": \"Other and unspecified leukemia (C94-C95)\", \"138\": \"In situ neoplasms (D00-D09)\", \"139\": \"Carcinoma in situ of breast and genitourinary system (D05-D07)\", \"140\": \"Carcinoma in situ of other and unspecified sites (D00-D04,D09)\", \"141\": \"Benign neoplasms (D10-D36)\", \"142\": \"Of female genital organs (D25-D28)\", \"143\": \"Of eye, brain and other parts of central nervous system (D31-D33)\", \"144\": \"Of other and unspecified sites (D10-D24,D29-D30,D34-D36)\", \"145\": \"Neoplasms of uncertain or unknown behavior of specified sites (D37-D47)\", \"146\": \"Neoplasms of uncertain or unknown behavior of unspecified sites (D48)\", \"147\": \"III. Diseases of the blood and blood-forming organs and certain disorders involving the immune mechanism (D50-D89)\", \"148\": \"Anemias (D50-D64)\", \"149\": \"Nutritional anemias (D50-D53)\", \"150\": \"Hemolytic anemias (D55-D59)\", \"151\": \"Aplastic anemias (D60-D61)\", \"152\": \"Acute posthemorrhagic and other anemias (D62,D64)\", \"153\": \"Coagulation defects, purpura and other hemorrhagic conditions (D65-D69)\", \"154\": \"Other diseases of blood and blood-forming organs (D70-D76)\", \"155\": \"Certain disorders involving the immune mechanism (D80-D89)\", \"156\": \"IV. Endocrine, nutritional and metabolic diseases (E00-E88)\", \"157\": \"Endocrine diseases (E00-E34)\", \"158\": \"Disorders of thyroid gland (E00-E07)\", \"159\": \"Diabetes mellitus (E10-E14)\", \"160\": \"Disorders of pituitary gland (E22-E23)\", \"161\": \"Disorders of adrenal glands (E24-E27)\", \"162\": \"Diseases of thymus (E32)\", \"163\": \"Other endocrine diseases (E15-E21,E28-E31,E34)\", \"164\": \"Nutritional diseases (E40-E68)\", \"165\": \"Malnutrition (E40-E46)\", \"166\": \"Nutritional marasmus (E41)\", \"167\": \"Other and unspecified malnutrition (E40,E42-E46)\", \"168\": \"Other nutritional deficiences (E50-E64)\", \"169\": \"Obesity and other hyperalimentation (E65-E68)\", \"170\": \"Metabolic disorders (E70-E88)\", \"171\": \"Cystic fibrosis (E84)\", \"172\": \"Volume depletion, disorders of fluid, electrolyte and acid-base balance (E86-E87)\", \"173\": \"Other metabolic disorders (E70-E83,E85,E88)\", \"174\": \"V. Mental and behavioral disorders (F01-F99)\", \"175\": \"Organic dementia (F01,F03)\", \"176\": \"Other and unspecified organic mental disorders (F04-F09)\", \"177\": \"Mental and behavioral disorders due to psychoactive substance use (F10-F19)\", \"178\": \"Mental and behavioral disorders due to use of alcohol (F10)\", \"179\": \"Mental and behavioral disorders due to other psychoactive substance use (F11-F19)\", \"180\": \"Schizophrenia, schizotypal and delusional disorders (F20-F29)\", \"181\": \"Mood (affective) disorders (F30-F39)\", \"182\": \"Neurotic, stress-related and somatoform disorders (F40-F48)\", \"183\": \"Mental retardation (F70-F79)\", \"184\": \"Other and unspecified mental and behavioral disorders (F50-F69,F80-F99)\", \"185\": \"VI. Diseases of the nervous system (G00-G98)\", \"186\": \"Meningitis (G00,G03)\", \"187\": \"Other inflammatory diseases of central nervous system (G04-G09)\", \"188\": \"Parkinson=s disease (G20-G21)\", \"189\": \"Alzheimer=s disease (G30)\", \"190\": \"Multiple sclerosis (G35)\", \"191\": \"Epilepsy (G40-G41)\", \"192\": \"Transient cerebral ischemic attacks and related syndromes (G45)\", \"193\": \"Infantile cerebral palsy (G80)\", \"194\": \"All other diseases of nervous system (G10-G12,G23-G25,G31,G36-G37,G43-G44,G47-G72,G81-G98)\", \"195\": \"VII. Diseases of the eye and adnexa (H00-H57)\", \"196\": \"VIII. Diseases of the ear and mastoid process (H60-H93)\", \"197\": \"IX. Diseases of the circulatory system (I00-I99)\", \"198\": \"Acute rheumatic fever and chronic rheumatic heart diseases (I00-I09)\", \"199\": \"Acute rheumatic fever (I00-I02)\", \"200\": \"Chronic rheumatic heart diseases (I05-I09)\", \"201\": \"Rheumatic mitral valve diseases (I05)\", \"202\": \"Rheumatic aortic valve diseases (I06)\", \"203\": \"Disorders of both mitral and aortic valves (I08.0)\", \"204\": \"Other chronic rheumatic heart diseases (I07,I08.1-I08.9,I09)\", \"205\": \"Hypertensive diseases (I10-I13)\", \"206\": \"Essential (primary) hypertension (I10)\", \"207\": \"Hypertensive heart disease (I11)\", \"208\": \"Hypertensive renal disease (I12)\", \"209\": \"Hypertensive heart and renal disease (I13)\", \"210\": \"Ischemic heart diseases (I20-I25)\", \"211\": \"Acute myocardial infarction (I21-I22)\", \"212\": \"Other acute ischemic heart diseases (I24)\", \"213\": \"Other forms of chronic ischemic heart diseases (I20,I25)\", \"214\": \"Atherosclerotic cardiovascular disease, so described (I25.0)\", \"215\": \"All other forms of chronic ischemic heart disease (I20,I25.1-I25.9)\", \"216\": \"Other heart diseases (I26-I51)\", \"217\": \"Pulmonary heart disease and diseases of pulmonary circulation (I26-I28)\", \"218\": \"Pulmonary embolism (I26)\", \"219\": \"Other pulmonary heart disease and diseases of pulmonary circulation (I27-I28)\", \"220\": \"Other non-pulmonary forms of heart disease (I30-I51)\", \"221\": \"Acute and subacute endocarditis (I33)\", \"222\": \"Diseases of pericardium and acute myocarditis (I30-I31,I40)\", \"223\": \"Other diseases of endocardium (I34-I38)\", \"224\": \"Nonrheumatic mitral valve disorders (I34)\", \"225\": \"Nonrheumatic aortic valve disorders (I35)\", \"226\": \"All other diseases of endocardium (I36-I38)\", \"227\": \"Cardiomyopathy (I42)\", \"228\": \"Conduction disorders and cardiac dysrhythmias (I44-I49)\", \"229\": \"Heart failure (I50)\", \"230\": \"Congestive heart failure (I50.0)\", \"231\": \"Other and unspecified heart failure (I50.1-I50.9)\", \"232\": \"Myocarditis, unspecified and myocardial degeneration (I51.4-I51.5)\", \"233\": \"All other and ill-defined forms of heart disease (I50.0-I51.3, I51.6-I51.9)\", \"234\": \"Cerebrovascular diseases (I60-I69)\", \"235\": \"Subarachnoid hemorrhage (I60)\", \"236\": \"Intracerebral and other intracranial hemorrhage (I61-I62)\", \"237\": \"Cerebral infarction (I63)\", \"238\": \"Stroke, not specified as hemorrhage or infarction (I64)\", \"239\": \"Other cerebrovascular diseases and their sequelae (I67,I69)\", \"240\": \"Diseases of arteries, arterioles and capillaries (I70-I78)\", \"241\": \"Atherosclerosis (I70)\", \"242\": \"Aortic aneurysm and dissection (I71)\", \"243\": \"Other diseases of arteries, arterioles and capillaries (I70-I78)\", \"244\": \"Other disorders of circulatory system (I80-I99)\", \"245\": \"Phlebitis, thrombophlebitis, venous embolism and thrombosis (I80-I82)\", \"246\": \"All other and unspecified disorders of circulatory system (I83-I99)\", \"247\": \"X. Diseases of the respiratory system (J00-J98)\", \"248\": \"Acute upper respiratory infections (J00-J06)\", \"249\": \"Acute pharyngitis and tonsillitis (J02-J03)\", \"250\": \"Acute laryngitis and tracheitis ((J04)\", \"251\": \"Other and unspecified acute upper respiratory infections (J00-J01,J05-J06)\", \"252\": \"Other diseases of the respiratory system (J10-J98)\", \"253\": \"Influenza (J10-J11)\", \"254\": \"Pneumonia(J12-J18)\", \"255\": \"Viral pneumonia, not elsewhere classified (J12)\", \"256\": \"Bacterial pneumonia (J13-J15)\", \"257\": \"Pneumonia due to other or unspecified organisms (J16,J18)\", \"258\": \"Other acute lower respiratory infections (J20-J22)\", \"259\": \"Acute bronchitis and bronchiolitis(J20-J21)\", \"260\": \"Unspecified acute lower respiratory infection (J22)\", \"261\": \"Other diseases of upper respiratory tract (J30-J39)\", \"262\": \"Chronic lower respiratory diseases (J40-J47)\", \"263\": \"Bronchitis, chronic and unspecified, emphysema and asthma (J40-J46)\", \"264\": \"Bronchitis, not specified as acute or chronic (J40)\", \"265\": \"Chronic bronchitis (J41-J42)\", \"266\": \"Emphysema (J43)\", \"267\": \"Other chronic obstructive pulmonary disease (J44)\", \"268\": \"Asthma (J45-J46)\", \"269\": \"Bronchiectasis (J47)\", \"270\": \"Lung diseases due to external agents (J60-J70)\", \"271\": \"Pneumoconioses and chemical effects (J60-J66,J68)\", \"272\": \"Pneumonitis due to solids and liquids (J69)\", \"273\": \"Pneumonitis due to food and vomit (J69.0)\", \"274\": \"Other pneumonitis due to solids and liquids (J69.1-J69.8)\", \"275\": \"Other lung diseases due to external agents (J67,J70)\", \"276\": \"Suppurative and necrotic conditions of lower respiratory tract (J85-J86)\", \"277\": \"Pleural effusion and plaque (J90, J92)\", \"278\": \"All other diseases of respiratory system (J80-J84,J93-J98)\", \"279\": \"XI.  Diseases of the digestive system (K00-K92)\", \"280\": \"Diseases of oral cavity, salivary glands and jaws (K00-K14)\", \"281\": \"Diseases of other parts of digestive system (K20-K92)\", \"282\": \"Diseases of esophagus (K20-K22)\", \"283\": \"Peptic ulcer (K25-K28)\", \"284\": \"Gastric ulcer(K25)\", \"285\": \"Duodenal ulcer(K26)\", \"286\": \"Peptic ulcer, site unspecified (K27)\", \"287\": \"Gastrojejunal ulcer (K28)\", \"288\": \"Gastritis and duodenitis (K29)\", \"289\": \"Dyspepsia and other diseases of stomach and duodenum (K30-K31)\", \"290\": \"Diseases of appendix (K35-K38)\", \"291\": \"Hernia (K40-K46)\", \"292\": \"Crohn=s disease and ulcerative colitis (K50-K51)\", \"293\": \"Vascular disorders and obstruction of intestine without hernia (K55-K56)\", \"294\": \"Diverticular disease of intestine (K57)\", \"295\": \"Other diseases of intestines and peritoneum (K52,K58-K63)\", \"296\": \"Diseases of peritoneum (K65-K66)\", \"297\": \"Diseases of liver (K70-K76)\", \"298\": \"Alcoholic liver disease (K70)\", \"299\": \"Chronic hepatitis, not elsewhere classified (K73)\", \"300\": \"Fibrosis and cirrhosis of liver (K74)\", \"301\": \"Other diseases of liver (K71-K72,K75-K76)\", \"302\": \"Cholelithiasis and other disorders of gallbladder (K80-K82)\", \"303\": \"Disorders of biliary tract and pancreas (K83-K86)\", \"304\": \"Pancreatitis (K85,K86.0-K86.1)\", \"305\": \"Other disorders of biliary tract and pancreas (K83,K86.2-K86.9)\", \"306\": \"All other diseases of digestive system (K90-K92)\", \"307\": \"XII.  Diseases of the skin and subcutaneous tissue (L00-L98)\", \"308\": \"Infections of skin and subcutaneous tissue (L00-L08)\", \"309\": \"Other and unspecified diseases of skin and sub-cutaneous tissue (L10-L98)\", \"310\": \"XIII. Diseases of the musculoskeletal system and connective tissue (M00-M99)\", \"311\": \"Rheumatoid arthritis and related inflammatory polyarthropathies (M05-M08)\", \"312\": \"Systemic lupus erythematosus (M32)\", \"313\": \"Other arthropathies and related disorders (M00,M02,M10-M31,M33-M35)\", \"314\": \"Dorsopathies (M40-M54)\", \"315\": \"Soft tissue disorders (M60-M79)\", \"316\": \"Osteopathies, chondropathies and other disorders of musculoskeletal system and connective tissue (M80-M99)\", \"317\": \"Osteoporosis (M80-M81)\", \"318\": \"Other osteopathies, chondropathies and disorders of musculoskeletal system and connective tissue (M83-M99)\", \"319\": \"XIV.  Diseases of the genitourinary system (N00-N98)\", \"320\": \"Diseases of urinary system (N00-N39)\", \"321\": \"Glomerular and renal tubulo-interstitial diseases (N00-N15)\", \"322\": \"Glomerular diseases (N00-N07)\", \"323\": \"Acute and rapidly progressive nephritic syndrome (N00-N01)\", \"324\": \"Nephrotic syndrome (N04)\", \"325\": \"Other and unspecified glomerular diseases (N02-N03,N05-N07)\", \"326\": \"Renal tubulo-interstitial diseases (N10-N15)\", \"327\": \"Renal failure (N17-N19)\", \"328\": \"Urolithiasis (N20-N23)\", \"329\": \"Other and unspecified disorders of kidney (N25-N27)\", \"330\": \"Urinary tract infection, site not specified (N39.0)\", \"331\": \"Other diseases of urinary system (N28-N36,N39.1-N39.9)\", \"332\": \"Diseases of male genital organs (N40-N50)\", \"333\": \"Hyperplasia of prostate (N40)\", \"334\": \"Other diseases of male genital organs (N41-N50)\", \"335\": \"Disorders of breast (N60-N64)\", \"336\": \"Disorders of female genital organs (N70-N98)\", \"337\": \"Inflammatory diseases of female pelvic organs (N70-N76)\", \"338\": \"Noninflammatory disorders of female genital tract (N80-N98)\", \"339\": \"XV.  Pregnancy, childbirth and the puerperium (O00-O99)\", \"340\": \"Pregnancy with abortive outcome (O00-O07)\", \"341\": \"Ectopic pregnancy (O00)\", \"342\": \"Spontaneous abortion (O03)\", \"343\": \"Medical abortion (O04)\", \"344\": \"Other abortion (O05)\", \"345\": \"Other and unspecified pregnancy with abortive outcome (O01-O02,O06-O07)\", \"346\": \"Other direct obstetric deaths (O10-O92)\", \"347\": \"Eclampsia and pre-eclampsia (O11,O13-O16)\", \"348\": \"Hemorrhage of pregnancy and childbirth and placenta previa (O20,O44-O46,O67,072)\", \"349\": \"Complications predominately related to the puerperium (O85-O92)\", \"350\": \"Obstetric embolism (O88)\", \"351\": \"Other complications predominately related to the puerperium (O85-O87,O89-O92)\", \"352\": \"All other direct obstetric causes (O10,O12,O21-O43,O47-O66,O68-O71, O73-O75)\", \"353\": \"Obstetric death of unspecified cause (O95)\", \"354\": \"Other deaths related to pregnancy, childbirth and the puerperium (O96-O97)\", \"355\": \"Indirect obstetric deaths (O98-O99)\", \"356\": \"XVI.  Certain conditions originating in the perinatal period (P00-P96)\", \"357\": \"Newborn affected by maternal factors and by complications of pregnancy, labor and delivery (P00-P04)\", \"358\": \"Disorders related to short gestation and low birth weight, not elsewhere classified (P07)\", \"359\": \"Birth trauma (P10-P15)\", \"360\": \"Intrauterine hypoxia and birth asphyxia (P20-P21)\", \"361\": \"Respiratory distress of newborn (P22)\", \"362\": \"Other respiratory conditions originating in the perinatal period (P23-P28)\", \"363\": \"Infections specific to the perinatal period (P35-P39)\", \"364\": \"Other and unspecified conditions originating in the perinatal period (P05,P08,P29,P50-P96)\", \"365\": \"XVII. Congenital malformations, deformations and chromosomal abnormalities (Q00-Q99)\", \"366\": \"Anencephaly and similar malformations (Q00)\", \"367\": \"Spina bifida (Q05)\", \"368\": \"All other congenital malformations of nervous system (Q01-Q04,Q06-Q07)\", \"369\": \"Congenital malformations of heart (Q20-Q24)\", \"370\": \"Other congenital malformations of circulatory system (Q25-Q28)\", \"371\": \"Congenital malformations of respiratory system (Q30-Q34)\", \"372\": \"Other congenital malformations and deformations (Q10-Q18,Q35-Q89)\", \"373\": \"Down=s syndrome (Q90)\", \"374\": \"All other chromosomal abnormalities, not elsewhere classified (Q91-Q99)\", \"375\": \"XVIII.  Symptoms, signs and abnormal clinical and laboratory findings, not elsewhere classified (R00-R99)\", \"376\": \"Senility (R54)\", \"377\": \"Ill-defined and unknown causes of mortality (R95-R99)\", \"378\": \"Sudden infant death syndrome (R95)\", \"379\": \"Other ill-defined and unknown causes of mortality (R96-R99)\", \"380\": \"All other symptoms, signs and abnormal clinical and laboratory findings, not elsewhere classified (R00-R53,R55-R94)\", \"381\": \"XX.  External causes of mortality (*U01-*U03,V01-Y89)\", \"382\": \"Accidents (unintentional injuries) (V01-X59,Y85-Y86)\", \"383\": \"Transport accidents (V01-V99, Y85)\", \"384\": \"Railway accidents (V05,V15,V80.6,V81.2-V81.9,V80.3-V80.5, V81.0-V81.1,V82.0-V82.1,V83-V86,V87.0-V87.8,V88.0-V88.8,V89.0, V89.2)\", \"385\": \"Motor vehicle accidents (V02-V04,V09.0,V09.2,V12-V14,V19.0-V19.2, V19.4-V19.6,V20-V79,V80.3-V80.5,V81.0-V81.1,V82.0-V82.1,V83-V86, V87.0-V87.8,V88.0-V88.8,V89.0,V89.2)\", \"386\": \"Pedestrian involved in collision with motor vehicle (V02-V04)\", \"387\": \"Pedalcyclist involved in collision with motor vehicle (V12-V14,V19.0,V19.2-V19.4-V19.6)\", \"388\": \"Motorcyclist involved in any accident except collision with railway train (V20-V24,V26-V34,V36-V39)\", \"389\": \"Motor vehicle accident involving collision with railway train (V25,V35,V45,V55,V65,V75,V81.0-V81.1,V87.6,V88.6)\", \"390\": \"Motorcyclist involved in collision with railway train (V25,V35)\", \"391\": \"Other motor vehicle accident involving collision with railway train (V45,V55,V65,V75,V81.0-V81.1,V87.6,V88.6)\", \"392\": \"Occupant of motor vehicle involved in collision with other (non- motorized) road vehicle, streetcar, animal or pedestrian (V40-V41,V46-V47,V50-V51,V56-V57,V60-V61,V66-V67,V70-V71, V76-V77)\", \"393\": \"Occupant of car, pickup truck or van involved in collision with other motor vehicle (V42-V44,V49,V52-V54,V59)\", \"394\": \"Occupant of heavy transport vehicle or bus involved in collision with other motor vehicle (V62-V64,V69,V72-V74,V79)\", \"395\": \"Occupant of motor vehicle involved in non-collision accident (V48,V58,V68,V78)\", \"396\": \"Occupant of special-use motor vehicle involved in any accident (V83-V86)\", \"397\": \"Other and unspecified motor vehicle accidents (V09.0,V09.2,V80.3-V80.5,V82.0-V82.1,V87.0-V87.5,V87.7-V87.8, V88.0-V88.5,V88.7-V88.8,V89.0,V89.2)\", \"398\": \"Streetcar accidents (V82.2-V82.9)\", \"399\": \"Other and unspecified land transport accidents (V01,V06,V09.1,V09.3,V09.9,V10-V11,V16-V18,V19.3,V19.8-V19.9, V80.0-V80.2,V80.7-V80.9,V87.9,V88.9,V89.1,V89.3,V89.9)\", \"400\": \"Water transport accidents (V90-V94)\", \"401\": \"Air and space transport accidents (V95-V97)\", \"402\": \"Other and unspecified transport accidents and their sequelae (V98-V99,Y85)\", \"403\": \"Falls (W00-W19)\", \"404\": \"Fall on same level (W00-W09,W18)\", \"405\": \"Fall from one level to another (W10-W17)\", \"406\": \"Unspecified fall (W19)\", \"407\": \"Accidental discharge of firearms (W32-W34)\", \"408\": \"Accidental explosion (W39-W40)\", \"409\": \"Accidental drowning and submersion (W65-W74)\", \"410\": \"Accidental inhalation and ingestion of food or other objects causing obstruction of respiratory tract (W78-W80)\", \"411\": \"Other accidental and unspecified threats to breathing (W75-W77,W81-W84)\", \"412\": \"Accidental exposure to electrical current (W85-W87)\", \"413\": \"Accidental exposure to radiation (W88-W91)\", \"414\": \"Accidental exposure to smoke, fire and flames (X00-X09)\", \"415\": \"Accidental contact with heat and hot substances (X10-X19)\", \"416\": \"Lightning (X33)\", \"417\": \"Earthquake, volcanic eruption, avalanche, landslide and other earth movements (X34-X36)\", \"418\": \"Cataclysmic storm and flood (X37-X38)\", \"419\": \"Accidental poisoning and exposure to noxious substances (X40-X49)\", \"420\": \"Accidental poisoning by and exposure to drugs and other biological substances (X40-X44)\", \"421\": \"Accidental poisoning by and exposure to other and unspecified solid or liquids substances (X45-X46,X48-X49)\", \"422\": \"Accidental poisoning by and exposure to other gases and vapors (X47)\", \"423\": \"All other and unspecified accidents (W20-W31,W35-W38,W41-W64,W92-W99,X20-X32,X39,X50-X59,Y86)\", \"424\": \"Intentional self-harm (suicide) (*U03,X60-X84,Y87.0)\", \"425\": \"Intentional self-poisoning (suicide) by and exposure to drugs and other biological substances (X60-X64)\", \"426\": \"Intentional self-poisoning (suicide) by and exposure to other and unspecified solid or liquid substances and their vapors (X65-X66,X68-X69)\", \"427\": \"Intentional self-poisoning (suicide) by and exposure to other gases and vapors (X67)\", \"428\": \"Intentional self-harm (suicide) by hanging, strangulation and suffocation (X70)\", \"429\": \"Intentional self-harm (suicide) by discharge of firearms (X72-X74)\", \"430\": \"Intentional self-harm (suicide) by jumping from a high place (X80)\", \"431\": \"Intentional self-harm (suicide) by all other and unspecified means and their sequelae (*U03,X71,X75-X79,X81-X84,X87.0)\", \"432\": \"Assault (homicide) (*U01-*U02,X85-Y09,X87.1)\", \"433\": \"Assault (homicide) by drugs, biological substances and other and unspecified noxious substances (*U01.6-*U01.7,X85-X90)\", \"434\": \"Assault (homicide) by hanging, strangulation and suffocation (X91)\", \"435\": \"Assault (homicide) by discharge of firearms (*U01.4,X93-X95)\", \"436\": \"Assault (homicide) by sharp object (X99)\", \"437\": \"Assault (homicide) by blunt object (Y00)\", \"438\": \"Assault (homicide) by bodily force (Y04)\", \"439\": \"Sexual assault (homicide) by bodily force (Y05)\", \"440\": \"Neglect, abandonment and other maltreatment syndromes (Y06-Y07)\", \"441\": \"Assault (homicide) by all other and unspecified means and their sequelae (*U01.0-*U01.3,*U01.5,*U01.8-*U01.9,*U02,X92,X96-X98, Y01-Y03,Y08-Y09,Y87.1)\", \"442\": \"Event of undetermined intent (Y10-Y34,Y87.2,Y89.9)\", \"443\": \"Poisoning by and exposure to drugs and biological substances, undetermined intent (Y10-Y14)\", \"444\": \"Poisoning by and exposure to other and unspecified solid or liquid substance undetermined intent (Y15-Y16,Y18-Y19)\", \"445\": \"Poisoning by and exposure to other gases and vapors, undetermined intent (Y17)\", \"446\": \"Discharge of firearms, undetermined intent (Y22-Y24)\", \"447\": \"Falling, jumping or pushed from a high place, undetermined intent (Y30)\", \"448\": \"All other and unspecified events of undetermined intent and their sequelae (Y20-Y21,Y25-Y29,Y31-Y34,Y87.2,Y89.9)\", \"449\": \"Legal intervention (Y35,Y89.0)\", \"450\": \"Legal intervention (Y35.5)\", \"451\": \"Other legal intervention and their sequelae (Y35.0-Y35.4,Y35.6-Y35.7,Y89.0)\", \"452\": \"Operations of war and their sequelae (Y36,Y89.1)\", \"453\": \"Complications of medical and surgical care (Y40-Y84,Y88)\", \"454\": \"Drugs, medicaments and biological substances causing adverse effects in therapeutic use and their sequelae (Y40-Y59,Y88.0)\", \"455\": \"Misadventures to patients during medical and surgical care and their sequelae (Y60-Y69,Y88.1)\", \"456\": \"Other complications of medical and surgical care and their sequelae (Y70-Y84,Y88.2-Y88.3)\"}, \"113_cause_recode\": {\"001\": \"Salmonella infections (A01-A02)\", \"002\": \"Shigellosis and amebiasis (A03,A06)\", \"003\": \"Certain other intestinal infections (A04,A07-A09)\", \"004\": \"Tuberculosis (A16-A19)\", \"005\": \"Respiratory tuberculosis (A16)\", \"006\": \"Other tuberculosis (A17-A19)\", \"007\": \"Whooping cough (A37)\", \"008\": \"Scarlet fever and erysipelas (A38,A46)\", \"009\": \"Meningococcal infection (A39)\", \"010\": \"Septicemia (A40-A41)\", \"011\": \"Syphilis (A50-A53)\", \"012\": \"Acute poliomyelitis (A80)\", \"013\": \"Arthropod-borne viral encephalitis (A83-A84,A85.2)\", \"014\": \"Measles (B05)\", \"015\": \"Viral hepatitis (B15-B19)\", \"016\": \"Human immunodeficiency virus (HIV) disease (B20-B24)\", \"017\": \"Malaria (B50-B54)\", \"018\": \"Other and unspecified infectious and parasitic diseases and their sequelae (A00,A05,A20-A36,A42-A44,A48-A49,A54-A79,A81-A82,A85.0-A85.1,A85.8, A86-B04,B06-B09,B25-B49,B55-B99)\", \"019\": \"Malignant neoplasms (C00-C97)\", \"020\": \"Malignant neoplasms of lip, oral cavity and pharynx (C00-C14)\", \"021\": \"Malignant neoplasm of esophagus (C15)\", \"022\": \"Malignant neoplasm of stomach (C16)\", \"023\": \"Malignant neoplasms of colon, rectum and anus (C18-C21)\", \"024\": \"Malignant neoplasms of liver and intrahepatic bile ducts (C22)\", \"025\": \"Malignant neoplasm of pancreas (C25)\", \"026\": \"Malignant neoplasm of larynx (C32)\", \"027\": \"Malignant neoplasms of trachea, bronchus and lung (C33-C34)\", \"028\": \"Malignant melanoma of skin (C43)\", \"029\": \"Malignant neoplasm of breast (C50)\", \"030\": \"Malignant neoplasm of cervix uteri (C53)\", \"031\": \"Malignant neoplasms of corpus uteri and uterus, part unspecified (C54-C55)\", \"032\": \"Malignant neoplasm of ovary (C56)\", \"033\": \"Malignant neoplasm of prostate (C61)\", \"034\": \"Malignant neoplasms of kidney and renal pelvis (C64-C65)\", \"035\": \"Malignant neoplasm of bladder (C67)\", \"036\": \"Malignant neoplasms of meninges, brain and other parts of central nervous system (C70-C72)\", \"037\": \"Malignant neoplasms of lymphoid, hematopoietic and related tissue (C81-C96)\", \"038\": \"Hodgkin's disease (C81)\", \"039\": \"Non-Hodgkin's lymphoma (C82-C85)\", \"040\": \"Leukemia (C91-C95)\", \"041\": \"Multiple myeloma and immunoproliferative neoplasms (C88,C90)\", \"042\": \"Other and unspecified malignant neoplasms of lymphoid, hematopoietic and related tissue (C96)\", \"043\": \"All other and unspecified malignant neoplasms (C17,C23-C24,C26-C31,C37-C41, C44-C49,C51-C52,C57-C60,C62-C63,C66,C68-C69,C73-C80,C97)\", \"044\": \"In situ neoplasms, benign neoplasms and neoplasms of uncertain or unknown behavior (D00-D48)\", \"045\": \"Anemias (D50-D64)\", \"046\": \"Diabetes mellitus (E10-E14)\", \"047\": \"Nutritional deficiencies (E40-E64)\", \"048\": \"Malnutrition (E40-E46)\", \"049\": \"Other nutritional deficiencies (E50-E64)\", \"050\": \"Meningitis (G00,G03)\", \"051\": \"Parkinson's disease (G20-G21)\", \"052\": \"Alzheimer's disease (G30)\", \"053\": \"Major cardiovascular diseases (I00-I78)\", \"054\": \"Diseases of heart (I00-I09,I11,I13,I20-I51)\", \"055\": \"Acute rheumatic fever and chronic rheumatic heart diseases (I00-I09)\", \"056\": \"Hypertensive heart disease (I11)\", \"057\": \"Hypertensive heart and renal disease (I13)\", \"058\": \"Ischemic heart diseases (I20-I25)\", \"059\": \"Acute myocardial infarction (I21-I22)\", \"060\": \"Other acute ischemic heart diseases (I24)\", \"061\": \"Other forms of chronic ischemic heart disease (I20,I25)\", \"062\": \"Atherosclerotic cardiovascular disease, so described (I25.0)\", \"063\": \"All other forms of chronic ischemic heart disease (I20,I25.1-I25.9)\", \"064\": \"Other heart diseases (I26-I51)\", \"065\": \"Acute and subacute endocarditis (I33)\", \"066\": \"Diseases of pericardium and acute myocarditis (I30-I31,I40)\", \"067\": \"Heart failure (I50)\", \"068\": \"All other forms of heart disease (I26-I28,I34-I38,I42-I49,I51)\", \"069\": \"Essential (primary) hypertension and hypertensive renal disease (I10,I12)\", \"070\": \"Cerebrovascular diseases (I60-I69)\", \"071\": \"Atherosclerosis (I70)\", \"072\": \"Other diseases of circulatory system (I71-I78)\", \"073\": \"Aortic aneurysm and dissection (I71)\", \"074\": \"Other diseases of arteries, arterioles and capillaries (I72-I78)\", \"075\": \"Other disorders of circulatory system (I80-I99)\", \"076\": \"Influenza and pneumonia (J10-J18)\", \"077\": \"Influenza (J10-J11)\", \"078\": \"Pneumonia (J12-J18)\", \"079\": \"Other acute lower respiratory infections (J20-J22)\", \"080\": \"Acute bronchitis and bronchiolitis (J20-J21)\", \"081\": \"Unspecified acute lower respiratory infection (J22)\", \"082\": \"Chronic lower respiratory diseases (J40-J47)\", \"083\": \"Bronchitis, chronic and unspecified (J40-J42)\", \"084\": \"Emphysema (J43)\", \"085\": \"Asthma (J45-J46)\", \"086\": \"Other chronic lower respiratory diseases (J44,J47)\", \"087\": \"Pneumoconioses and chemical effects (J60-J66,J68)\", \"088\": \"Pneumonitis due to solids and liquids (J69)\", \"089\": \"Other diseases of respiratory system (J00-J06,J30-J39,J67,J70-J98)\", \"090\": \"Peptic ulcer (K25-K28)\", \"091\": \"Diseases of appendix (K35-K38)\", \"092\": \"Hernia (K40-K46)\", \"093\": \"Chronic liver disease and cirrhosis (K70,K73-K74)\", \"094\": \"Alcoholic liver disease (K70)\", \"095\": \"Other chronic liver disease and cirrhosis (K73-K74)\", \"096\": \"Cholelithiasis and other disorders of gallbladder (K80-K82)\", \"097\": \"Nephritis, nephrotic syndrome and nephrosis (N00-N07,N17-N19,N25-N27)\", \"098\": \"Acute and rapidly progressive nephritic and nephrotic syndrome (N00-N01,N04)\", \"099\": \"Chronic glomerulonephritis, nephritis and nephropathy not specified as acute or chronic, and renal sclerosis unspecified (N02-N03,N05-N07,N26)\", \"100\": \"Renal failure (N17-N19)\", \"101\": \"Other disorders of kidney (N25,N27)\", \"102\": \"Infections of kidney (N10-N12,N13.6,N15.1)\", \"103\": \"Hyperplasia of prostate (N40)\", \"104\": \"Inflammatory diseases of female pelvic organs (N70-N76)\", \"105\": \"Pregnancy, childbirth and the puerperium (O00-O99)\", \"106\": \"Pregnancy with abortive outcome (O00-O07)\", \"107\": \"Other complications of pregnancy, childbirth and the puerperium (O10-O99)\", \"108\": \"Certain conditions originating in the perinatal period (P00-P96)\", \"109\": \"Congenital malformations, deformations and chromosomal abnormalities (Q00-Q99)\", \"110\": \"Symptoms, signs and abnormal clinical and laboratory findings, not elsewhere classified (R00-R99)\", \"111\": \"All other diseases (Residual) (D65-E07,E15-E34,E65-F99,G04-G12,G23-G25,G31-H93, K00-K22,K29-K31,K50-K66,K71-K72,K75-K76,K83-M99, N13.0-N13.5,N13.7-N13.9, N14,N15.0,N15.8-N15.9,N20-N23,N28-N39,N41-N64,N80-N98)\", \"112\": \"Accidents (unintentional injuries) (V01-X59,Y85-Y86)\", \"113\": \"Transport accidents (V01-V99,Y85)\", \"114\": \"Motor vehicle accidents (V02-V04,V09.0,V09.2,V12-V14,V19.0-V19.2, V19.4-V19.6,V20-V79,V80.3-V80.5,V81.0-V81.1,V82.0-V82.1,V83-V86, V87.0-V87.8,V88.0-V88.8,V89.0,V89.2)\", \"115\": \"Other land transport accidents (V01,V05-V06,V09.1,V09.3-V09.9, V10-V11, V15-V18,V19.3,V19.8-V19.9,V80.0-V80.2,V80.6-V80.9,V81.2-V81.9, V82.2-V82.9,V87.9,V88.9,V89.1,V89.3,V89.9)\", \"116\": \"Water, air and space, and other and unspecified transport accidents and their sequelae (V90-V99,Y85)\", \"117\": \"Nontransport accidents (W00-X59,Y86)\", \"118\": \"Falls (W00-W19)\", \"119\": \"Accidental discharge of firearms (W32-W34)\", \"120\": \"Accidental drowning and submersion (W65-W74)\", \"121\": \"Accidental exposure to smoke, fire and flames (X00-X09)\", \"122\": \"Accidental poisoning and exposure to noxious substances (X40-X49)\", \"123\": \"Other and unspecified nontransport accidents and their sequelae (W20-W31,W35-W64,W75-W99,X10-X39,X50-X59,Y86)\", \"124\": \"Intentional self-harm (suicide) (*U03,X60-X84,Y87.0)\", \"125\": \"Intentional self-harm (suicide) by discharge of firearms (X72-X74)\", \"126\": \"Intentional self-harm (suicide) by other and unspecified means and their sequelae (*U03,X60-X71,X75-X84,Y87.0)\", \"127\": \"Assault (homicide) (*U01-*U02,X85-Y09,Y87.1)\", \"128\": \"Assault (homicide) by discharge of firearms (*U01.4,X93-X95)\", \"129\": \"Assault (homicide) by other and unspecified means and their sequelae (*U01.0-*U01.3,*U01.5-*U01.9,*U02,X85-X92,X96-Y09,Y87.1)\", \"130\": \"Legal intervention (Y35,Y89.0)\", \"131\": \"Events of undetermined intent (Y10-Y34,Y87.2,Y89.9)\", \"132\": \"Discharge of firearms, undetermined intent (Y22-Y24)\", \"133\": \"Other and unspecified events of undetermined intent and their sequelae (Y10-Y21,Y25-Y34,Y87.2,Y89.9)\", \"134\": \"Operations of war and their sequelae (Y36,Y89.1)\", \"135\": \"Complications of medical and surgical care (Y40-Y84,Y88)\"}, \"130_infant_cause_recode\": {\"001\": \"Certain infectious and parasitic diseases (A00-B99)\", \"002\": \"Certain intestinal infectious diseases (A00-A08)\", \"003\": \"Diarrhea and gastroenteritis of infectious origin (A09)\", \"004\": \"Tuberculosis (A16-A19)\", \"005\": \"Tetanus (A33,A35)\", \"006\": \"Diphtheria (A36)\", \"007\": \"Whooping cough (A37)\", \"008\": \"Meningococcal infection (A39)\", \"009\": \"Septicemia (A40-A41)\", \"010\": \"Congenital syphilis (A50)\", \"011\": \"Gonococcal infection (A54)\", \"012\": \"Viral diseases (A80-B34)\", \"013\": \"Acute poliomyelitis (A80)\", \"014\": \"Varicella (chickenpox) (B01)\", \"015\": \"Measles (B05)\", \"016\": \"Human immunodeficiency virus (HIV) disease (B20-B24)\", \"017\": \"Mumps (B26)\", \"018\": \"Other and unspecified viral diseases (A81-B00,B02-B04,B06-B19,B25,B27-B34)\", \"019\": \"Candidiasis (B37)\", \"020\": \"Malaria (B50-B54)\", \"021\": \"Pneumocystosis (B59)\", \"022\": \"All other and unspecified infectious and parasitic diseases (A20-A32,A38,A42-A49,A51-A53,A55-A79,B35-B36,B38-B49,B55-B58,B60-B99)\", \"023\": \"Neoplasms (C00-D48)\", \"024\": \"Malignant neoplasms (C00-C97)\", \"025\": \"Hodgkin's disease and non-Hodgkin's lymphomas (C81-C85)\", \"026\": \"Leukemia (C91-C95)\", \"027\": \"Other and unspecified malignant neoplasms (C00-C80,C88,C90,C96-C97)\", \"028\": \"In situ neoplasms, benign neoplasms and neoplasms of uncertain or unknown behavior (D00-D48)\", \"029\": \"Diseases of the blood and blood-forming organs and certain disorders involving the immune mechanism (D50-D89)\", \"030\": \"Anemias (D50-D64)\", \"031\": \"Hemorrhagic conditions and other diseases of blood and blood-forming organs (D65-D76)\", \"032\": \"Certain disorders involving the immune mechanism (D80-D89)\", \"033\": \"Endocrine, nutritional and metabolic diseases (E00-E88)\", \"034\": \"Short stature, not elsewhere classified (E34.3)\", \"035\": \"Nutritional deficiencies (E40-E64)\", \"036\": \"Cystic fibrosis (E84)\", \"037\": \"Volume depletion, disorders of fluid, electrolyte and acid-base balance (E86-E87)\", \"038\": \"All other endocrine, nutritional and metabolic diseases (E00-E32,E34.0-E34.2,E34.4-E34.9,E65-E83,E85,E88)\", \"039\": \"Diseases of the nervous system (G00-G98)\", \"040\": \"Meningitis (G00,G03)\", \"041\": \"Infantile spinal muscular atrophy, type I (Werdnig-Hoffman) (G12.0)\", \"042\": \"Infantile cerebral palsy (G80)\", \"043\": \"Anoxic brain damage, not elsewhere classified (G93.1)\", \"044\": \"Other diseases of nervous system (G04,G06-G11,G12.1-G12.9,G20-G72,G81-G92,G93.0,G93.2-G93.9,G95-G98)\", \"045\": \"Diseases of the ear and mastoid process (H60-H93)\", \"046\": \"Diseases of the circulatory system (I00-I99)\", \"047\": \"Pulmonary heart disease and diseases of pulmonary circulation (I26-I28)\", \"048\": \"Pericarditis, endocarditis and myocarditis (I30,I33,I40)\", \"049\": \"Cardiomyopathy (I42)\", \"050\": \"Cardiac arrest (I46)\", \"051\": \"Cerebrovascular diseases (I60-I69)\", \"052\": \"All other diseases of circulatory system (I00-I25,I31,I34-I38,I44-I45,I47-I51, I70-I99)\", \"053\": \"Diseases of the respiratory system (J00-J98)\", \"054\": \"Acute upper respiratory infections (J00-J06)\", \"055\": \"Influenza and pneumonia (J10-J18)\", \"056\": \"Influenza (J10-J11)\", \"057\": \"Pneumonia (J12-J18)\", \"058\": \"Acute bronchitis and acute bronchiolitis (J20-J21)\", \"059\": \"Bronchitis, chronic and unspecified (J40-J42)\", \"060\": \"Asthma (J45-J46)\", \"061\": \"Pneumonitis due to solids and liquids (J69)\", \"062\": \"Other and unspecified diseases of respiratory system (J22,J30-J39,J43-J44,J47-J68,J70-J98)\", \"063\": \"Diseases of the digestive system (K00-K92)\", \"064\": \"Gastritis, duodenitis, and noninfective enteritis and colitis (K29,K50-K55)\", \"065\": \"Hernia of abdominal cavity and intestinal obstruction without hernia (K40-K46,K56)\", \"066\": \"All other and unspecified diseases of digestive system (K00-K28,K30-K38,K57-K92)\", \"067\": \"Diseases of the genitourinary system (N00-N95)\", \"068\": \"Renal failure and other disorders of kidney (N17-N19,N25,N27)\", \"069\": \"Other and unspecified diseases of genitourinary system (N00-N15,N20-N23,N26,N28-N95)\", \"070\": \"Certain conditions originating in the perinatal period (P00-P96)\", \"071\": \"Newborn affected by maternal factors and by complications of pregnancy, labor and delivery (P00-P04)\", \"072\": \"Newborn affected by maternal hypertensive disorders (P00.0)\", \"073\": \"Newborn affected by other maternal conditions which may be unrelated to present pregnancy (P00.1-P00.9)\", \"074\": \"Newborn affected by maternal complications of pregnancy (P01)\", \"075\": \"Newborn affected by incompetent cervix (P01.0)\", \"076\": \"Newborn affected by premature rupture of membranes (P01.1)\", \"077\": \"Newborn affected by multiple pregnancy (P01.5)\", \"078\": \"Newborn affected by other maternal complications of pregnancy (P01.2-P01.4,P01.6-P01.9)\", \"079\": \"Newborn affected by complications of placenta, cord and membranes (P02)\", \"080\": \"Newborn affected by complications involving placenta (P02.0-P02.3)\", \"081\": \"Newborn affected by complications involving cord (P02.4-P02.6)\", \"082\": \"Newborn affected by chorioamnionitis (P02.7)\", \"083\": \"Newborn affected by other and unspecified abnormalities of membranes (P02.8-P02.9)\", \"084\": \"Newborn affected by other complications of labor and delivery (P03)\", \"085\": \"Newborn affected by noxious influences transmitted via placenta or breast milk (P04)\", \"086\": \"Disorders related to length of gestation and fetal malnutrition (P05-P08)\", \"087\": \"Slow fetal growth and fetal malnutrition (P05)\", \"088\": \"Disorders related to short gestation and low birthweight, not elsewhere classified (P07)\", \"089\": \"Extremely low birthweight or extreme immaturity (P07.0,P07.2)\", \"090\": \"Other low birthweight or preterm (P07.1,P07.3)\", \"091\": \"Disorders related to long gestation and high birthweight (P08)\", \"092\": \"Birth trauma (P10-P15)\", \"093\": \"Intrauterine hypoxia and birth asphyxia (P20-P21)\", \"094\": \"Intrauterine hypoxia (P20)\", \"095\": \"Birth asphyxia (P21)\", \"096\": \"Respiratory distress of newborn (P22)\", \"097\": \"Other respiratory conditions originating in the perinatal period (P23-P28)\", \"098\": \"Congenital pneumonia (P23)\", \"099\": \"Neonatal aspiration syndromes (P24)\", \"100\": \"Interstitial emphysema and related conditions originating in the perinatal period (P25)\", \"101\": \"Pulmonary hemorrhage originating in the perinatal period (P26)\", \"102\": \"Chronic respiratory disease originating in the perinatal period (P27)\", \"103\": \"Atelectasis (P28.0-P28.1)\", \"104\": \"All other respiratory conditions originating in the perinatal period (P28.2-P28.9)\", \"105\": \"Infections specific to the perinatal period (P35-P39)\", \"106\": \"Bacterial sepsis of newborn (P36)\", \"107\": \"Omphalitis of newborn with or without mild hemorrhage (P38)\", \"108\": \"All other infections specific to the perinatal period (P35,P37,P39)\", \"109\": \"Hemorrhagic and hematological disorders of newborn (P50-P61)\", \"110\": \"Neonatal hemorrhage (P50-P52,P54)\", \"111\": \"Hemorrhagic disease of newborn (P53)\", \"112\": \"Hemolytic disease of newborn due to isoimmunization and other perinatal jaundice (P55-P59)\", \"113\": \"Hematological disorders (P60-P61)\", \"114\": \"Syndrome of infant of a diabetic mother and neonatal diabetes mellitus (P70.0-P70.2)\", \"115\": \"Necrotizing enterocolitis of newborn (P77)\", \"116\": \"Hydrops fetalis not due to hemolytic disease (P83.2)\", \"117\": \"Other perinatal conditions (P29,P70.3-P70.9,P71-P76,P78-P81,P83.0-P83.1, P83.3-P83.9,P90-P96)\", \"118\": \"Congenital malformations, deformations and chromosomal abnormalities (Q00-Q99)\", \"119\": \"Anencephaly and similar malformations (Q00)\", \"120\": \"Congenital hydrocephalus (Q03)\", \"121\": \"Spina bifida (Q05)\", \"122\": \"Other congenital malformations of nervous system (Q01-Q02,Q04,Q06-Q07)\", \"123\": \"Congenital malformations of heart (Q20-Q24)\", \"124\": \"Other congenital malformations of circulatory system (Q25-Q28)\", \"125\": \"Congenital malformations of respiratory system (Q30-Q34)\", \"126\": \"Congenital malformations of digestive system (Q35-Q45)\", \"127\": \"Congenital malformations of genitourinary system (Q50-Q64)\", \"128\": \"Congenital malformations and deformations of musculoskeletal system, limbs and integument (Q65-Q85)\", \"129\": \"Down's syndrome (Q90)\", \"130\": \"Edward's syndrome (Q91.0-Q91.3)\", \"131\": \"Patau's syndrome (Q91.4-Q91.7)\", \"132\": \"Other congenital malformations and deformations (Q10-Q18,Q86-Q89)\", \"133\": \"Other chromosomal abnormalities, not elsewhere classified (Q92-Q99)\", \"134\": \"Symptoms, signs and abnormal clinical and laboratory findings, not elsewhere classified (R00-R99)\", \"135\": \"Sudden infant death syndrome (R95)\", \"136\": \"Other symptoms, signs and abnormal clinical and laboratory findings, not elsewhere classified (R00-R53,R55-R94,R96-R99)\", \"137\": \"All other diseases (Residual) (F01-F99,H00-H57,L00-M99)\", \"138\": \"External causes of mortality (*U01,V01-Y84)\", \"139\": \"Accidents (unintentional injuries) (V01-X59)\", \"140\": \"Transport accidents (V01-V99)\", \"141\": \"Motor vehicle accidents(V02-V04,V09.0,V09.2,V12-V14,V19.0-V19.2, V19.4-V19.6,V20-V79,V80.3-V80.5,V81.0-V81.1,V82.0-V82.1,V83-V86, V87.0-V87.8,V88.0-V88.8,V89.0,V89.2)\", \"142\": \"Other and unspecified transport accidents (V01,V05-V06,V09.1,V09.3-V09.9,V10-V11,V15-V18,V19.3, V19.8-V19.9,V80.0-V80.2,V80.6-V80.9,V81.2-V81.9,V82.2-V82.9, V87.9,V88.9,V89.1,V89.3,V89.9,V90-V99)\", \"143\": \"Falls (W00-W19)\", \"144\": \"Accidental discharge of firearms (W32-W34)\", \"145\": \"Accidental drowning and submersion (W65-W74)\", \"146\": \"Accidental suffocation and strangulation in bed (W75)\", \"147\": \"Other accidental suffocation and strangulation (W76-W77,W81-W84)\", \"148\": \"Accidental inhalation and ingestion of food or other objects causing obstruction of respiratory tract (W78-W80)\", \"149\": \"Accidents caused by exposure to smoke, fire and flames (X00-X09)\", \"150\": \"Accidental poisoning and exposure to noxious substances (X40-X49)\", \"151\": \"Other and unspecified accidents (W20-W31,W35-W64,W85-W99,X10-X39,X50-X59)\", \"152\": \"Assault (homicide) (*U01,X85-Y09)\", \"153\": \"Assault (homicide) by hanging, strangulation and suffocation (X91)\", \"154\": \"Assault (homicide) by discharge of firearms (*U01.4,X93-X95)\", \"155\": \"Neglect, abandonment and other maltreatment syndromes (Y06-Y07)\", \"156\": \"Assault (homicide) by other and unspecified means (*U01.0-*U01.3,*U01.5-*U01.9,X85-X90,X92,X96-X99,Y00-Y05,Y08-Y09)\", \"157\": \"Complications of medical and surgical care (Y40-Y84)\", \"158\": \"Other external causes (Y10-Y36),\"}, \"39_cause_recode\": {\"001\": \"Tuberculosis (A16-A19)\", \"002\": \"Syphilis (A50-A53)\", \"003\": \"Human immunodeficiency virus (HIV) disease (B20-B24)\", \"004\": \"Malignant neoplasms (C00-C97)\", \"005\": \"Malignant neoplasm of stomach (C16)\", \"006\": \"Malignant neoplasms of colon, rectum and anus (C18-C21)\", \"007\": \"Malignant neoplasm of pancreas (C25)\", \"008\": \"Malignant neoplasms of trachea, bronchus and lung (C33-C34)\", \"009\": \"Malignant neoplasm of breast (C50)\", \"010\": \"Malignant neoplasms of cervix uteri, corpus uteri and ovary (C53-C56)\", \"011\": \"Malignant neoplasm of prostate (C61)\", \"012\": \"Malignant neoplasms of urinary tract (C64-C68)\", \"013\": \"Non-Hodgkin's lymphoma (C82-C85)\", \"014\": \"Leukemia (C91-C95)\", \"015\": \"Other malignant neoplasms (C00-C15,C17,C22-C24,C26-C32,C37-C49,C51-C52, C57-C60,C62-C63,C69-C81,C88,C90,C96-C97)\", \"016\": \"Diabetes mellitus (E10-E14)\", \"017\": \"Alzheimer's disease (G30)\", \"018\": \"Major cardiovascular diseases (I00-I78)\", \"019\": \"Diseases of heart (I00-I09,I11,I13,I20-I51)\", \"020\": \"Hypertensive heart disease with or without renal disease (I11,I13)\", \"021\": \"Ischemic heart diseases (I20-I25)\", \"022\": \"Other diseases of heart (I00-I09,I26-I51)\", \"023\": \"Essential (primary) hypertension and hypertensive renal disease (I10,I12)\", \"024\": \"Cerebrovascular diseases (I60-I69)\", \"025\": \"Atherosclerosis (I70)\", \"026\": \"Other diseases of circulatory system (I71-I78)\", \"027\": \"Influenza and pneumonia (J10-J18)\", \"028\": \"Chronic lower respiratory diseases (J40-J47)\", \"029\": \"Peptic ulcer (K25-K28)\", \"030\": \"Chronic liver disease and cirrhosis (K70,K73-K74)\", \"031\": \"Nephritis, nephrotic syndrome, and nephrosis (N00-N07,N17-N19,N25-N27)\", \"032\": \"Pregnancy, childbirth and the puerperium (O00-O99)\", \"033\": \"Certain conditions originating in the perinatal period (P00-P96)\", \"034\": \"Congenital malformations, deformations and chromosomal abnormalities (Q00-Q99)\", \"035\": \"Sudden infant death syndrome (R95)\", \"036\": \"Symptoms, signs and abnormal clinical and laboratory findings, not elsewhere classified (excluding Sudden infant death syndrome) (R00-R94,R96-R99)\", \"037\": \"All other diseases (Residual) (A00-A09,A20-A49,A54-B19,B25-B99,D00-E07, E15-G25,G31-H93,I80-J06,J20-J39,J60-K22,K29-K66,K71-K72, K75-M99,N10-N15,N20-N23,N28-N98)\", \"038\": \"Motor vehicle accidents (V02-V04,V09.0,V12-V14,V19.0-V19.2,V19.4-V19.6, V20-V79,V80.3-V80.5,V81.0-V81.1,V82.0-V82.1,V83-V86,V87.0-V87.8, V88.0-V88.8,V89.0,V89.2)\", \"039\": \"All other and unspecified accidents and adverse effects (V01,V05-V06,V09.1,V09.3-V09.9,V10-V11,V15-V18,V19.3,V19.8-V19.9, V80.0-V80.2,V80.6-V80.9,V81.2-V81.9,V82.2-V82.9,V87.9,V88.9,V89.1, V89.3,V89.9,V90-X59,Y40-Y86,Y88)\", \"040\": \"Intentional self-harm (suicide) (*U03,X60-X84,Y87.0)\", \"041\": \"Assault (homicide) (*U01-*U02,X85-Y09,Y87.1)\", \"042\": \"All other external causes (Y10-Y36,Y87.2,Y89)\"}\"\"\""
   ]
  },
  {
   "cell_type": "code",
   "execution_count": 54,
   "id": "347b1f9e-d0d7-41fd-870c-287950015426",
   "metadata": {},
   "outputs": [],
   "source": [
    "#use regex to remove \" \" around numeric values in dictonary information\n",
    "import re\n",
    "pattern = r'\\\"0*([1-9][0-9]*)\\\"'\n",
    "result = re.sub(pattern, r'\\1', text)"
   ]
  },
  {
   "cell_type": "code",
   "execution_count": 55,
   "id": "097befec-ab6d-4ad4-943c-58d235582ba3",
   "metadata": {},
   "outputs": [
    {
     "data": {
      "text/plain": [
       "'\"358_cause_recode\": {1: \"I. Certain infectious and parasitic diseases (A00-B99)\", 2: \"Intestinal infectious diseases (A00-A09)\", 3: \"Cholera (A00)\", 4: \"Other intestinal infectious diseases (A01-A08)\", 5: \"Typhoid fever (A01.0)\", 6: \"Paratyphoid fevers and other salmonella infections (A01.1-A01.4,A02)\", 7: \"Shigellosis (A03)\", 8: \"Other bacterial food-borne intoxications (A05)\", 9: \"Amebiasis (A06)\", 10: \"Intestinal infections due to other specified organisms (A04,A07-A08)\", 11: \"Diarrhea and gastroenteritis of infectious origin (A09)\", 12: \"Tuberculosis (A16-A19)\", 13: \"Respiratory tuberculosis (A16)\", 14: \"Other tuberculosis (A17-A19)\", 15: \"Zoonotic and other bacterial diseases (A20-A49)\", 16: \"Plague (A20)\", 17: \"Brucellosis (A23)\", 18: \"Tetanus (A33-A35)\", 19: \"Diptheria (A36)\", 20: \"Whooping cough (A37)\", 21: \"Scarlet fever and erysipelas (A38,A46)\", 22: \"Meningococcal infection (A39)\", 23: \"Septicemia (A40-A41)\", 24: \"Other zoonotic and bacterial diseases (A21-A22,A24-A32,A42-A44, A48-A49)\", 25: \"Infections with a predominately sexual mode of transmission (A50-A64)\", 26: \"Syphilis (A50-A53)\", 27: \"Cardiovascular syphilis (A52.0)\", 28: \"Neurosyphilis (A52.1-A52.3)\", 29: \"Other and unspecified syphilis (A50-A51,A52.7-A52.9,A53)\", 30: \"Gonococcal infection (A54)\", 31: \"Other infections with a predominately sexual mode of transmission (A55-A64)\", 32: \"Other infections caused by spirochetes, chlamydia or rickettsia (A65-A79)\", 33: \"Lyme disease (A69.2)\", 34: \"Typhus fever (A75)\", 35: \"All other infections caused by spirochetes, chlamydia or rickettsia (A65-A68,A69.0-A69.1,A69.8-A69.9,A70-A74,A77-A79)\", 36: \"Viral diseases (A80-B34)\", 37: \"Acute poliomyelitis (A80)\", 38: \"Rabies (A82)\", 39: \"Arthropod-borne viral encephalitis (A83-A84,A85.2)\", 40: \"Yellow fever (A95)\", 41: \"Other and unspecified arthropod-borne viral and hemorrhagic fevers (A90-A94,A96-A99)\", 42: \"Herpesviral (herpes simplex) infections (B00)\", 43: \"Zoster (herpes zoster) (B02)\", 44: \"Smallpox (B03)\", 45: \"Measles (B05)\", 46: \"Rubella (German measles) (B06)\", 47: \"Viral hepatitis (B15-B19)\", 48: \"Human immunodeficiency virus (HIV) disease (B20-B24)\", 49: \"Human immunodeficiency virus (HIV) disease resulting in infectious and parasitic diseases (B20)\", 50: \"Human immunodeficiency virus (HIV) disease resulting in malignant neoplasms (B21)\", 51: \"Human immunodeficiency virus (HIV) disease resulting in other specified diseases (B22)\", 52: \"Human immunodeficiency virus (HIV) disease resulting in other conditions (B23)\", 53: \"Unspecified human immunodeficiency virus (HIV) disease (B24)\", 54: \"All other and unspecified viral diseases (A81,A85.0-A85.1,A85.8, A86-A89,B01,B04,B07-B09,B25-B34)\", 55: \"Other and unspecified infectious and parasitic diseases and their sequelae (B35-B99)\", 56: \"Mycoses (B35-B49)\", 57: \"Protozoal diseases (B50-B64)\", 58: \"Malaria (B50-B54)\", 59: \"Leishmaniasis (B55)\", 60: \"Trypanosomiasis (B56-B57)\", 61: \"Pneumocystosis (B59)\", 62: \"Other and unspecified protozoal diseases (B58,B60-B64)\", 63: \"Helminthiases (B65-B83)\", 64: \"Schistosomiasis (bilharziasis) (B65)\", 65: \"Other and unspecified helminthiases (B66-B83)\", 66: \"Sequelae of tuberculosis (B90)\", 67: \"Sequelae of poliomyelitis (B91)\", 68: \"All other and unspecified infectious and parasitic diseases and their sequelae (B85-B89,B92-B99)\", 69: \"II. Neoplasms (C00-D48)\", 70: \"Malignant neoplasms (C00-C97)\", 71: \"Malignant neoplasms of lip, oral cavity and pharynx (C00-C14)\", 72: \"Of lip (C00)\", 73: \"Of tongue (C01-C02)\", 74: \"Of pharynx (C10-C13,C14.0)\", 75: \"Of other and unspecified sites within the lip, oral cavity and pharynx (C03-C09,C14.2-C14.8)\", 76: \"Malignant neoplasms of digestive organs (C15-C26)\", 77: \"Of esophagus (C15)\", 78: \"Of stomach (C16)\", 79: \"Of small intestine (C17)\", 80: \"Of colon, rectum and anus (C18-C21)\", 81: \"Colon (C18)\", 82: \"Rectosigmoid junction and rectum (C19-C20)\", 83: \"Anus and anus canal (C21)\", 84: \"Of liver and intrahepatic bile ducts (C22)\", 85: \"Liver (C22.0,C22.2-C22.9)\", 86: \"Intrahepatic bile duct carcinoma (C22.1)\", 87: \"Of gallbladder and extrahepatic bile ducts (C23-C24)\", 88: \"Of pancreas (C25)\", 89: \"Of other and ill-defined digestive organs (C26)\", 90: \"Malignant neoplasms of respiratory and intrathoracic organs (C30-C39)\", 91: \"Of nasal cavity, middle ear and accessory sinuses (C30-C31)\", 92: \"Of larynx (C32)\", 93: \"Of trachea, bronchus and lung (C33-C34)\", 94: \"Of thymus, heart, mediastinum and pleura (C37-C38)\", 95: \"Of other and ill-defined sites in respiratory system and intrathoracic organs (C39)\", 96: \"Malignant neoplasms of bone and articular cartilage (C40-C41)\", 97: \"Melanoma and other malignant neoplasms of skin (C43-C44)\", 98: \"Malignant melanoma of skin (C43)\", 99: \"Other malignant neoplasms of skin (C44)\", 100: \"Malignant neoplasms of mesothelial and soft tissue (C45-C49)\", 101: \"Mesothelioma (C45)\", 102: \"Kaposi=s sarcoma (C46)\", 103: \"Of other mesothelial and soft tissue (C47-C49)\", 104: \"Malignant neoplasm of breast (C50)\", 105: \"Malignant neoplasms of female genital organs (C51-C58)\", 106: \"Of vulva and vagina (C51-C52)\", 107: \"Of cervix uteri (C53)\", 108: \"Of corpus uteri and uterus, part unspecified (C54-C55)\", 109: \"Of ovary (C56)\", 110: \"Of other and unspecified female genital organs (C57)\", 111: \"Of placenta (C58)\", 112: \"Malignant neoplasms of male genital organs (C60-C63)\", 113: \"Of prostate (C61)\", 114: \"Of testis (C62)\", 115: \"Of penis and other and unspecified male genital organs (C60,C63)\", 116: \"Malignant neoplasms of urinary tract (C64-C68)\", 117: \"Of kidney and renal pelvis (C64-C65)\", 118: \"Of bladder (C67)\", 119: \"Of other and unspecified sites within the urinary tract (C66,C68)\", 120: \"Malignant neoplasm of eye and adnexa (C69)\", 121: \"Malignant neoplasms of meninges, brain and other parts of central nervous system (C70-C72)\", 122: \"Of brain (C71)\", 123: \"Of other parts of central nervous system (C70,C72)\", 124: \"Malignant neoplasms of thyroid and other endocrine glands (C73-C75)\", 125: \"Other malignant neoplasms of other and unspecified sites (C76-C80,C97)\", 126: \"Malignant neoplasms of lymphoid, hematopoietic and related tissue (C81-C96)\", 127: \"Hodgkin=s disease (C81)\", 128: \"Of other lymphoid, hematopoietic and related tissue (C82-C85,C96)\", 129: \"Non-Hodgkin=s lymphoma (C82-C85)\", 130: \"Of other and unspecified lymphoid, hematopoietic and related tissue (C96)\", 131: \"Malignant immunoproliferative diseases (C88)\", 132: \"Multiple myeloma and malignant plasma cell neoplasms (C90)\", 133: \"Leukemia (C91-C95)\", 134: \"Lymphoid leukemia (C91)\", 135: \"Myeloid leukemia (C92)\", 136: \"Monocytic leukemia (C93)\", 137: \"Other and unspecified leukemia (C94-C95)\", 138: \"In situ neoplasms (D00-D09)\", 139: \"Carcinoma in situ of breast and genitourinary system (D05-D07)\", 140: \"Carcinoma in situ of other and unspecified sites (D00-D04,D09)\", 141: \"Benign neoplasms (D10-D36)\", 142: \"Of female genital organs (D25-D28)\", 143: \"Of eye, brain and other parts of central nervous system (D31-D33)\", 144: \"Of other and unspecified sites (D10-D24,D29-D30,D34-D36)\", 145: \"Neoplasms of uncertain or unknown behavior of specified sites (D37-D47)\", 146: \"Neoplasms of uncertain or unknown behavior of unspecified sites (D48)\", 147: \"III. Diseases of the blood and blood-forming organs and certain disorders involving the immune mechanism (D50-D89)\", 148: \"Anemias (D50-D64)\", 149: \"Nutritional anemias (D50-D53)\", 150: \"Hemolytic anemias (D55-D59)\", 151: \"Aplastic anemias (D60-D61)\", 152: \"Acute posthemorrhagic and other anemias (D62,D64)\", 153: \"Coagulation defects, purpura and other hemorrhagic conditions (D65-D69)\", 154: \"Other diseases of blood and blood-forming organs (D70-D76)\", 155: \"Certain disorders involving the immune mechanism (D80-D89)\", 156: \"IV. Endocrine, nutritional and metabolic diseases (E00-E88)\", 157: \"Endocrine diseases (E00-E34)\", 158: \"Disorders of thyroid gland (E00-E07)\", 159: \"Diabetes mellitus (E10-E14)\", 160: \"Disorders of pituitary gland (E22-E23)\", 161: \"Disorders of adrenal glands (E24-E27)\", 162: \"Diseases of thymus (E32)\", 163: \"Other endocrine diseases (E15-E21,E28-E31,E34)\", 164: \"Nutritional diseases (E40-E68)\", 165: \"Malnutrition (E40-E46)\", 166: \"Nutritional marasmus (E41)\", 167: \"Other and unspecified malnutrition (E40,E42-E46)\", 168: \"Other nutritional deficiences (E50-E64)\", 169: \"Obesity and other hyperalimentation (E65-E68)\", 170: \"Metabolic disorders (E70-E88)\", 171: \"Cystic fibrosis (E84)\", 172: \"Volume depletion, disorders of fluid, electrolyte and acid-base balance (E86-E87)\", 173: \"Other metabolic disorders (E70-E83,E85,E88)\", 174: \"V. Mental and behavioral disorders (F01-F99)\", 175: \"Organic dementia (F01,F03)\", 176: \"Other and unspecified organic mental disorders (F04-F09)\", 177: \"Mental and behavioral disorders due to psychoactive substance use (F10-F19)\", 178: \"Mental and behavioral disorders due to use of alcohol (F10)\", 179: \"Mental and behavioral disorders due to other psychoactive substance use (F11-F19)\", 180: \"Schizophrenia, schizotypal and delusional disorders (F20-F29)\", 181: \"Mood (affective) disorders (F30-F39)\", 182: \"Neurotic, stress-related and somatoform disorders (F40-F48)\", 183: \"Mental retardation (F70-F79)\", 184: \"Other and unspecified mental and behavioral disorders (F50-F69,F80-F99)\", 185: \"VI. Diseases of the nervous system (G00-G98)\", 186: \"Meningitis (G00,G03)\", 187: \"Other inflammatory diseases of central nervous system (G04-G09)\", 188: \"Parkinson=s disease (G20-G21)\", 189: \"Alzheimer=s disease (G30)\", 190: \"Multiple sclerosis (G35)\", 191: \"Epilepsy (G40-G41)\", 192: \"Transient cerebral ischemic attacks and related syndromes (G45)\", 193: \"Infantile cerebral palsy (G80)\", 194: \"All other diseases of nervous system (G10-G12,G23-G25,G31,G36-G37,G43-G44,G47-G72,G81-G98)\", 195: \"VII. Diseases of the eye and adnexa (H00-H57)\", 196: \"VIII. Diseases of the ear and mastoid process (H60-H93)\", 197: \"IX. Diseases of the circulatory system (I00-I99)\", 198: \"Acute rheumatic fever and chronic rheumatic heart diseases (I00-I09)\", 199: \"Acute rheumatic fever (I00-I02)\", 200: \"Chronic rheumatic heart diseases (I05-I09)\", 201: \"Rheumatic mitral valve diseases (I05)\", 202: \"Rheumatic aortic valve diseases (I06)\", 203: \"Disorders of both mitral and aortic valves (I08.0)\", 204: \"Other chronic rheumatic heart diseases (I07,I08.1-I08.9,I09)\", 205: \"Hypertensive diseases (I10-I13)\", 206: \"Essential (primary) hypertension (I10)\", 207: \"Hypertensive heart disease (I11)\", 208: \"Hypertensive renal disease (I12)\", 209: \"Hypertensive heart and renal disease (I13)\", 210: \"Ischemic heart diseases (I20-I25)\", 211: \"Acute myocardial infarction (I21-I22)\", 212: \"Other acute ischemic heart diseases (I24)\", 213: \"Other forms of chronic ischemic heart diseases (I20,I25)\", 214: \"Atherosclerotic cardiovascular disease, so described (I25.0)\", 215: \"All other forms of chronic ischemic heart disease (I20,I25.1-I25.9)\", 216: \"Other heart diseases (I26-I51)\", 217: \"Pulmonary heart disease and diseases of pulmonary circulation (I26-I28)\", 218: \"Pulmonary embolism (I26)\", 219: \"Other pulmonary heart disease and diseases of pulmonary circulation (I27-I28)\", 220: \"Other non-pulmonary forms of heart disease (I30-I51)\", 221: \"Acute and subacute endocarditis (I33)\", 222: \"Diseases of pericardium and acute myocarditis (I30-I31,I40)\", 223: \"Other diseases of endocardium (I34-I38)\", 224: \"Nonrheumatic mitral valve disorders (I34)\", 225: \"Nonrheumatic aortic valve disorders (I35)\", 226: \"All other diseases of endocardium (I36-I38)\", 227: \"Cardiomyopathy (I42)\", 228: \"Conduction disorders and cardiac dysrhythmias (I44-I49)\", 229: \"Heart failure (I50)\", 230: \"Congestive heart failure (I50.0)\", 231: \"Other and unspecified heart failure (I50.1-I50.9)\", 232: \"Myocarditis, unspecified and myocardial degeneration (I51.4-I51.5)\", 233: \"All other and ill-defined forms of heart disease (I50.0-I51.3, I51.6-I51.9)\", 234: \"Cerebrovascular diseases (I60-I69)\", 235: \"Subarachnoid hemorrhage (I60)\", 236: \"Intracerebral and other intracranial hemorrhage (I61-I62)\", 237: \"Cerebral infarction (I63)\", 238: \"Stroke, not specified as hemorrhage or infarction (I64)\", 239: \"Other cerebrovascular diseases and their sequelae (I67,I69)\", 240: \"Diseases of arteries, arterioles and capillaries (I70-I78)\", 241: \"Atherosclerosis (I70)\", 242: \"Aortic aneurysm and dissection (I71)\", 243: \"Other diseases of arteries, arterioles and capillaries (I70-I78)\", 244: \"Other disorders of circulatory system (I80-I99)\", 245: \"Phlebitis, thrombophlebitis, venous embolism and thrombosis (I80-I82)\", 246: \"All other and unspecified disorders of circulatory system (I83-I99)\", 247: \"X. Diseases of the respiratory system (J00-J98)\", 248: \"Acute upper respiratory infections (J00-J06)\", 249: \"Acute pharyngitis and tonsillitis (J02-J03)\", 250: \"Acute laryngitis and tracheitis ((J04)\", 251: \"Other and unspecified acute upper respiratory infections (J00-J01,J05-J06)\", 252: \"Other diseases of the respiratory system (J10-J98)\", 253: \"Influenza (J10-J11)\", 254: \"Pneumonia(J12-J18)\", 255: \"Viral pneumonia, not elsewhere classified (J12)\", 256: \"Bacterial pneumonia (J13-J15)\", 257: \"Pneumonia due to other or unspecified organisms (J16,J18)\", 258: \"Other acute lower respiratory infections (J20-J22)\", 259: \"Acute bronchitis and bronchiolitis(J20-J21)\", 260: \"Unspecified acute lower respiratory infection (J22)\", 261: \"Other diseases of upper respiratory tract (J30-J39)\", 262: \"Chronic lower respiratory diseases (J40-J47)\", 263: \"Bronchitis, chronic and unspecified, emphysema and asthma (J40-J46)\", 264: \"Bronchitis, not specified as acute or chronic (J40)\", 265: \"Chronic bronchitis (J41-J42)\", 266: \"Emphysema (J43)\", 267: \"Other chronic obstructive pulmonary disease (J44)\", 268: \"Asthma (J45-J46)\", 269: \"Bronchiectasis (J47)\", 270: \"Lung diseases due to external agents (J60-J70)\", 271: \"Pneumoconioses and chemical effects (J60-J66,J68)\", 272: \"Pneumonitis due to solids and liquids (J69)\", 273: \"Pneumonitis due to food and vomit (J69.0)\", 274: \"Other pneumonitis due to solids and liquids (J69.1-J69.8)\", 275: \"Other lung diseases due to external agents (J67,J70)\", 276: \"Suppurative and necrotic conditions of lower respiratory tract (J85-J86)\", 277: \"Pleural effusion and plaque (J90, J92)\", 278: \"All other diseases of respiratory system (J80-J84,J93-J98)\", 279: \"XI.  Diseases of the digestive system (K00-K92)\", 280: \"Diseases of oral cavity, salivary glands and jaws (K00-K14)\", 281: \"Diseases of other parts of digestive system (K20-K92)\", 282: \"Diseases of esophagus (K20-K22)\", 283: \"Peptic ulcer (K25-K28)\", 284: \"Gastric ulcer(K25)\", 285: \"Duodenal ulcer(K26)\", 286: \"Peptic ulcer, site unspecified (K27)\", 287: \"Gastrojejunal ulcer (K28)\", 288: \"Gastritis and duodenitis (K29)\", 289: \"Dyspepsia and other diseases of stomach and duodenum (K30-K31)\", 290: \"Diseases of appendix (K35-K38)\", 291: \"Hernia (K40-K46)\", 292: \"Crohn=s disease and ulcerative colitis (K50-K51)\", 293: \"Vascular disorders and obstruction of intestine without hernia (K55-K56)\", 294: \"Diverticular disease of intestine (K57)\", 295: \"Other diseases of intestines and peritoneum (K52,K58-K63)\", 296: \"Diseases of peritoneum (K65-K66)\", 297: \"Diseases of liver (K70-K76)\", 298: \"Alcoholic liver disease (K70)\", 299: \"Chronic hepatitis, not elsewhere classified (K73)\", 300: \"Fibrosis and cirrhosis of liver (K74)\", 301: \"Other diseases of liver (K71-K72,K75-K76)\", 302: \"Cholelithiasis and other disorders of gallbladder (K80-K82)\", 303: \"Disorders of biliary tract and pancreas (K83-K86)\", 304: \"Pancreatitis (K85,K86.0-K86.1)\", 305: \"Other disorders of biliary tract and pancreas (K83,K86.2-K86.9)\", 306: \"All other diseases of digestive system (K90-K92)\", 307: \"XII.  Diseases of the skin and subcutaneous tissue (L00-L98)\", 308: \"Infections of skin and subcutaneous tissue (L00-L08)\", 309: \"Other and unspecified diseases of skin and sub-cutaneous tissue (L10-L98)\", 310: \"XIII. Diseases of the musculoskeletal system and connective tissue (M00-M99)\", 311: \"Rheumatoid arthritis and related inflammatory polyarthropathies (M05-M08)\", 312: \"Systemic lupus erythematosus (M32)\", 313: \"Other arthropathies and related disorders (M00,M02,M10-M31,M33-M35)\", 314: \"Dorsopathies (M40-M54)\", 315: \"Soft tissue disorders (M60-M79)\", 316: \"Osteopathies, chondropathies and other disorders of musculoskeletal system and connective tissue (M80-M99)\", 317: \"Osteoporosis (M80-M81)\", 318: \"Other osteopathies, chondropathies and disorders of musculoskeletal system and connective tissue (M83-M99)\", 319: \"XIV.  Diseases of the genitourinary system (N00-N98)\", 320: \"Diseases of urinary system (N00-N39)\", 321: \"Glomerular and renal tubulo-interstitial diseases (N00-N15)\", 322: \"Glomerular diseases (N00-N07)\", 323: \"Acute and rapidly progressive nephritic syndrome (N00-N01)\", 324: \"Nephrotic syndrome (N04)\", 325: \"Other and unspecified glomerular diseases (N02-N03,N05-N07)\", 326: \"Renal tubulo-interstitial diseases (N10-N15)\", 327: \"Renal failure (N17-N19)\", 328: \"Urolithiasis (N20-N23)\", 329: \"Other and unspecified disorders of kidney (N25-N27)\", 330: \"Urinary tract infection, site not specified (N39.0)\", 331: \"Other diseases of urinary system (N28-N36,N39.1-N39.9)\", 332: \"Diseases of male genital organs (N40-N50)\", 333: \"Hyperplasia of prostate (N40)\", 334: \"Other diseases of male genital organs (N41-N50)\", 335: \"Disorders of breast (N60-N64)\", 336: \"Disorders of female genital organs (N70-N98)\", 337: \"Inflammatory diseases of female pelvic organs (N70-N76)\", 338: \"Noninflammatory disorders of female genital tract (N80-N98)\", 339: \"XV.  Pregnancy, childbirth and the puerperium (O00-O99)\", 340: \"Pregnancy with abortive outcome (O00-O07)\", 341: \"Ectopic pregnancy (O00)\", 342: \"Spontaneous abortion (O03)\", 343: \"Medical abortion (O04)\", 344: \"Other abortion (O05)\", 345: \"Other and unspecified pregnancy with abortive outcome (O01-O02,O06-O07)\", 346: \"Other direct obstetric deaths (O10-O92)\", 347: \"Eclampsia and pre-eclampsia (O11,O13-O16)\", 348: \"Hemorrhage of pregnancy and childbirth and placenta previa (O20,O44-O46,O67,072)\", 349: \"Complications predominately related to the puerperium (O85-O92)\", 350: \"Obstetric embolism (O88)\", 351: \"Other complications predominately related to the puerperium (O85-O87,O89-O92)\", 352: \"All other direct obstetric causes (O10,O12,O21-O43,O47-O66,O68-O71, O73-O75)\", 353: \"Obstetric death of unspecified cause (O95)\", 354: \"Other deaths related to pregnancy, childbirth and the puerperium (O96-O97)\", 355: \"Indirect obstetric deaths (O98-O99)\", 356: \"XVI.  Certain conditions originating in the perinatal period (P00-P96)\", 357: \"Newborn affected by maternal factors and by complications of pregnancy, labor and delivery (P00-P04)\", 358: \"Disorders related to short gestation and low birth weight, not elsewhere classified (P07)\", 359: \"Birth trauma (P10-P15)\", 360: \"Intrauterine hypoxia and birth asphyxia (P20-P21)\", 361: \"Respiratory distress of newborn (P22)\", 362: \"Other respiratory conditions originating in the perinatal period (P23-P28)\", 363: \"Infections specific to the perinatal period (P35-P39)\", 364: \"Other and unspecified conditions originating in the perinatal period (P05,P08,P29,P50-P96)\", 365: \"XVII. Congenital malformations, deformations and chromosomal abnormalities (Q00-Q99)\", 366: \"Anencephaly and similar malformations (Q00)\", 367: \"Spina bifida (Q05)\", 368: \"All other congenital malformations of nervous system (Q01-Q04,Q06-Q07)\", 369: \"Congenital malformations of heart (Q20-Q24)\", 370: \"Other congenital malformations of circulatory system (Q25-Q28)\", 371: \"Congenital malformations of respiratory system (Q30-Q34)\", 372: \"Other congenital malformations and deformations (Q10-Q18,Q35-Q89)\", 373: \"Down=s syndrome (Q90)\", 374: \"All other chromosomal abnormalities, not elsewhere classified (Q91-Q99)\", 375: \"XVIII.  Symptoms, signs and abnormal clinical and laboratory findings, not elsewhere classified (R00-R99)\", 376: \"Senility (R54)\", 377: \"Ill-defined and unknown causes of mortality (R95-R99)\", 378: \"Sudden infant death syndrome (R95)\", 379: \"Other ill-defined and unknown causes of mortality (R96-R99)\", 380: \"All other symptoms, signs and abnormal clinical and laboratory findings, not elsewhere classified (R00-R53,R55-R94)\", 381: \"XX.  External causes of mortality (*U01-*U03,V01-Y89)\", 382: \"Accidents (unintentional injuries) (V01-X59,Y85-Y86)\", 383: \"Transport accidents (V01-V99, Y85)\", 384: \"Railway accidents (V05,V15,V80.6,V81.2-V81.9,V80.3-V80.5, V81.0-V81.1,V82.0-V82.1,V83-V86,V87.0-V87.8,V88.0-V88.8,V89.0, V89.2)\", 385: \"Motor vehicle accidents (V02-V04,V09.0,V09.2,V12-V14,V19.0-V19.2, V19.4-V19.6,V20-V79,V80.3-V80.5,V81.0-V81.1,V82.0-V82.1,V83-V86, V87.0-V87.8,V88.0-V88.8,V89.0,V89.2)\", 386: \"Pedestrian involved in collision with motor vehicle (V02-V04)\", 387: \"Pedalcyclist involved in collision with motor vehicle (V12-V14,V19.0,V19.2-V19.4-V19.6)\", 388: \"Motorcyclist involved in any accident except collision with railway train (V20-V24,V26-V34,V36-V39)\", 389: \"Motor vehicle accident involving collision with railway train (V25,V35,V45,V55,V65,V75,V81.0-V81.1,V87.6,V88.6)\", 390: \"Motorcyclist involved in collision with railway train (V25,V35)\", 391: \"Other motor vehicle accident involving collision with railway train (V45,V55,V65,V75,V81.0-V81.1,V87.6,V88.6)\", 392: \"Occupant of motor vehicle involved in collision with other (non- motorized) road vehicle, streetcar, animal or pedestrian (V40-V41,V46-V47,V50-V51,V56-V57,V60-V61,V66-V67,V70-V71, V76-V77)\", 393: \"Occupant of car, pickup truck or van involved in collision with other motor vehicle (V42-V44,V49,V52-V54,V59)\", 394: \"Occupant of heavy transport vehicle or bus involved in collision with other motor vehicle (V62-V64,V69,V72-V74,V79)\", 395: \"Occupant of motor vehicle involved in non-collision accident (V48,V58,V68,V78)\", 396: \"Occupant of special-use motor vehicle involved in any accident (V83-V86)\", 397: \"Other and unspecified motor vehicle accidents (V09.0,V09.2,V80.3-V80.5,V82.0-V82.1,V87.0-V87.5,V87.7-V87.8, V88.0-V88.5,V88.7-V88.8,V89.0,V89.2)\", 398: \"Streetcar accidents (V82.2-V82.9)\", 399: \"Other and unspecified land transport accidents (V01,V06,V09.1,V09.3,V09.9,V10-V11,V16-V18,V19.3,V19.8-V19.9, V80.0-V80.2,V80.7-V80.9,V87.9,V88.9,V89.1,V89.3,V89.9)\", 400: \"Water transport accidents (V90-V94)\", 401: \"Air and space transport accidents (V95-V97)\", 402: \"Other and unspecified transport accidents and their sequelae (V98-V99,Y85)\", 403: \"Falls (W00-W19)\", 404: \"Fall on same level (W00-W09,W18)\", 405: \"Fall from one level to another (W10-W17)\", 406: \"Unspecified fall (W19)\", 407: \"Accidental discharge of firearms (W32-W34)\", 408: \"Accidental explosion (W39-W40)\", 409: \"Accidental drowning and submersion (W65-W74)\", 410: \"Accidental inhalation and ingestion of food or other objects causing obstruction of respiratory tract (W78-W80)\", 411: \"Other accidental and unspecified threats to breathing (W75-W77,W81-W84)\", 412: \"Accidental exposure to electrical current (W85-W87)\", 413: \"Accidental exposure to radiation (W88-W91)\", 414: \"Accidental exposure to smoke, fire and flames (X00-X09)\", 415: \"Accidental contact with heat and hot substances (X10-X19)\", 416: \"Lightning (X33)\", 417: \"Earthquake, volcanic eruption, avalanche, landslide and other earth movements (X34-X36)\", 418: \"Cataclysmic storm and flood (X37-X38)\", 419: \"Accidental poisoning and exposure to noxious substances (X40-X49)\", 420: \"Accidental poisoning by and exposure to drugs and other biological substances (X40-X44)\", 421: \"Accidental poisoning by and exposure to other and unspecified solid or liquids substances (X45-X46,X48-X49)\", 422: \"Accidental poisoning by and exposure to other gases and vapors (X47)\", 423: \"All other and unspecified accidents (W20-W31,W35-W38,W41-W64,W92-W99,X20-X32,X39,X50-X59,Y86)\", 424: \"Intentional self-harm (suicide) (*U03,X60-X84,Y87.0)\", 425: \"Intentional self-poisoning (suicide) by and exposure to drugs and other biological substances (X60-X64)\", 426: \"Intentional self-poisoning (suicide) by and exposure to other and unspecified solid or liquid substances and their vapors (X65-X66,X68-X69)\", 427: \"Intentional self-poisoning (suicide) by and exposure to other gases and vapors (X67)\", 428: \"Intentional self-harm (suicide) by hanging, strangulation and suffocation (X70)\", 429: \"Intentional self-harm (suicide) by discharge of firearms (X72-X74)\", 430: \"Intentional self-harm (suicide) by jumping from a high place (X80)\", 431: \"Intentional self-harm (suicide) by all other and unspecified means and their sequelae (*U03,X71,X75-X79,X81-X84,X87.0)\", 432: \"Assault (homicide) (*U01-*U02,X85-Y09,X87.1)\", 433: \"Assault (homicide) by drugs, biological substances and other and unspecified noxious substances (*U01.6-*U01.7,X85-X90)\", 434: \"Assault (homicide) by hanging, strangulation and suffocation (X91)\", 435: \"Assault (homicide) by discharge of firearms (*U01.4,X93-X95)\", 436: \"Assault (homicide) by sharp object (X99)\", 437: \"Assault (homicide) by blunt object (Y00)\", 438: \"Assault (homicide) by bodily force (Y04)\", 439: \"Sexual assault (homicide) by bodily force (Y05)\", 440: \"Neglect, abandonment and other maltreatment syndromes (Y06-Y07)\", 441: \"Assault (homicide) by all other and unspecified means and their sequelae (*U01.0-*U01.3,*U01.5,*U01.8-*U01.9,*U02,X92,X96-X98, Y01-Y03,Y08-Y09,Y87.1)\", 442: \"Event of undetermined intent (Y10-Y34,Y87.2,Y89.9)\", 443: \"Poisoning by and exposure to drugs and biological substances, undetermined intent (Y10-Y14)\", 444: \"Poisoning by and exposure to other and unspecified solid or liquid substance undetermined intent (Y15-Y16,Y18-Y19)\", 445: \"Poisoning by and exposure to other gases and vapors, undetermined intent (Y17)\", 446: \"Discharge of firearms, undetermined intent (Y22-Y24)\", 447: \"Falling, jumping or pushed from a high place, undetermined intent (Y30)\", 448: \"All other and unspecified events of undetermined intent and their sequelae (Y20-Y21,Y25-Y29,Y31-Y34,Y87.2,Y89.9)\", 449: \"Legal intervention (Y35,Y89.0)\", 450: \"Legal intervention (Y35.5)\", 451: \"Other legal intervention and their sequelae (Y35.0-Y35.4,Y35.6-Y35.7,Y89.0)\", 452: \"Operations of war and their sequelae (Y36,Y89.1)\", 453: \"Complications of medical and surgical care (Y40-Y84,Y88)\", 454: \"Drugs, medicaments and biological substances causing adverse effects in therapeutic use and their sequelae (Y40-Y59,Y88.0)\", 455: \"Misadventures to patients during medical and surgical care and their sequelae (Y60-Y69,Y88.1)\", 456: \"Other complications of medical and surgical care and their sequelae (Y70-Y84,Y88.2-Y88.3)\"}, \"113_cause_recode\": {1: \"Salmonella infections (A01-A02)\", 2: \"Shigellosis and amebiasis (A03,A06)\", 3: \"Certain other intestinal infections (A04,A07-A09)\", 4: \"Tuberculosis (A16-A19)\", 5: \"Respiratory tuberculosis (A16)\", 6: \"Other tuberculosis (A17-A19)\", 7: \"Whooping cough (A37)\", 8: \"Scarlet fever and erysipelas (A38,A46)\", 9: \"Meningococcal infection (A39)\", 10: \"Septicemia (A40-A41)\", 11: \"Syphilis (A50-A53)\", 12: \"Acute poliomyelitis (A80)\", 13: \"Arthropod-borne viral encephalitis (A83-A84,A85.2)\", 14: \"Measles (B05)\", 15: \"Viral hepatitis (B15-B19)\", 16: \"Human immunodeficiency virus (HIV) disease (B20-B24)\", 17: \"Malaria (B50-B54)\", 18: \"Other and unspecified infectious and parasitic diseases and their sequelae (A00,A05,A20-A36,A42-A44,A48-A49,A54-A79,A81-A82,A85.0-A85.1,A85.8, A86-B04,B06-B09,B25-B49,B55-B99)\", 19: \"Malignant neoplasms (C00-C97)\", 20: \"Malignant neoplasms of lip, oral cavity and pharynx (C00-C14)\", 21: \"Malignant neoplasm of esophagus (C15)\", 22: \"Malignant neoplasm of stomach (C16)\", 23: \"Malignant neoplasms of colon, rectum and anus (C18-C21)\", 24: \"Malignant neoplasms of liver and intrahepatic bile ducts (C22)\", 25: \"Malignant neoplasm of pancreas (C25)\", 26: \"Malignant neoplasm of larynx (C32)\", 27: \"Malignant neoplasms of trachea, bronchus and lung (C33-C34)\", 28: \"Malignant melanoma of skin (C43)\", 29: \"Malignant neoplasm of breast (C50)\", 30: \"Malignant neoplasm of cervix uteri (C53)\", 31: \"Malignant neoplasms of corpus uteri and uterus, part unspecified (C54-C55)\", 32: \"Malignant neoplasm of ovary (C56)\", 33: \"Malignant neoplasm of prostate (C61)\", 34: \"Malignant neoplasms of kidney and renal pelvis (C64-C65)\", 35: \"Malignant neoplasm of bladder (C67)\", 36: \"Malignant neoplasms of meninges, brain and other parts of central nervous system (C70-C72)\", 37: \"Malignant neoplasms of lymphoid, hematopoietic and related tissue (C81-C96)\", 38: \"Hodgkin\\'s disease (C81)\", 39: \"Non-Hodgkin\\'s lymphoma (C82-C85)\", 40: \"Leukemia (C91-C95)\", 41: \"Multiple myeloma and immunoproliferative neoplasms (C88,C90)\", 42: \"Other and unspecified malignant neoplasms of lymphoid, hematopoietic and related tissue (C96)\", 43: \"All other and unspecified malignant neoplasms (C17,C23-C24,C26-C31,C37-C41, C44-C49,C51-C52,C57-C60,C62-C63,C66,C68-C69,C73-C80,C97)\", 44: \"In situ neoplasms, benign neoplasms and neoplasms of uncertain or unknown behavior (D00-D48)\", 45: \"Anemias (D50-D64)\", 46: \"Diabetes mellitus (E10-E14)\", 47: \"Nutritional deficiencies (E40-E64)\", 48: \"Malnutrition (E40-E46)\", 49: \"Other nutritional deficiencies (E50-E64)\", 50: \"Meningitis (G00,G03)\", 51: \"Parkinson\\'s disease (G20-G21)\", 52: \"Alzheimer\\'s disease (G30)\", 53: \"Major cardiovascular diseases (I00-I78)\", 54: \"Diseases of heart (I00-I09,I11,I13,I20-I51)\", 55: \"Acute rheumatic fever and chronic rheumatic heart diseases (I00-I09)\", 56: \"Hypertensive heart disease (I11)\", 57: \"Hypertensive heart and renal disease (I13)\", 58: \"Ischemic heart diseases (I20-I25)\", 59: \"Acute myocardial infarction (I21-I22)\", 60: \"Other acute ischemic heart diseases (I24)\", 61: \"Other forms of chronic ischemic heart disease (I20,I25)\", 62: \"Atherosclerotic cardiovascular disease, so described (I25.0)\", 63: \"All other forms of chronic ischemic heart disease (I20,I25.1-I25.9)\", 64: \"Other heart diseases (I26-I51)\", 65: \"Acute and subacute endocarditis (I33)\", 66: \"Diseases of pericardium and acute myocarditis (I30-I31,I40)\", 67: \"Heart failure (I50)\", 68: \"All other forms of heart disease (I26-I28,I34-I38,I42-I49,I51)\", 69: \"Essential (primary) hypertension and hypertensive renal disease (I10,I12)\", 70: \"Cerebrovascular diseases (I60-I69)\", 71: \"Atherosclerosis (I70)\", 72: \"Other diseases of circulatory system (I71-I78)\", 73: \"Aortic aneurysm and dissection (I71)\", 74: \"Other diseases of arteries, arterioles and capillaries (I72-I78)\", 75: \"Other disorders of circulatory system (I80-I99)\", 76: \"Influenza and pneumonia (J10-J18)\", 77: \"Influenza (J10-J11)\", 78: \"Pneumonia (J12-J18)\", 79: \"Other acute lower respiratory infections (J20-J22)\", 80: \"Acute bronchitis and bronchiolitis (J20-J21)\", 81: \"Unspecified acute lower respiratory infection (J22)\", 82: \"Chronic lower respiratory diseases (J40-J47)\", 83: \"Bronchitis, chronic and unspecified (J40-J42)\", 84: \"Emphysema (J43)\", 85: \"Asthma (J45-J46)\", 86: \"Other chronic lower respiratory diseases (J44,J47)\", 87: \"Pneumoconioses and chemical effects (J60-J66,J68)\", 88: \"Pneumonitis due to solids and liquids (J69)\", 89: \"Other diseases of respiratory system (J00-J06,J30-J39,J67,J70-J98)\", 90: \"Peptic ulcer (K25-K28)\", 91: \"Diseases of appendix (K35-K38)\", 92: \"Hernia (K40-K46)\", 93: \"Chronic liver disease and cirrhosis (K70,K73-K74)\", 94: \"Alcoholic liver disease (K70)\", 95: \"Other chronic liver disease and cirrhosis (K73-K74)\", 96: \"Cholelithiasis and other disorders of gallbladder (K80-K82)\", 97: \"Nephritis, nephrotic syndrome and nephrosis (N00-N07,N17-N19,N25-N27)\", 98: \"Acute and rapidly progressive nephritic and nephrotic syndrome (N00-N01,N04)\", 99: \"Chronic glomerulonephritis, nephritis and nephropathy not specified as acute or chronic, and renal sclerosis unspecified (N02-N03,N05-N07,N26)\", 100: \"Renal failure (N17-N19)\", 101: \"Other disorders of kidney (N25,N27)\", 102: \"Infections of kidney (N10-N12,N13.6,N15.1)\", 103: \"Hyperplasia of prostate (N40)\", 104: \"Inflammatory diseases of female pelvic organs (N70-N76)\", 105: \"Pregnancy, childbirth and the puerperium (O00-O99)\", 106: \"Pregnancy with abortive outcome (O00-O07)\", 107: \"Other complications of pregnancy, childbirth and the puerperium (O10-O99)\", 108: \"Certain conditions originating in the perinatal period (P00-P96)\", 109: \"Congenital malformations, deformations and chromosomal abnormalities (Q00-Q99)\", 110: \"Symptoms, signs and abnormal clinical and laboratory findings, not elsewhere classified (R00-R99)\", 111: \"All other diseases (Residual) (D65-E07,E15-E34,E65-F99,G04-G12,G23-G25,G31-H93, K00-K22,K29-K31,K50-K66,K71-K72,K75-K76,K83-M99, N13.0-N13.5,N13.7-N13.9, N14,N15.0,N15.8-N15.9,N20-N23,N28-N39,N41-N64,N80-N98)\", 112: \"Accidents (unintentional injuries) (V01-X59,Y85-Y86)\", 113: \"Transport accidents (V01-V99,Y85)\", 114: \"Motor vehicle accidents (V02-V04,V09.0,V09.2,V12-V14,V19.0-V19.2, V19.4-V19.6,V20-V79,V80.3-V80.5,V81.0-V81.1,V82.0-V82.1,V83-V86, V87.0-V87.8,V88.0-V88.8,V89.0,V89.2)\", 115: \"Other land transport accidents (V01,V05-V06,V09.1,V09.3-V09.9, V10-V11, V15-V18,V19.3,V19.8-V19.9,V80.0-V80.2,V80.6-V80.9,V81.2-V81.9, V82.2-V82.9,V87.9,V88.9,V89.1,V89.3,V89.9)\", 116: \"Water, air and space, and other and unspecified transport accidents and their sequelae (V90-V99,Y85)\", 117: \"Nontransport accidents (W00-X59,Y86)\", 118: \"Falls (W00-W19)\", 119: \"Accidental discharge of firearms (W32-W34)\", 120: \"Accidental drowning and submersion (W65-W74)\", 121: \"Accidental exposure to smoke, fire and flames (X00-X09)\", 122: \"Accidental poisoning and exposure to noxious substances (X40-X49)\", 123: \"Other and unspecified nontransport accidents and their sequelae (W20-W31,W35-W64,W75-W99,X10-X39,X50-X59,Y86)\", 124: \"Intentional self-harm (suicide) (*U03,X60-X84,Y87.0)\", 125: \"Intentional self-harm (suicide) by discharge of firearms (X72-X74)\", 126: \"Intentional self-harm (suicide) by other and unspecified means and their sequelae (*U03,X60-X71,X75-X84,Y87.0)\", 127: \"Assault (homicide) (*U01-*U02,X85-Y09,Y87.1)\", 128: \"Assault (homicide) by discharge of firearms (*U01.4,X93-X95)\", 129: \"Assault (homicide) by other and unspecified means and their sequelae (*U01.0-*U01.3,*U01.5-*U01.9,*U02,X85-X92,X96-Y09,Y87.1)\", 130: \"Legal intervention (Y35,Y89.0)\", 131: \"Events of undetermined intent (Y10-Y34,Y87.2,Y89.9)\", 132: \"Discharge of firearms, undetermined intent (Y22-Y24)\", 133: \"Other and unspecified events of undetermined intent and their sequelae (Y10-Y21,Y25-Y34,Y87.2,Y89.9)\", 134: \"Operations of war and their sequelae (Y36,Y89.1)\", 135: \"Complications of medical and surgical care (Y40-Y84,Y88)\"}, \"130_infant_cause_recode\": {1: \"Certain infectious and parasitic diseases (A00-B99)\", 2: \"Certain intestinal infectious diseases (A00-A08)\", 3: \"Diarrhea and gastroenteritis of infectious origin (A09)\", 4: \"Tuberculosis (A16-A19)\", 5: \"Tetanus (A33,A35)\", 6: \"Diphtheria (A36)\", 7: \"Whooping cough (A37)\", 8: \"Meningococcal infection (A39)\", 9: \"Septicemia (A40-A41)\", 10: \"Congenital syphilis (A50)\", 11: \"Gonococcal infection (A54)\", 12: \"Viral diseases (A80-B34)\", 13: \"Acute poliomyelitis (A80)\", 14: \"Varicella (chickenpox) (B01)\", 15: \"Measles (B05)\", 16: \"Human immunodeficiency virus (HIV) disease (B20-B24)\", 17: \"Mumps (B26)\", 18: \"Other and unspecified viral diseases (A81-B00,B02-B04,B06-B19,B25,B27-B34)\", 19: \"Candidiasis (B37)\", 20: \"Malaria (B50-B54)\", 21: \"Pneumocystosis (B59)\", 22: \"All other and unspecified infectious and parasitic diseases (A20-A32,A38,A42-A49,A51-A53,A55-A79,B35-B36,B38-B49,B55-B58,B60-B99)\", 23: \"Neoplasms (C00-D48)\", 24: \"Malignant neoplasms (C00-C97)\", 25: \"Hodgkin\\'s disease and non-Hodgkin\\'s lymphomas (C81-C85)\", 26: \"Leukemia (C91-C95)\", 27: \"Other and unspecified malignant neoplasms (C00-C80,C88,C90,C96-C97)\", 28: \"In situ neoplasms, benign neoplasms and neoplasms of uncertain or unknown behavior (D00-D48)\", 29: \"Diseases of the blood and blood-forming organs and certain disorders involving the immune mechanism (D50-D89)\", 30: \"Anemias (D50-D64)\", 31: \"Hemorrhagic conditions and other diseases of blood and blood-forming organs (D65-D76)\", 32: \"Certain disorders involving the immune mechanism (D80-D89)\", 33: \"Endocrine, nutritional and metabolic diseases (E00-E88)\", 34: \"Short stature, not elsewhere classified (E34.3)\", 35: \"Nutritional deficiencies (E40-E64)\", 36: \"Cystic fibrosis (E84)\", 37: \"Volume depletion, disorders of fluid, electrolyte and acid-base balance (E86-E87)\", 38: \"All other endocrine, nutritional and metabolic diseases (E00-E32,E34.0-E34.2,E34.4-E34.9,E65-E83,E85,E88)\", 39: \"Diseases of the nervous system (G00-G98)\", 40: \"Meningitis (G00,G03)\", 41: \"Infantile spinal muscular atrophy, type I (Werdnig-Hoffman) (G12.0)\", 42: \"Infantile cerebral palsy (G80)\", 43: \"Anoxic brain damage, not elsewhere classified (G93.1)\", 44: \"Other diseases of nervous system (G04,G06-G11,G12.1-G12.9,G20-G72,G81-G92,G93.0,G93.2-G93.9,G95-G98)\", 45: \"Diseases of the ear and mastoid process (H60-H93)\", 46: \"Diseases of the circulatory system (I00-I99)\", 47: \"Pulmonary heart disease and diseases of pulmonary circulation (I26-I28)\", 48: \"Pericarditis, endocarditis and myocarditis (I30,I33,I40)\", 49: \"Cardiomyopathy (I42)\", 50: \"Cardiac arrest (I46)\", 51: \"Cerebrovascular diseases (I60-I69)\", 52: \"All other diseases of circulatory system (I00-I25,I31,I34-I38,I44-I45,I47-I51, I70-I99)\", 53: \"Diseases of the respiratory system (J00-J98)\", 54: \"Acute upper respiratory infections (J00-J06)\", 55: \"Influenza and pneumonia (J10-J18)\", 56: \"Influenza (J10-J11)\", 57: \"Pneumonia (J12-J18)\", 58: \"Acute bronchitis and acute bronchiolitis (J20-J21)\", 59: \"Bronchitis, chronic and unspecified (J40-J42)\", 60: \"Asthma (J45-J46)\", 61: \"Pneumonitis due to solids and liquids (J69)\", 62: \"Other and unspecified diseases of respiratory system (J22,J30-J39,J43-J44,J47-J68,J70-J98)\", 63: \"Diseases of the digestive system (K00-K92)\", 64: \"Gastritis, duodenitis, and noninfective enteritis and colitis (K29,K50-K55)\", 65: \"Hernia of abdominal cavity and intestinal obstruction without hernia (K40-K46,K56)\", 66: \"All other and unspecified diseases of digestive system (K00-K28,K30-K38,K57-K92)\", 67: \"Diseases of the genitourinary system (N00-N95)\", 68: \"Renal failure and other disorders of kidney (N17-N19,N25,N27)\", 69: \"Other and unspecified diseases of genitourinary system (N00-N15,N20-N23,N26,N28-N95)\", 70: \"Certain conditions originating in the perinatal period (P00-P96)\", 71: \"Newborn affected by maternal factors and by complications of pregnancy, labor and delivery (P00-P04)\", 72: \"Newborn affected by maternal hypertensive disorders (P00.0)\", 73: \"Newborn affected by other maternal conditions which may be unrelated to present pregnancy (P00.1-P00.9)\", 74: \"Newborn affected by maternal complications of pregnancy (P01)\", 75: \"Newborn affected by incompetent cervix (P01.0)\", 76: \"Newborn affected by premature rupture of membranes (P01.1)\", 77: \"Newborn affected by multiple pregnancy (P01.5)\", 78: \"Newborn affected by other maternal complications of pregnancy (P01.2-P01.4,P01.6-P01.9)\", 79: \"Newborn affected by complications of placenta, cord and membranes (P02)\", 80: \"Newborn affected by complications involving placenta (P02.0-P02.3)\", 81: \"Newborn affected by complications involving cord (P02.4-P02.6)\", 82: \"Newborn affected by chorioamnionitis (P02.7)\", 83: \"Newborn affected by other and unspecified abnormalities of membranes (P02.8-P02.9)\", 84: \"Newborn affected by other complications of labor and delivery (P03)\", 85: \"Newborn affected by noxious influences transmitted via placenta or breast milk (P04)\", 86: \"Disorders related to length of gestation and fetal malnutrition (P05-P08)\", 87: \"Slow fetal growth and fetal malnutrition (P05)\", 88: \"Disorders related to short gestation and low birthweight, not elsewhere classified (P07)\", 89: \"Extremely low birthweight or extreme immaturity (P07.0,P07.2)\", 90: \"Other low birthweight or preterm (P07.1,P07.3)\", 91: \"Disorders related to long gestation and high birthweight (P08)\", 92: \"Birth trauma (P10-P15)\", 93: \"Intrauterine hypoxia and birth asphyxia (P20-P21)\", 94: \"Intrauterine hypoxia (P20)\", 95: \"Birth asphyxia (P21)\", 96: \"Respiratory distress of newborn (P22)\", 97: \"Other respiratory conditions originating in the perinatal period (P23-P28)\", 98: \"Congenital pneumonia (P23)\", 99: \"Neonatal aspiration syndromes (P24)\", 100: \"Interstitial emphysema and related conditions originating in the perinatal period (P25)\", 101: \"Pulmonary hemorrhage originating in the perinatal period (P26)\", 102: \"Chronic respiratory disease originating in the perinatal period (P27)\", 103: \"Atelectasis (P28.0-P28.1)\", 104: \"All other respiratory conditions originating in the perinatal period (P28.2-P28.9)\", 105: \"Infections specific to the perinatal period (P35-P39)\", 106: \"Bacterial sepsis of newborn (P36)\", 107: \"Omphalitis of newborn with or without mild hemorrhage (P38)\", 108: \"All other infections specific to the perinatal period (P35,P37,P39)\", 109: \"Hemorrhagic and hematological disorders of newborn (P50-P61)\", 110: \"Neonatal hemorrhage (P50-P52,P54)\", 111: \"Hemorrhagic disease of newborn (P53)\", 112: \"Hemolytic disease of newborn due to isoimmunization and other perinatal jaundice (P55-P59)\", 113: \"Hematological disorders (P60-P61)\", 114: \"Syndrome of infant of a diabetic mother and neonatal diabetes mellitus (P70.0-P70.2)\", 115: \"Necrotizing enterocolitis of newborn (P77)\", 116: \"Hydrops fetalis not due to hemolytic disease (P83.2)\", 117: \"Other perinatal conditions (P29,P70.3-P70.9,P71-P76,P78-P81,P83.0-P83.1, P83.3-P83.9,P90-P96)\", 118: \"Congenital malformations, deformations and chromosomal abnormalities (Q00-Q99)\", 119: \"Anencephaly and similar malformations (Q00)\", 120: \"Congenital hydrocephalus (Q03)\", 121: \"Spina bifida (Q05)\", 122: \"Other congenital malformations of nervous system (Q01-Q02,Q04,Q06-Q07)\", 123: \"Congenital malformations of heart (Q20-Q24)\", 124: \"Other congenital malformations of circulatory system (Q25-Q28)\", 125: \"Congenital malformations of respiratory system (Q30-Q34)\", 126: \"Congenital malformations of digestive system (Q35-Q45)\", 127: \"Congenital malformations of genitourinary system (Q50-Q64)\", 128: \"Congenital malformations and deformations of musculoskeletal system, limbs and integument (Q65-Q85)\", 129: \"Down\\'s syndrome (Q90)\", 130: \"Edward\\'s syndrome (Q91.0-Q91.3)\", 131: \"Patau\\'s syndrome (Q91.4-Q91.7)\", 132: \"Other congenital malformations and deformations (Q10-Q18,Q86-Q89)\", 133: \"Other chromosomal abnormalities, not elsewhere classified (Q92-Q99)\", 134: \"Symptoms, signs and abnormal clinical and laboratory findings, not elsewhere classified (R00-R99)\", 135: \"Sudden infant death syndrome (R95)\", 136: \"Other symptoms, signs and abnormal clinical and laboratory findings, not elsewhere classified (R00-R53,R55-R94,R96-R99)\", 137: \"All other diseases (Residual) (F01-F99,H00-H57,L00-M99)\", 138: \"External causes of mortality (*U01,V01-Y84)\", 139: \"Accidents (unintentional injuries) (V01-X59)\", 140: \"Transport accidents (V01-V99)\", 141: \"Motor vehicle accidents(V02-V04,V09.0,V09.2,V12-V14,V19.0-V19.2, V19.4-V19.6,V20-V79,V80.3-V80.5,V81.0-V81.1,V82.0-V82.1,V83-V86, V87.0-V87.8,V88.0-V88.8,V89.0,V89.2)\", 142: \"Other and unspecified transport accidents (V01,V05-V06,V09.1,V09.3-V09.9,V10-V11,V15-V18,V19.3, V19.8-V19.9,V80.0-V80.2,V80.6-V80.9,V81.2-V81.9,V82.2-V82.9, V87.9,V88.9,V89.1,V89.3,V89.9,V90-V99)\", 143: \"Falls (W00-W19)\", 144: \"Accidental discharge of firearms (W32-W34)\", 145: \"Accidental drowning and submersion (W65-W74)\", 146: \"Accidental suffocation and strangulation in bed (W75)\", 147: \"Other accidental suffocation and strangulation (W76-W77,W81-W84)\", 148: \"Accidental inhalation and ingestion of food or other objects causing obstruction of respiratory tract (W78-W80)\", 149: \"Accidents caused by exposure to smoke, fire and flames (X00-X09)\", 150: \"Accidental poisoning and exposure to noxious substances (X40-X49)\", 151: \"Other and unspecified accidents (W20-W31,W35-W64,W85-W99,X10-X39,X50-X59)\", 152: \"Assault (homicide) (*U01,X85-Y09)\", 153: \"Assault (homicide) by hanging, strangulation and suffocation (X91)\", 154: \"Assault (homicide) by discharge of firearms (*U01.4,X93-X95)\", 155: \"Neglect, abandonment and other maltreatment syndromes (Y06-Y07)\", 156: \"Assault (homicide) by other and unspecified means (*U01.0-*U01.3,*U01.5-*U01.9,X85-X90,X92,X96-X99,Y00-Y05,Y08-Y09)\", 157: \"Complications of medical and surgical care (Y40-Y84)\", 158: \"Other external causes (Y10-Y36),\"}, \"39_cause_recode\": {1: \"Tuberculosis (A16-A19)\", 2: \"Syphilis (A50-A53)\", 3: \"Human immunodeficiency virus (HIV) disease (B20-B24)\", 4: \"Malignant neoplasms (C00-C97)\", 5: \"Malignant neoplasm of stomach (C16)\", 6: \"Malignant neoplasms of colon, rectum and anus (C18-C21)\", 7: \"Malignant neoplasm of pancreas (C25)\", 8: \"Malignant neoplasms of trachea, bronchus and lung (C33-C34)\", 9: \"Malignant neoplasm of breast (C50)\", 10: \"Malignant neoplasms of cervix uteri, corpus uteri and ovary (C53-C56)\", 11: \"Malignant neoplasm of prostate (C61)\", 12: \"Malignant neoplasms of urinary tract (C64-C68)\", 13: \"Non-Hodgkin\\'s lymphoma (C82-C85)\", 14: \"Leukemia (C91-C95)\", 15: \"Other malignant neoplasms (C00-C15,C17,C22-C24,C26-C32,C37-C49,C51-C52, C57-C60,C62-C63,C69-C81,C88,C90,C96-C97)\", 16: \"Diabetes mellitus (E10-E14)\", 17: \"Alzheimer\\'s disease (G30)\", 18: \"Major cardiovascular diseases (I00-I78)\", 19: \"Diseases of heart (I00-I09,I11,I13,I20-I51)\", 20: \"Hypertensive heart disease with or without renal disease (I11,I13)\", 21: \"Ischemic heart diseases (I20-I25)\", 22: \"Other diseases of heart (I00-I09,I26-I51)\", 23: \"Essential (primary) hypertension and hypertensive renal disease (I10,I12)\", 24: \"Cerebrovascular diseases (I60-I69)\", 25: \"Atherosclerosis (I70)\", 26: \"Other diseases of circulatory system (I71-I78)\", 27: \"Influenza and pneumonia (J10-J18)\", 28: \"Chronic lower respiratory diseases (J40-J47)\", 29: \"Peptic ulcer (K25-K28)\", 30: \"Chronic liver disease and cirrhosis (K70,K73-K74)\", 31: \"Nephritis, nephrotic syndrome, and nephrosis (N00-N07,N17-N19,N25-N27)\", 32: \"Pregnancy, childbirth and the puerperium (O00-O99)\", 33: \"Certain conditions originating in the perinatal period (P00-P96)\", 34: \"Congenital malformations, deformations and chromosomal abnormalities (Q00-Q99)\", 35: \"Sudden infant death syndrome (R95)\", 36: \"Symptoms, signs and abnormal clinical and laboratory findings, not elsewhere classified (excluding Sudden infant death syndrome) (R00-R94,R96-R99)\", 37: \"All other diseases (Residual) (A00-A09,A20-A49,A54-B19,B25-B99,D00-E07, E15-G25,G31-H93,I80-J06,J20-J39,J60-K22,K29-K66,K71-K72, K75-M99,N10-N15,N20-N23,N28-N98)\", 38: \"Motor vehicle accidents (V02-V04,V09.0,V12-V14,V19.0-V19.2,V19.4-V19.6, V20-V79,V80.3-V80.5,V81.0-V81.1,V82.0-V82.1,V83-V86,V87.0-V87.8, V88.0-V88.8,V89.0,V89.2)\", 39: \"All other and unspecified accidents and adverse effects (V01,V05-V06,V09.1,V09.3-V09.9,V10-V11,V15-V18,V19.3,V19.8-V19.9, V80.0-V80.2,V80.6-V80.9,V81.2-V81.9,V82.2-V82.9,V87.9,V88.9,V89.1, V89.3,V89.9,V90-X59,Y40-Y86,Y88)\", 40: \"Intentional self-harm (suicide) (*U03,X60-X84,Y87.0)\", 41: \"Assault (homicide) (*U01-*U02,X85-Y09,Y87.1)\", 42: \"All other external causes (Y10-Y36,Y87.2,Y89)\"}'"
      ]
     },
     "execution_count": 55,
     "metadata": {},
     "output_type": "execute_result"
    }
   ],
   "source": [
    "#view modified key and dictionary information\n",
    "result"
   ]
  },
  {
   "cell_type": "code",
   "execution_count": 56,
   "id": "df29d31a-5024-466d-bf62-571f34b57952",
   "metadata": {
    "scrolled": true
   },
   "outputs": [],
   "source": [
    "#Map the numeric codes in the csv file to the corresponding text string descriptions\n",
    "#map 358-cause_recode dictionary value to dataframe\n",
    "cause_recode_358 = {1: \"I. Certain infectious and parasitic diseases (A00-B99)\", 2: \"Intestinal infectious diseases (A00-A09)\", 3: \"Cholera (A00)\", 4: \"Other intestinal infectious diseases (A01-A08)\", 5: \"Typhoid fever (A01.0)\", 6: \"Paratyphoid fevers and other salmonella infections (A01.1-A01.4,A02)\", 7: \"Shigellosis (A03)\", 8: \"Other bacterial food-borne intoxications (A05)\", 9: \"Amebiasis (A06)\", 10: \"Intestinal infections due to other specified organisms (A04,A07-A08)\", 11: \"Diarrhea and gastroenteritis of infectious origin (A09)\", 12: \"Tuberculosis (A16-A19)\", 13: \"Respiratory tuberculosis (A16)\", 14: \"Other tuberculosis (A17-A19)\", 15: \"Zoonotic and other bacterial diseases (A20-A49)\", 16: \"Plague (A20)\", 17: \"Brucellosis (A23)\", 18: \"Tetanus (A33-A35)\", 19: \"Diptheria (A36)\", 20: \"Whooping cough (A37)\", 21: \"Scarlet fever and erysipelas (A38,A46)\", 22: \"Meningococcal infection (A39)\", 23: \"Septicemia (A40-A41)\", 24: \"Other zoonotic and bacterial diseases (A21-A22,A24-A32,A42-A44, A48-A49)\", 25: \"Infections with a predominately sexual mode of transmission (A50-A64)\", 26: \"Syphilis (A50-A53)\", 27: \"Cardiovascular syphilis (A52.0)\", 28: \"Neurosyphilis (A52.1-A52.3)\", 29: \"Other and unspecified syphilis (A50-A51,A52.7-A52.9,A53)\", 30: \"Gonococcal infection (A54)\", 31: \"Other infections with a predominately sexual mode of transmission (A55-A64)\", 32: \"Other infections caused by spirochetes, chlamydia or rickettsia (A65-A79)\", 33: \"Lyme disease (A69.2)\", 34: \"Typhus fever (A75)\", 35: \"All other infections caused by spirochetes, chlamydia or rickettsia (A65-A68,A69.0-A69.1,A69.8-A69.9,A70-A74,A77-A79)\", 36: \"Viral diseases (A80-B34)\", 37: \"Acute poliomyelitis (A80)\", 38: \"Rabies (A82)\", 39: \"Arthropod-borne viral encephalitis (A83-A84,A85.2)\", 40: \"Yellow fever (A95)\", 41: \"Other and unspecified arthropod-borne viral and hemorrhagic fevers (A90-A94,A96-A99)\", 42: \"Herpesviral (herpes simplex) infections (B00)\", 43: \"Zoster (herpes zoster) (B02)\", 44: \"Smallpox (B03)\", 45: \"Measles (B05)\", 46: \"Rubella (German measles) (B06)\", 47: \"Viral hepatitis (B15-B19)\", 48: \"Human immunodeficiency virus (HIV) disease (B20-B24)\", 49: \"Human immunodeficiency virus (HIV) disease resulting in infectious and parasitic diseases (B20)\", 50: \"Human immunodeficiency virus (HIV) disease resulting in malignant neoplasms (B21)\", 51: \"Human immunodeficiency virus (HIV) disease resulting in other specified diseases (B22)\", 52: \"Human immunodeficiency virus (HIV) disease resulting in other conditions (B23)\", 53: \"Unspecified human immunodeficiency virus (HIV) disease (B24)\", 54: \"All other and unspecified viral diseases (A81,A85.0-A85.1,A85.8, A86-A89,B01,B04,B07-B09,B25-B34)\", 55: \"Other and unspecified infectious and parasitic diseases and their sequelae (B35-B99)\", 56: \"Mycoses (B35-B49)\", 57: \"Protozoal diseases (B50-B64)\", 58: \"Malaria (B50-B54)\", 59: \"Leishmaniasis (B55)\", 60: \"Trypanosomiasis (B56-B57)\", 61: \"Pneumocystosis (B59)\", 62: \"Other and unspecified protozoal diseases (B58,B60-B64)\", 63: \"Helminthiases (B65-B83)\", 64: \"Schistosomiasis (bilharziasis) (B65)\", 65: \"Other and unspecified helminthiases (B66-B83)\", 66: \"Sequelae of tuberculosis (B90)\", 67: \"Sequelae of poliomyelitis (B91)\", 68: \"All other and unspecified infectious and parasitic diseases and their sequelae (B85-B89,B92-B99)\", 69: \"II. Neoplasms (C00-D48)\", 70: \"Malignant neoplasms (C00-C97)\", 71: \"Malignant neoplasms of lip, oral cavity and pharynx (C00-C14)\", 72: \"Of lip (C00)\", 73: \"Of tongue (C01-C02)\", 74: \"Of pharynx (C10-C13,C14.0)\", 75: \"Of other and unspecified sites within the lip, oral cavity and pharynx (C03-C09,C14.2-C14.8)\", 76: \"Malignant neoplasms of digestive organs (C15-C26)\", 77: \"Of esophagus (C15)\", 78: \"Of stomach (C16)\", 79: \"Of small intestine (C17)\", 80: \"Of colon, rectum and anus (C18-C21)\", 81: \"Colon (C18)\", 82: \"Rectosigmoid junction and rectum (C19-C20)\", 83: \"Anus and anus canal (C21)\", 84: \"Of liver and intrahepatic bile ducts (C22)\", 85: \"Liver (C22.0,C22.2-C22.9)\", 86: \"Intrahepatic bile duct carcinoma (C22.1)\", 87: \"Of gallbladder and extrahepatic bile ducts (C23-C24)\", 88: \"Of pancreas (C25)\", 89: \"Of other and ill-defined digestive organs (C26)\", 90: \"Malignant neoplasms of respiratory and intrathoracic organs (C30-C39)\", 91: \"Of nasal cavity, middle ear and accessory sinuses (C30-C31)\", 92: \"Of larynx (C32)\", 93: \"Of trachea, bronchus and lung (C33-C34)\", 94: \"Of thymus, heart, mediastinum and pleura (C37-C38)\", 95: \"Of other and ill-defined sites in respiratory system and intrathoracic organs (C39)\", 96: \"Malignant neoplasms of bone and articular cartilage (C40-C41)\", 97: \"Melanoma and other malignant neoplasms of skin (C43-C44)\", 98: \"Malignant melanoma of skin (C43)\", 99: \"Other malignant neoplasms of skin (C44)\", 100: \"Malignant neoplasms of mesothelial and soft tissue (C45-C49)\", 101: \"Mesothelioma (C45)\", 102: \"Kaposi=s sarcoma (C46)\", 103: \"Of other mesothelial and soft tissue (C47-C49)\", 104: \"Malignant neoplasm of breast (C50)\", 105: \"Malignant neoplasms of female genital organs (C51-C58)\", 106: \"Of vulva and vagina (C51-C52)\", 107: \"Of cervix uteri (C53)\", 108: \"Of corpus uteri and uterus, part unspecified (C54-C55)\", 109: \"Of ovary (C56)\", 110: \"Of other and unspecified female genital organs (C57)\", 111: \"Of placenta (C58)\", 112: \"Malignant neoplasms of male genital organs (C60-C63)\", 113: \"Of prostate (C61)\", 114: \"Of testis (C62)\", 115: \"Of penis and other and unspecified male genital organs (C60,C63)\", 116: \"Malignant neoplasms of urinary tract (C64-C68)\", 117: \"Of kidney and renal pelvis (C64-C65)\", 118: \"Of bladder (C67)\", 119: \"Of other and unspecified sites within the urinary tract (C66,C68)\", 120: \"Malignant neoplasm of eye and adnexa (C69)\", 121: \"Malignant neoplasms of meninges, brain and other parts of central nervous system (C70-C72)\", 122: \"Of brain (C71)\", 123: \"Of other parts of central nervous system (C70,C72)\", 124: \"Malignant neoplasms of thyroid and other endocrine glands (C73-C75)\", 125: \"Other malignant neoplasms of other and unspecified sites (C76-C80,C97)\", 126: \"Malignant neoplasms of lymphoid, hematopoietic and related tissue (C81-C96)\", 127: \"Hodgkin=s disease (C81)\", 128: \"Of other lymphoid, hematopoietic and related tissue (C82-C85,C96)\", 129: \"Non-Hodgkin=s lymphoma (C82-C85)\", 130: \"Of other and unspecified lymphoid, hematopoietic and related tissue (C96)\", 131: \"Malignant immunoproliferative diseases (C88)\", 132: \"Multiple myeloma and malignant plasma cell neoplasms (C90)\", 133: \"Leukemia (C91-C95)\", 134: \"Lymphoid leukemia (C91)\", 135: \"Myeloid leukemia (C92)\", 136: \"Monocytic leukemia (C93)\", 137: \"Other and unspecified leukemia (C94-C95)\", 138: \"In situ neoplasms (D00-D09)\", 139: \"Carcinoma in situ of breast and genitourinary system (D05-D07)\", 140: \"Carcinoma in situ of other and unspecified sites (D00-D04,D09)\", 141: \"Benign neoplasms (D10-D36)\", 142: \"Of female genital organs (D25-D28)\", 143: \"Of eye, brain and other parts of central nervous system (D31-D33)\", 144: \"Of other and unspecified sites (D10-D24,D29-D30,D34-D36)\", 145: \"Neoplasms of uncertain or unknown behavior of specified sites (D37-D47)\", 146: \"Neoplasms of uncertain or unknown behavior of unspecified sites (D48)\", 147: \"III. Diseases of the blood and blood-forming organs and certain disorders involving the immune mechanism (D50-D89)\", 148: \"Anemias (D50-D64)\", 149: \"Nutritional anemias (D50-D53)\", 150: \"Hemolytic anemias (D55-D59)\", 151: \"Aplastic anemias (D60-D61)\", 152: \"Acute posthemorrhagic and other anemias (D62,D64)\", 153: \"Coagulation defects, purpura and other hemorrhagic conditions (D65-D69)\", 154: \"Other diseases of blood and blood-forming organs (D70-D76)\", 155: \"Certain disorders involving the immune mechanism (D80-D89)\", 156: \"IV. Endocrine, nutritional and metabolic diseases (E00-E88)\", 157: \"Endocrine diseases (E00-E34)\", 158: \"Disorders of thyroid gland (E00-E07)\", 159: \"Diabetes mellitus (E10-E14)\", 160: \"Disorders of pituitary gland (E22-E23)\", 161: \"Disorders of adrenal glands (E24-E27)\", 162: \"Diseases of thymus (E32)\", 163: \"Other endocrine diseases (E15-E21,E28-E31,E34)\", 164: \"Nutritional diseases (E40-E68)\", 165: \"Malnutrition (E40-E46)\", 166: \"Nutritional marasmus (E41)\", 167: \"Other and unspecified malnutrition (E40,E42-E46)\", 168: \"Other nutritional deficiences (E50-E64)\", 169: \"Obesity and other hyperalimentation (E65-E68)\", 170: \"Metabolic disorders (E70-E88)\", 171: \"Cystic fibrosis (E84)\", 172: \"Volume depletion, disorders of fluid, electrolyte and acid-base balance (E86-E87)\", 173: \"Other metabolic disorders (E70-E83,E85,E88)\", 174: \"V. Mental and behavioral disorders (F01-F99)\", 175: \"Organic dementia (F01,F03)\", 176: \"Other and unspecified organic mental disorders (F04-F09)\", 177: \"Mental and behavioral disorders due to psychoactive substance use (F10-F19)\", 178: \"Mental and behavioral disorders due to use of alcohol (F10)\", 179: \"Mental and behavioral disorders due to other psychoactive substance use (F11-F19)\", 180: \"Schizophrenia, schizotypal and delusional disorders (F20-F29)\", 181: \"Mood (affective) disorders (F30-F39)\", 182: \"Neurotic, stress-related and somatoform disorders (F40-F48)\", 183: \"Mental retardation (F70-F79)\", 184: \"Other and unspecified mental and behavioral disorders (F50-F69,F80-F99)\", 185: \"VI. Diseases of the nervous system (G00-G98)\", 186: \"Meningitis (G00,G03)\", 187: \"Other inflammatory diseases of central nervous system (G04-G09)\", 188: \"Parkinson=s disease (G20-G21)\", 189: \"Alzheimer=s disease (G30)\", 190: \"Multiple sclerosis (G35)\", 191: \"Epilepsy (G40-G41)\", 192: \"Transient cerebral ischemic attacks and related syndromes (G45)\", 193: \"Infantile cerebral palsy (G80)\", 194: \"All other diseases of nervous system (G10-G12,G23-G25,G31,G36-G37,G43-G44,G47-G72,G81-G98)\", 195: \"VII. Diseases of the eye and adnexa (H00-H57)\", 196: \"VIII. Diseases of the ear and mastoid process (H60-H93)\", 197: \"IX. Diseases of the circulatory system (I00-I99)\", 198: \"Acute rheumatic fever and chronic rheumatic heart diseases (I00-I09)\", 199: \"Acute rheumatic fever (I00-I02)\", 200: \"Chronic rheumatic heart diseases (I05-I09)\", 201: \"Rheumatic mitral valve diseases (I05)\", 202: \"Rheumatic aortic valve diseases (I06)\", 203: \"Disorders of both mitral and aortic valves (I08.0)\", 204: \"Other chronic rheumatic heart diseases (I07,I08.1-I08.9,I09)\", 205: \"Hypertensive diseases (I10-I13)\", 206: \"Essential (primary) hypertension (I10)\", 207: \"Hypertensive heart disease (I11)\", 208: \"Hypertensive renal disease (I12)\", 209: \"Hypertensive heart and renal disease (I13)\", 210: \"Ischemic heart diseases (I20-I25)\", 211: \"Acute myocardial infarction (I21-I22)\", 212: \"Other acute ischemic heart diseases (I24)\", 213: \"Other forms of chronic ischemic heart diseases (I20,I25)\", 214: \"Atherosclerotic cardiovascular disease, so described (I25.0)\", 215: \"All other forms of chronic ischemic heart disease (I20,I25.1-I25.9)\", 216: \"Other heart diseases (I26-I51)\", 217: \"Pulmonary heart disease and diseases of pulmonary circulation (I26-I28)\", 218: \"Pulmonary embolism (I26)\", 219: \"Other pulmonary heart disease and diseases of pulmonary circulation (I27-I28)\", 220: \"Other non-pulmonary forms of heart disease (I30-I51)\", 221: \"Acute and subacute endocarditis (I33)\", 222: \"Diseases of pericardium and acute myocarditis (I30-I31,I40)\", 223: \"Other diseases of endocardium (I34-I38)\", 224: \"Nonrheumatic mitral valve disorders (I34)\", 225: \"Nonrheumatic aortic valve disorders (I35)\", 226: \"All other diseases of endocardium (I36-I38)\", 227: \"Cardiomyopathy (I42)\", 228: \"Conduction disorders and cardiac dysrhythmias (I44-I49)\", 229: \"Heart failure (I50)\", 230: \"Congestive heart failure (I50.0)\", 231: \"Other and unspecified heart failure (I50.1-I50.9)\", 232: \"Myocarditis, unspecified and myocardial degeneration (I51.4-I51.5)\", 233: \"All other and ill-defined forms of heart disease (I50.0-I51.3, I51.6-I51.9)\", 234: \"Cerebrovascular diseases (I60-I69)\", 235: \"Subarachnoid hemorrhage (I60)\", 236: \"Intracerebral and other intracranial hemorrhage (I61-I62)\", 237: \"Cerebral infarction (I63)\", 238: \"Stroke, not specified as hemorrhage or infarction (I64)\", 239: \"Other cerebrovascular diseases and their sequelae (I67,I69)\", 240: \"Diseases of arteries, arterioles and capillaries (I70-I78)\", 241: \"Atherosclerosis (I70)\", 242: \"Aortic aneurysm and dissection (I71)\", 243: \"Other diseases of arteries, arterioles and capillaries (I70-I78)\", 244: \"Other disorders of circulatory system (I80-I99)\", 245: \"Phlebitis, thrombophlebitis, venous embolism and thrombosis (I80-I82)\", 246: \"All other and unspecified disorders of circulatory system (I83-I99)\", 247: \"X. Diseases of the respiratory system (J00-J98)\", 248: \"Acute upper respiratory infections (J00-J06)\", 249: \"Acute pharyngitis and tonsillitis (J02-J03)\", 250: \"Acute laryngitis and tracheitis ((J04)\", 251: \"Other and unspecified acute upper respiratory infections (J00-J01,J05-J06)\", 252: \"Other diseases of the respiratory system (J10-J98)\", 253: \"Influenza (J10-J11)\", 254: \"Pneumonia(J12-J18)\", 255: \"Viral pneumonia, not elsewhere classified (J12)\", 256: \"Bacterial pneumonia (J13-J15)\", 257: \"Pneumonia due to other or unspecified organisms (J16,J18)\", 258: \"Other acute lower respiratory infections (J20-J22)\", 259: \"Acute bronchitis and bronchiolitis(J20-J21)\", 260: \"Unspecified acute lower respiratory infection (J22)\", 261: \"Other diseases of upper respiratory tract (J30-J39)\", 262: \"Chronic lower respiratory diseases (J40-J47)\", 263: \"Bronchitis, chronic and unspecified, emphysema and asthma (J40-J46)\", 264: \"Bronchitis, not specified as acute or chronic (J40)\", 265: \"Chronic bronchitis (J41-J42)\", 266: \"Emphysema (J43)\", 267: \"Other chronic obstructive pulmonary disease (J44)\", 268: \"Asthma (J45-J46)\", 269: \"Bronchiectasis (J47)\", 270: \"Lung diseases due to external agents (J60-J70)\", 271: \"Pneumoconioses and chemical effects (J60-J66,J68)\", 272: \"Pneumonitis due to solids and liquids (J69)\", 273: \"Pneumonitis due to food and vomit (J69.0)\", 274: \"Other pneumonitis due to solids and liquids (J69.1-J69.8)\", 275: \"Other lung diseases due to external agents (J67,J70)\", 276: \"Suppurative and necrotic conditions of lower respiratory tract (J85-J86)\", 277: \"Pleural effusion and plaque (J90, J92)\", 278: \"All other diseases of respiratory system (J80-J84,J93-J98)\", 279: \"XI.  Diseases of the digestive system (K00-K92)\", 280: \"Diseases of oral cavity, salivary glands and jaws (K00-K14)\", 281: \"Diseases of other parts of digestive system (K20-K92)\", 282: \"Diseases of esophagus (K20-K22)\", 283: \"Peptic ulcer (K25-K28)\", 284: \"Gastric ulcer(K25)\", 285: \"Duodenal ulcer(K26)\", 286: \"Peptic ulcer, site unspecified (K27)\", 287: \"Gastrojejunal ulcer (K28)\", 288: \"Gastritis and duodenitis (K29)\", 289: \"Dyspepsia and other diseases of stomach and duodenum (K30-K31)\", 290: \"Diseases of appendix (K35-K38)\", 291: \"Hernia (K40-K46)\", 292: \"Crohn=s disease and ulcerative colitis (K50-K51)\", 293: \"Vascular disorders and obstruction of intestine without hernia (K55-K56)\", 294: \"Diverticular disease of intestine (K57)\", 295: \"Other diseases of intestines and peritoneum (K52,K58-K63)\", 296: \"Diseases of peritoneum (K65-K66)\", 297: \"Diseases of liver (K70-K76)\", 298: \"Alcoholic liver disease (K70)\", 299: \"Chronic hepatitis, not elsewhere classified (K73)\", 300: \"Fibrosis and cirrhosis of liver (K74)\", 301: \"Other diseases of liver (K71-K72,K75-K76)\", 302: \"Cholelithiasis and other disorders of gallbladder (K80-K82)\", 303: \"Disorders of biliary tract and pancreas (K83-K86)\", 304: \"Pancreatitis (K85,K86.0-K86.1)\", 305: \"Other disorders of biliary tract and pancreas (K83,K86.2-K86.9)\", 306: \"All other diseases of digestive system (K90-K92)\", 307: \"XII.  Diseases of the skin and subcutaneous tissue (L00-L98)\", 308: \"Infections of skin and subcutaneous tissue (L00-L08)\", 309: \"Other and unspecified diseases of skin and sub-cutaneous tissue (L10-L98)\", 310: \"XIII. Diseases of the musculoskeletal system and connective tissue (M00-M99)\", 311: \"Rheumatoid arthritis and related inflammatory polyarthropathies (M05-M08)\", 312: \"Systemic lupus erythematosus (M32)\", 313: \"Other arthropathies and related disorders (M00,M02,M10-M31,M33-M35)\", 314: \"Dorsopathies (M40-M54)\", 315: \"Soft tissue disorders (M60-M79)\", 316: \"Osteopathies, chondropathies and other disorders of musculoskeletal system and connective tissue (M80-M99)\", 317: \"Osteoporosis (M80-M81)\", 318: \"Other osteopathies, chondropathies and disorders of musculoskeletal system and connective tissue (M83-M99)\", 319: \"XIV.  Diseases of the genitourinary system (N00-N98)\", 320: \"Diseases of urinary system (N00-N39)\", 321: \"Glomerular and renal tubulo-interstitial diseases (N00-N15)\", 322: \"Glomerular diseases (N00-N07)\", 323: \"Acute and rapidly progressive nephritic syndrome (N00-N01)\", 324: \"Nephrotic syndrome (N04)\", 325: \"Other and unspecified glomerular diseases (N02-N03,N05-N07)\", 326: \"Renal tubulo-interstitial diseases (N10-N15)\", 327: \"Renal failure (N17-N19)\", 328: \"Urolithiasis (N20-N23)\", 329: \"Other and unspecified disorders of kidney (N25-N27)\", 330: \"Urinary tract infection, site not specified (N39.0)\", 331: \"Other diseases of urinary system (N28-N36,N39.1-N39.9)\", 332: \"Diseases of male genital organs (N40-N50)\", 333: \"Hyperplasia of prostate (N40)\", 334: \"Other diseases of male genital organs (N41-N50)\", 335: \"Disorders of breast (N60-N64)\", 336: \"Disorders of female genital organs (N70-N98)\", 337: \"Inflammatory diseases of female pelvic organs (N70-N76)\", 338: \"Noninflammatory disorders of female genital tract (N80-N98)\", 339: \"XV.  Pregnancy, childbirth and the puerperium (O00-O99)\", 340: \"Pregnancy with abortive outcome (O00-O07)\", 341: \"Ectopic pregnancy (O00)\", 342: \"Spontaneous abortion (O03)\", 343: \"Medical abortion (O04)\", 344: \"Other abortion (O05)\", 345: \"Other and unspecified pregnancy with abortive outcome (O01-O02,O06-O07)\", 346: \"Other direct obstetric deaths (O10-O92)\", 347: \"Eclampsia and pre-eclampsia (O11,O13-O16)\", 348: \"Hemorrhage of pregnancy and childbirth and placenta previa (O20,O44-O46,O67,072)\", 349: \"Complications predominately related to the puerperium (O85-O92)\", 350: \"Obstetric embolism (O88)\", 351: \"Other complications predominately related to the puerperium (O85-O87,O89-O92)\", 352: \"All other direct obstetric causes (O10,O12,O21-O43,O47-O66,O68-O71, O73-O75)\", 353: \"Obstetric death of unspecified cause (O95)\", 354: \"Other deaths related to pregnancy, childbirth and the puerperium (O96-O97)\", 355: \"Indirect obstetric deaths (O98-O99)\", 356: \"XVI.  Certain conditions originating in the perinatal period (P00-P96)\", 357: \"Newborn affected by maternal factors and by complications of pregnancy, labor and delivery (P00-P04)\", 358: \"Disorders related to short gestation and low birth weight, not elsewhere classified (P07)\", 359: \"Birth trauma (P10-P15)\", 360: \"Intrauterine hypoxia and birth asphyxia (P20-P21)\", 361: \"Respiratory distress of newborn (P22)\", 362: \"Other respiratory conditions originating in the perinatal period (P23-P28)\", 363: \"Infections specific to the perinatal period (P35-P39)\", 364: \"Other and unspecified conditions originating in the perinatal period (P05,P08,P29,P50-P96)\", 365: \"XVII. Congenital malformations, deformations and chromosomal abnormalities (Q00-Q99)\", 366: \"Anencephaly and similar malformations (Q00)\", 367: \"Spina bifida (Q05)\", 368: \"All other congenital malformations of nervous system (Q01-Q04,Q06-Q07)\", 369: \"Congenital malformations of heart (Q20-Q24)\", 370: \"Other congenital malformations of circulatory system (Q25-Q28)\", 371: \"Congenital malformations of respiratory system (Q30-Q34)\", 372: \"Other congenital malformations and deformations (Q10-Q18,Q35-Q89)\", 373: \"Down=s syndrome (Q90)\", 374: \"All other chromosomal abnormalities, not elsewhere classified (Q91-Q99)\", 375: \"XVIII.  Symptoms, signs and abnormal clinical and laboratory findings, not elsewhere classified (R00-R99)\", 376: \"Senility (R54)\", 377: \"Ill-defined and unknown causes of mortality (R95-R99)\", 378: \"Sudden infant death syndrome (R95)\", 379: \"Other ill-defined and unknown causes of mortality (R96-R99)\", 380: \"All other symptoms, signs and abnormal clinical and laboratory findings, not elsewhere classified (R00-R53,R55-R94)\", 381: \"XX.  External causes of mortality (*U01-*U03,V01-Y89)\", 382: \"Accidents (unintentional injuries) (V01-X59,Y85-Y86)\", 383: \"Transport accidents (V01-V99, Y85)\", 384: \"Railway accidents (V05,V15,V80.6,V81.2-V81.9,V80.3-V80.5, V81.0-V81.1,V82.0-V82.1,V83-V86,V87.0-V87.8,V88.0-V88.8,V89.0, V89.2)\", 385: \"Motor vehicle accidents (V02-V04,V09.0,V09.2,V12-V14,V19.0-V19.2, V19.4-V19.6,V20-V79,V80.3-V80.5,V81.0-V81.1,V82.0-V82.1,V83-V86, V87.0-V87.8,V88.0-V88.8,V89.0,V89.2)\", 386: \"Pedestrian involved in collision with motor vehicle (V02-V04)\", 387: \"Pedalcyclist involved in collision with motor vehicle (V12-V14,V19.0,V19.2-V19.4-V19.6)\", 388: \"Motorcyclist involved in any accident except collision with railway train (V20-V24,V26-V34,V36-V39)\", 389: \"Motor vehicle accident involving collision with railway train (V25,V35,V45,V55,V65,V75,V81.0-V81.1,V87.6,V88.6)\", 390: \"Motorcyclist involved in collision with railway train (V25,V35)\", 391: \"Other motor vehicle accident involving collision with railway train (V45,V55,V65,V75,V81.0-V81.1,V87.6,V88.6)\", 392: \"Occupant of motor vehicle involved in collision with other (non- motorized) road vehicle, streetcar, animal or pedestrian (V40-V41,V46-V47,V50-V51,V56-V57,V60-V61,V66-V67,V70-V71, V76-V77)\", 393: \"Occupant of car, pickup truck or van involved in collision with other motor vehicle (V42-V44,V49,V52-V54,V59)\", 394: \"Occupant of heavy transport vehicle or bus involved in collision with other motor vehicle (V62-V64,V69,V72-V74,V79)\", 395: \"Occupant of motor vehicle involved in non-collision accident (V48,V58,V68,V78)\", 396: \"Occupant of special-use motor vehicle involved in any accident (V83-V86)\", 397: \"Other and unspecified motor vehicle accidents (V09.0,V09.2,V80.3-V80.5,V82.0-V82.1,V87.0-V87.5,V87.7-V87.8, V88.0-V88.5,V88.7-V88.8,V89.0,V89.2)\", 398: \"Streetcar accidents (V82.2-V82.9)\", 399: \"Other and unspecified land transport accidents (V01,V06,V09.1,V09.3,V09.9,V10-V11,V16-V18,V19.3,V19.8-V19.9, V80.0-V80.2,V80.7-V80.9,V87.9,V88.9,V89.1,V89.3,V89.9)\", 400: \"Water transport accidents (V90-V94)\", 401: \"Air and space transport accidents (V95-V97)\", 402: \"Other and unspecified transport accidents and their sequelae (V98-V99,Y85)\", 403: \"Falls (W00-W19)\", 404: \"Fall on same level (W00-W09,W18)\", 405: \"Fall from one level to another (W10-W17)\", 406: \"Unspecified fall (W19)\", 407: \"Accidental discharge of firearms (W32-W34)\", 408: \"Accidental explosion (W39-W40)\", 409: \"Accidental drowning and submersion (W65-W74)\", 410: \"Accidental inhalation and ingestion of food or other objects causing obstruction of respiratory tract (W78-W80)\", 411: \"Other accidental and unspecified threats to breathing (W75-W77,W81-W84)\", 412: \"Accidental exposure to electrical current (W85-W87)\", 413: \"Accidental exposure to radiation (W88-W91)\", 414: \"Accidental exposure to smoke, fire and flames (X00-X09)\", 415: \"Accidental contact with heat and hot substances (X10-X19)\", 416: \"Lightning (X33)\", 417: \"Earthquake, volcanic eruption, avalanche, landslide and other earth movements (X34-X36)\", 418: \"Cataclysmic storm and flood (X37-X38)\", 419: \"Accidental poisoning and exposure to noxious substances (X40-X49)\", 420: \"Accidental poisoning by and exposure to drugs and other biological substances (X40-X44)\", 421: \"Accidental poisoning by and exposure to other and unspecified solid or liquids substances (X45-X46,X48-X49)\", 422: \"Accidental poisoning by and exposure to other gases and vapors (X47)\", 423: \"All other and unspecified accidents (W20-W31,W35-W38,W41-W64,W92-W99,X20-X32,X39,X50-X59,Y86)\", 424: \"Intentional self-harm (suicide) (*U03,X60-X84,Y87.0)\", 425: \"Intentional self-poisoning (suicide) by and exposure to drugs and other biological substances (X60-X64)\", 426: \"Intentional self-poisoning (suicide) by and exposure to other and unspecified solid or liquid substances and their vapors (X65-X66,X68-X69)\", 427: \"Intentional self-poisoning (suicide) by and exposure to other gases and vapors (X67)\", 428: \"Intentional self-harm (suicide) by hanging, strangulation and suffocation (X70)\", 429: \"Intentional self-harm (suicide) by discharge of firearms (X72-X74)\", 430: \"Intentional self-harm (suicide) by jumping from a high place (X80)\", 431: \"Intentional self-harm (suicide) by all other and unspecified means and their sequelae (*U03,X71,X75-X79,X81-X84,X87.0)\", 432: \"Assault (homicide) (*U01-*U02,X85-Y09,X87.1)\", 433: \"Assault (homicide) by drugs, biological substances and other and unspecified noxious substances (*U01.6-*U01.7,X85-X90)\", 434: \"Assault (homicide) by hanging, strangulation and suffocation (X91)\", 435: \"Assault (homicide) by discharge of firearms (*U01.4,X93-X95)\", 436: \"Assault (homicide) by sharp object (X99)\", 437: \"Assault (homicide) by blunt object (Y00)\", 438: \"Assault (homicide) by bodily force (Y04)\", 439: \"Sexual assault (homicide) by bodily force (Y05)\", 440: \"Neglect, abandonment and other maltreatment syndromes (Y06-Y07)\", 441: \"Assault (homicide) by all other and unspecified means and their sequelae (*U01.0-*U01.3,*U01.5,*U01.8-*U01.9,*U02,X92,X96-X98, Y01-Y03,Y08-Y09,Y87.1)\", 442: \"Event of undetermined intent (Y10-Y34,Y87.2,Y89.9)\", 443: \"Poisoning by and exposure to drugs and biological substances, undetermined intent (Y10-Y14)\", 444: \"Poisoning by and exposure to other and unspecified solid or liquid substance undetermined intent (Y15-Y16,Y18-Y19)\", 445: \"Poisoning by and exposure to other gases and vapors, undetermined intent (Y17)\", 446: \"Discharge of firearms, undetermined intent (Y22-Y24)\", 447: \"Falling, jumping or pushed from a high place, undetermined intent (Y30)\", 448: \"All other and unspecified events of undetermined intent and their sequelae (Y20-Y21,Y25-Y29,Y31-Y34,Y87.2,Y89.9)\", 449: \"Legal intervention (Y35,Y89.0)\", 450: \"Legal intervention (Y35.5)\", 451: \"Other legal intervention and their sequelae (Y35.0-Y35.4,Y35.6-Y35.7,Y89.0)\", 452: \"Operations of war and their sequelae (Y36,Y89.1)\", 453: \"Complications of medical and surgical care (Y40-Y84,Y88)\", 454: \"Drugs, medicaments and biological substances causing adverse effects in therapeutic use and their sequelae (Y40-Y59,Y88.0)\", 455: \"Misadventures to patients during medical and surgical care and their sequelae (Y60-Y69,Y88.1)\", 456: \"Other complications of medical and surgical care and their sequelae (Y70-Y84,Y88.2-Y88.3)\"}"
   ]
  },
  {
   "cell_type": "code",
   "execution_count": 57,
   "id": "8796ad4c-96d8-496d-93e2-d55a8a10ecdc",
   "metadata": {},
   "outputs": [
    {
     "data": {
      "text/html": [
       "<div>\n",
       "<style scoped>\n",
       "    .dataframe tbody tr th:only-of-type {\n",
       "        vertical-align: middle;\n",
       "    }\n",
       "\n",
       "    .dataframe tbody tr th {\n",
       "        vertical-align: top;\n",
       "    }\n",
       "\n",
       "    .dataframe thead th {\n",
       "        text-align: right;\n",
       "    }\n",
       "</style>\n",
       "<table border=\"1\" class=\"dataframe\">\n",
       "  <thead>\n",
       "    <tr style=\"text-align: right;\">\n",
       "      <th></th>\n",
       "      <th>358_cause_recode_text</th>\n",
       "    </tr>\n",
       "  </thead>\n",
       "  <tbody>\n",
       "    <tr>\n",
       "      <th>0</th>\n",
       "      <td>Malignant melanoma of skin (C43)</td>\n",
       "    </tr>\n",
       "    <tr>\n",
       "      <th>1</th>\n",
       "      <td>Emphysema (J43)</td>\n",
       "    </tr>\n",
       "    <tr>\n",
       "      <th>2</th>\n",
       "      <td>Other cerebrovascular diseases and their seque...</td>\n",
       "    </tr>\n",
       "    <tr>\n",
       "      <th>3</th>\n",
       "      <td>Diabetes mellitus (E10-E14)</td>\n",
       "    </tr>\n",
       "    <tr>\n",
       "      <th>4</th>\n",
       "      <td>Of trachea, bronchus and lung (C33-C34)</td>\n",
       "    </tr>\n",
       "  </tbody>\n",
       "</table>\n",
       "</div>"
      ],
      "text/plain": [
       "                               358_cause_recode_text\n",
       "0                   Malignant melanoma of skin (C43)\n",
       "1                                    Emphysema (J43)\n",
       "2  Other cerebrovascular diseases and their seque...\n",
       "3                        Diabetes mellitus (E10-E14)\n",
       "4            Of trachea, bronchus and lung (C33-C34)"
      ]
     },
     "execution_count": 57,
     "metadata": {},
     "output_type": "execute_result"
    }
   ],
   "source": [
    "raw_2005_DD_df[\"358_cause_recode_text\"] = raw_2005_DD_df[\"358_cause_recode\"].map(cause_recode_358)\n",
    "raw_2005_DD_df[[\"358_cause_recode_text\"]].head()"
   ]
  },
  {
   "cell_type": "code",
   "execution_count": 58,
   "id": "3f64680d-032d-40d0-8cee-a2824464c7c6",
   "metadata": {},
   "outputs": [],
   "source": [
    "#Map the numeric codes in the csv file to the corresponding text string descriptions\n",
    "#map 113_cause_recode dictionary value to dataframe\n",
    "cause_recode_113 = {1: \"Salmonella infections (A01-A02)\", 2: \"Shigellosis and amebiasis (A03,A06)\", 3: \"Certain other intestinal infections (A04,A07-A09)\", 4: \"Tuberculosis (A16-A19)\", 5: \"Respiratory tuberculosis (A16)\", 6: \"Other tuberculosis (A17-A19)\", 7: \"Whooping cough (A37)\", 8: \"Scarlet fever and erysipelas (A38,A46)\", 9: \"Meningococcal infection (A39)\", 10: \"Septicemia (A40-A41)\", 11: \"Syphilis (A50-A53)\", 12: \"Acute poliomyelitis (A80)\", 13: \"Arthropod-borne viral encephalitis (A83-A84,A85.2)\", 14: \"Measles (B05)\", 15: \"Viral hepatitis (B15-B19)\", 16: \"Human immunodeficiency virus (HIV) disease (B20-B24)\", 17: \"Malaria (B50-B54)\", 18: \"Other and unspecified infectious and parasitic diseases and their sequelae (A00,A05,A20-A36,A42-A44,A48-A49,A54-A79,A81-A82,A85.0-A85.1,A85.8, A86-B04,B06-B09,B25-B49,B55-B99)\", 19: \"Malignant neoplasms (C00-C97)\", 20: \"Malignant neoplasms of lip, oral cavity and pharynx (C00-C14)\", 21: \"Malignant neoplasm of esophagus (C15)\", 22: \"Malignant neoplasm of stomach (C16)\", 23: \"Malignant neoplasms of colon, rectum and anus (C18-C21)\", 24: \"Malignant neoplasms of liver and intrahepatic bile ducts (C22)\", 25: \"Malignant neoplasm of pancreas (C25)\", 26: \"Malignant neoplasm of larynx (C32)\", 27: \"Malignant neoplasms of trachea, bronchus and lung (C33-C34)\", 28: \"Malignant melanoma of skin (C43)\", 29: \"Malignant neoplasm of breast (C50)\", 30: \"Malignant neoplasm of cervix uteri (C53)\", 31: \"Malignant neoplasms of corpus uteri and uterus, part unspecified (C54-C55)\", 32: \"Malignant neoplasm of ovary (C56)\", 33: \"Malignant neoplasm of prostate (C61)\", 34: \"Malignant neoplasms of kidney and renal pelvis (C64-C65)\", 35: \"Malignant neoplasm of bladder (C67)\", 36: \"Malignant neoplasms of meninges, brain and other parts of central nervous system (C70-C72)\", 37: \"Malignant neoplasms of lymphoid, hematopoietic and related tissue (C81-C96)\", 38: \"Hodgkin\\'s disease (C81)\", 39: \"Non-Hodgkin\\'s lymphoma (C82-C85)\", 40: \"Leukemia (C91-C95)\", 41: \"Multiple myeloma and immunoproliferative neoplasms (C88,C90)\", 42: \"Other and unspecified malignant neoplasms of lymphoid, hematopoietic and related tissue (C96)\", 43: \"All other and unspecified malignant neoplasms (C17,C23-C24,C26-C31,C37-C41, C44-C49,C51-C52,C57-C60,C62-C63,C66,C68-C69,C73-C80,C97)\", 44: \"In situ neoplasms, benign neoplasms and neoplasms of uncertain or unknown behavior (D00-D48)\", 45: \"Anemias (D50-D64)\", 46: \"Diabetes mellitus (E10-E14)\", 47: \"Nutritional deficiencies (E40-E64)\", 48: \"Malnutrition (E40-E46)\", 49: \"Other nutritional deficiencies (E50-E64)\", 50: \"Meningitis (G00,G03)\", 51: \"Parkinson\\'s disease (G20-G21)\", 52: \"Alzheimer\\'s disease (G30)\", 53: \"Major cardiovascular diseases (I00-I78)\", 54: \"Diseases of heart (I00-I09,I11,I13,I20-I51)\", 55: \"Acute rheumatic fever and chronic rheumatic heart diseases (I00-I09)\", 56: \"Hypertensive heart disease (I11)\", 57: \"Hypertensive heart and renal disease (I13)\", 58: \"Ischemic heart diseases (I20-I25)\", 59: \"Acute myocardial infarction (I21-I22)\", 60: \"Other acute ischemic heart diseases (I24)\", 61: \"Other forms of chronic ischemic heart disease (I20,I25)\", 62: \"Atherosclerotic cardiovascular disease, so described (I25.0)\", 63: \"All other forms of chronic ischemic heart disease (I20,I25.1-I25.9)\", 64: \"Other heart diseases (I26-I51)\", 65: \"Acute and subacute endocarditis (I33)\", 66: \"Diseases of pericardium and acute myocarditis (I30-I31,I40)\", 67: \"Heart failure (I50)\", 68: \"All other forms of heart disease (I26-I28,I34-I38,I42-I49,I51)\", 69: \"Essential (primary) hypertension and hypertensive renal disease (I10,I12)\", 70: \"Cerebrovascular diseases (I60-I69)\", 71: \"Atherosclerosis (I70)\", 72: \"Other diseases of circulatory system (I71-I78)\", 73: \"Aortic aneurysm and dissection (I71)\", 74: \"Other diseases of arteries, arterioles and capillaries (I72-I78)\", 75: \"Other disorders of circulatory system (I80-I99)\", 76: \"Influenza and pneumonia (J10-J18)\", 77: \"Influenza (J10-J11)\", 78: \"Pneumonia (J12-J18)\", 79: \"Other acute lower respiratory infections (J20-J22)\", 80: \"Acute bronchitis and bronchiolitis (J20-J21)\", 81: \"Unspecified acute lower respiratory infection (J22)\", 82: \"Chronic lower respiratory diseases (J40-J47)\", 83: \"Bronchitis, chronic and unspecified (J40-J42)\", 84: \"Emphysema (J43)\", 85: \"Asthma (J45-J46)\", 86: \"Other chronic lower respiratory diseases (J44,J47)\", 87: \"Pneumoconioses and chemical effects (J60-J66,J68)\", 88: \"Pneumonitis due to solids and liquids (J69)\", 89: \"Other diseases of respiratory system (J00-J06,J30-J39,J67,J70-J98)\", 90: \"Peptic ulcer (K25-K28)\", 91: \"Diseases of appendix (K35-K38)\", 92: \"Hernia (K40-K46)\", 93: \"Chronic liver disease and cirrhosis (K70,K73-K74)\", 94: \"Alcoholic liver disease (K70)\", 95: \"Other chronic liver disease and cirrhosis (K73-K74)\", 96: \"Cholelithiasis and other disorders of gallbladder (K80-K82)\", 97: \"Nephritis, nephrotic syndrome and nephrosis (N00-N07,N17-N19,N25-N27)\", 98: \"Acute and rapidly progressive nephritic and nephrotic syndrome (N00-N01,N04)\", 99: \"Chronic glomerulonephritis, nephritis and nephropathy not specified as acute or chronic, and renal sclerosis unspecified (N02-N03,N05-N07,N26)\", 100: \"Renal failure (N17-N19)\", 101: \"Other disorders of kidney (N25,N27)\", 102: \"Infections of kidney (N10-N12,N13.6,N15.1)\", 103: \"Hyperplasia of prostate (N40)\", 104: \"Inflammatory diseases of female pelvic organs (N70-N76)\", 105: \"Pregnancy, childbirth and the puerperium (O00-O99)\", 106: \"Pregnancy with abortive outcome (O00-O07)\", 107: \"Other complications of pregnancy, childbirth and the puerperium (O10-O99)\", 108: \"Certain conditions originating in the perinatal period (P00-P96)\", 109: \"Congenital malformations, deformations and chromosomal abnormalities (Q00-Q99)\", 110: \"Symptoms, signs and abnormal clinical and laboratory findings, not elsewhere classified (R00-R99)\", 111: \"All other diseases (Residual) (D65-E07,E15-E34,E65-F99,G04-G12,G23-G25,G31-H93, K00-K22,K29-K31,K50-K66,K71-K72,K75-K76,K83-M99, N13.0-N13.5,N13.7-N13.9, N14,N15.0,N15.8-N15.9,N20-N23,N28-N39,N41-N64,N80-N98)\", 112: \"Accidents (unintentional injuries) (V01-X59,Y85-Y86)\", 113: \"Transport accidents (V01-V99,Y85)\", 114: \"Motor vehicle accidents (V02-V04,V09.0,V09.2,V12-V14,V19.0-V19.2, V19.4-V19.6,V20-V79,V80.3-V80.5,V81.0-V81.1,V82.0-V82.1,V83-V86, V87.0-V87.8,V88.0-V88.8,V89.0,V89.2)\", 115: \"Other land transport accidents (V01,V05-V06,V09.1,V09.3-V09.9, V10-V11, V15-V18,V19.3,V19.8-V19.9,V80.0-V80.2,V80.6-V80.9,V81.2-V81.9, V82.2-V82.9,V87.9,V88.9,V89.1,V89.3,V89.9)\", 116: \"Water, air and space, and other and unspecified transport accidents and their sequelae (V90-V99,Y85)\", 117: \"Nontransport accidents (W00-X59,Y86)\", 118: \"Falls (W00-W19)\", 119: \"Accidental discharge of firearms (W32-W34)\", 120: \"Accidental drowning and submersion (W65-W74)\", 121: \"Accidental exposure to smoke, fire and flames (X00-X09)\", 122: \"Accidental poisoning and exposure to noxious substances (X40-X49)\", 123: \"Other and unspecified nontransport accidents and their sequelae (W20-W31,W35-W64,W75-W99,X10-X39,X50-X59,Y86)\", 124: \"Intentional self-harm (suicide) (*U03,X60-X84,Y87.0)\", 125: \"Intentional self-harm (suicide) by discharge of firearms (X72-X74)\", 126: \"Intentional self-harm (suicide) by other and unspecified means and their sequelae (*U03,X60-X71,X75-X84,Y87.0)\", 127: \"Assault (homicide) (*U01-*U02,X85-Y09,Y87.1)\", 128: \"Assault (homicide) by discharge of firearms (*U01.4,X93-X95)\", 129: \"Assault (homicide) by other and unspecified means and their sequelae (*U01.0-*U01.3,*U01.5-*U01.9,*U02,X85-X92,X96-Y09,Y87.1)\", 130: \"Legal intervention (Y35,Y89.0)\", 131: \"Events of undetermined intent (Y10-Y34,Y87.2,Y89.9)\", 132: \"Discharge of firearms, undetermined intent (Y22-Y24)\", 133: \"Other and unspecified events of undetermined intent and their sequelae (Y10-Y21,Y25-Y34,Y87.2,Y89.9)\", 134: \"Operations of war and their sequelae (Y36,Y89.1)\", 135: \"Complications of medical and surgical care (Y40-Y84,Y88)\"}"
   ]
  },
  {
   "cell_type": "code",
   "execution_count": 59,
   "id": "635d4f5b-02f5-45fa-ac0f-545566326883",
   "metadata": {},
   "outputs": [
    {
     "data": {
      "text/html": [
       "<div>\n",
       "<style scoped>\n",
       "    .dataframe tbody tr th:only-of-type {\n",
       "        vertical-align: middle;\n",
       "    }\n",
       "\n",
       "    .dataframe tbody tr th {\n",
       "        vertical-align: top;\n",
       "    }\n",
       "\n",
       "    .dataframe thead th {\n",
       "        text-align: right;\n",
       "    }\n",
       "</style>\n",
       "<table border=\"1\" class=\"dataframe\">\n",
       "  <thead>\n",
       "    <tr style=\"text-align: right;\">\n",
       "      <th></th>\n",
       "      <th>113_cause_recode_text</th>\n",
       "    </tr>\n",
       "  </thead>\n",
       "  <tbody>\n",
       "    <tr>\n",
       "      <th>0</th>\n",
       "      <td>Malignant melanoma of skin (C43)</td>\n",
       "    </tr>\n",
       "    <tr>\n",
       "      <th>1</th>\n",
       "      <td>Emphysema (J43)</td>\n",
       "    </tr>\n",
       "    <tr>\n",
       "      <th>2</th>\n",
       "      <td>Cerebrovascular diseases (I60-I69)</td>\n",
       "    </tr>\n",
       "    <tr>\n",
       "      <th>3</th>\n",
       "      <td>Diabetes mellitus (E10-E14)</td>\n",
       "    </tr>\n",
       "    <tr>\n",
       "      <th>4</th>\n",
       "      <td>Malignant neoplasms of trachea, bronchus and l...</td>\n",
       "    </tr>\n",
       "  </tbody>\n",
       "</table>\n",
       "</div>"
      ],
      "text/plain": [
       "                               113_cause_recode_text\n",
       "0                   Malignant melanoma of skin (C43)\n",
       "1                                    Emphysema (J43)\n",
       "2                 Cerebrovascular diseases (I60-I69)\n",
       "3                        Diabetes mellitus (E10-E14)\n",
       "4  Malignant neoplasms of trachea, bronchus and l..."
      ]
     },
     "execution_count": 59,
     "metadata": {},
     "output_type": "execute_result"
    }
   ],
   "source": [
    "raw_2005_DD_df[\"113_cause_recode_text\"] = raw_2005_DD_df[\"113_cause_recode\"].map(cause_recode_113)\n",
    "raw_2005_DD_df[[\"113_cause_recode_text\"]].head()"
   ]
  },
  {
   "cell_type": "code",
   "execution_count": 60,
   "id": "06ea5548-0591-46fc-bcee-4d02eb4b5c5e",
   "metadata": {},
   "outputs": [],
   "source": [
    "#Map the numeric codes in the csv file to the corresponding text string descriptions\n",
    "#map 130_infant_cause_recode dictionary value to dataframe\n",
    "infant_cause_recode_130 = {1: \"Certain infectious and parasitic diseases (A00-B99)\", 2: \"Certain intestinal infectious diseases (A00-A08)\", 3: \"Diarrhea and gastroenteritis of infectious origin (A09)\", 4: \"Tuberculosis (A16-A19)\", 5: \"Tetanus (A33,A35)\", 6: \"Diphtheria (A36)\", 7: \"Whooping cough (A37)\", 8: \"Meningococcal infection (A39)\", 9: \"Septicemia (A40-A41)\", 10: \"Congenital syphilis (A50)\", 11: \"Gonococcal infection (A54)\", 12: \"Viral diseases (A80-B34)\", 13: \"Acute poliomyelitis (A80)\", 14: \"Varicella (chickenpox) (B01)\", 15: \"Measles (B05)\", 16: \"Human immunodeficiency virus (HIV) disease (B20-B24)\", 17: \"Mumps (B26)\", 18: \"Other and unspecified viral diseases (A81-B00,B02-B04,B06-B19,B25,B27-B34)\", 19: \"Candidiasis (B37)\", 20: \"Malaria (B50-B54)\", 21: \"Pneumocystosis (B59)\", 22: \"All other and unspecified infectious and parasitic diseases (A20-A32,A38,A42-A49,A51-A53,A55-A79,B35-B36,B38-B49,B55-B58,B60-B99)\", 23: \"Neoplasms (C00-D48)\", 24: \"Malignant neoplasms (C00-C97)\", 25: \"Hodgkin\\'s disease and non-Hodgkin\\'s lymphomas (C81-C85)\", 26: \"Leukemia (C91-C95)\", 27: \"Other and unspecified malignant neoplasms (C00-C80,C88,C90,C96-C97)\", 28: \"In situ neoplasms, benign neoplasms and neoplasms of uncertain or unknown behavior (D00-D48)\", 29: \"Diseases of the blood and blood-forming organs and certain disorders involving the immune mechanism (D50-D89)\", 30: \"Anemias (D50-D64)\", 31: \"Hemorrhagic conditions and other diseases of blood and blood-forming organs (D65-D76)\", 32: \"Certain disorders involving the immune mechanism (D80-D89)\", 33: \"Endocrine, nutritional and metabolic diseases (E00-E88)\", 34: \"Short stature, not elsewhere classified (E34.3)\", 35: \"Nutritional deficiencies (E40-E64)\", 36: \"Cystic fibrosis (E84)\", 37: \"Volume depletion, disorders of fluid, electrolyte and acid-base balance (E86-E87)\", 38: \"All other endocrine, nutritional and metabolic diseases (E00-E32,E34.0-E34.2,E34.4-E34.9,E65-E83,E85,E88)\", 39: \"Diseases of the nervous system (G00-G98)\", 40: \"Meningitis (G00,G03)\", 41: \"Infantile spinal muscular atrophy, type I (Werdnig-Hoffman) (G12.0)\", 42: \"Infantile cerebral palsy (G80)\", 43: \"Anoxic brain damage, not elsewhere classified (G93.1)\", 44: \"Other diseases of nervous system (G04,G06-G11,G12.1-G12.9,G20-G72,G81-G92,G93.0,G93.2-G93.9,G95-G98)\", 45: \"Diseases of the ear and mastoid process (H60-H93)\", 46: \"Diseases of the circulatory system (I00-I99)\", 47: \"Pulmonary heart disease and diseases of pulmonary circulation (I26-I28)\", 48: \"Pericarditis, endocarditis and myocarditis (I30,I33,I40)\", 49: \"Cardiomyopathy (I42)\", 50: \"Cardiac arrest (I46)\", 51: \"Cerebrovascular diseases (I60-I69)\", 52: \"All other diseases of circulatory system (I00-I25,I31,I34-I38,I44-I45,I47-I51, I70-I99)\", 53: \"Diseases of the respiratory system (J00-J98)\", 54: \"Acute upper respiratory infections (J00-J06)\", 55: \"Influenza and pneumonia (J10-J18)\", 56: \"Influenza (J10-J11)\", 57: \"Pneumonia (J12-J18)\", 58: \"Acute bronchitis and acute bronchiolitis (J20-J21)\", 59: \"Bronchitis, chronic and unspecified (J40-J42)\", 60: \"Asthma (J45-J46)\", 61: \"Pneumonitis due to solids and liquids (J69)\", 62: \"Other and unspecified diseases of respiratory system (J22,J30-J39,J43-J44,J47-J68,J70-J98)\", 63: \"Diseases of the digestive system (K00-K92)\", 64: \"Gastritis, duodenitis, and noninfective enteritis and colitis (K29,K50-K55)\", 65: \"Hernia of abdominal cavity and intestinal obstruction without hernia (K40-K46,K56)\", 66: \"All other and unspecified diseases of digestive system (K00-K28,K30-K38,K57-K92)\", 67: \"Diseases of the genitourinary system (N00-N95)\", 68: \"Renal failure and other disorders of kidney (N17-N19,N25,N27)\", 69: \"Other and unspecified diseases of genitourinary system (N00-N15,N20-N23,N26,N28-N95)\", 70: \"Certain conditions originating in the perinatal period (P00-P96)\", 71: \"Newborn affected by maternal factors and by complications of pregnancy, labor and delivery (P00-P04)\", 72: \"Newborn affected by maternal hypertensive disorders (P00.0)\", 73: \"Newborn affected by other maternal conditions which may be unrelated to present pregnancy (P00.1-P00.9)\", 74: \"Newborn affected by maternal complications of pregnancy (P01)\", 75: \"Newborn affected by incompetent cervix (P01.0)\", 76: \"Newborn affected by premature rupture of membranes (P01.1)\", 77: \"Newborn affected by multiple pregnancy (P01.5)\", 78: \"Newborn affected by other maternal complications of pregnancy (P01.2-P01.4,P01.6-P01.9)\", 79: \"Newborn affected by complications of placenta, cord and membranes (P02)\", 80: \"Newborn affected by complications involving placenta (P02.0-P02.3)\", 81: \"Newborn affected by complications involving cord (P02.4-P02.6)\", 82: \"Newborn affected by chorioamnionitis (P02.7)\", 83: \"Newborn affected by other and unspecified abnormalities of membranes (P02.8-P02.9)\", 84: \"Newborn affected by other complications of labor and delivery (P03)\", 85: \"Newborn affected by noxious influences transmitted via placenta or breast milk (P04)\", 86: \"Disorders related to length of gestation and fetal malnutrition (P05-P08)\", 87: \"Slow fetal growth and fetal malnutrition (P05)\", 88: \"Disorders related to short gestation and low birthweight, not elsewhere classified (P07)\", 89: \"Extremely low birthweight or extreme immaturity (P07.0,P07.2)\", 90: \"Other low birthweight or preterm (P07.1,P07.3)\", 91: \"Disorders related to long gestation and high birthweight (P08)\", 92: \"Birth trauma (P10-P15)\", 93: \"Intrauterine hypoxia and birth asphyxia (P20-P21)\", 94: \"Intrauterine hypoxia (P20)\", 95: \"Birth asphyxia (P21)\", 96: \"Respiratory distress of newborn (P22)\", 97: \"Other respiratory conditions originating in the perinatal period (P23-P28)\", 98: \"Congenital pneumonia (P23)\", 99: \"Neonatal aspiration syndromes (P24)\", 100: \"Interstitial emphysema and related conditions originating in the perinatal period (P25)\", 101: \"Pulmonary hemorrhage originating in the perinatal period (P26)\", 102: \"Chronic respiratory disease originating in the perinatal period (P27)\", 103: \"Atelectasis (P28.0-P28.1)\", 104: \"All other respiratory conditions originating in the perinatal period (P28.2-P28.9)\", 105: \"Infections specific to the perinatal period (P35-P39)\", 106: \"Bacterial sepsis of newborn (P36)\", 107: \"Omphalitis of newborn with or without mild hemorrhage (P38)\", 108: \"All other infections specific to the perinatal period (P35,P37,P39)\", 109: \"Hemorrhagic and hematological disorders of newborn (P50-P61)\", 110: \"Neonatal hemorrhage (P50-P52,P54)\", 111: \"Hemorrhagic disease of newborn (P53)\", 112: \"Hemolytic disease of newborn due to isoimmunization and other perinatal jaundice (P55-P59)\", 113: \"Hematological disorders (P60-P61)\", 114: \"Syndrome of infant of a diabetic mother and neonatal diabetes mellitus (P70.0-P70.2)\", 115: \"Necrotizing enterocolitis of newborn (P77)\", 116: \"Hydrops fetalis not due to hemolytic disease (P83.2)\", 117: \"Other perinatal conditions (P29,P70.3-P70.9,P71-P76,P78-P81,P83.0-P83.1, P83.3-P83.9,P90-P96)\", 118: \"Congenital malformations, deformations and chromosomal abnormalities (Q00-Q99)\", 119: \"Anencephaly and similar malformations (Q00)\", 120: \"Congenital hydrocephalus (Q03)\", 121: \"Spina bifida (Q05)\", 122: \"Other congenital malformations of nervous system (Q01-Q02,Q04,Q06-Q07)\", 123: \"Congenital malformations of heart (Q20-Q24)\", 124: \"Other congenital malformations of circulatory system (Q25-Q28)\", 125: \"Congenital malformations of respiratory system (Q30-Q34)\", 126: \"Congenital malformations of digestive system (Q35-Q45)\", 127: \"Congenital malformations of genitourinary system (Q50-Q64)\", 128: \"Congenital malformations and deformations of musculoskeletal system, limbs and integument (Q65-Q85)\", 129: \"Down\\'s syndrome (Q90)\", 130: \"Edward\\'s syndrome (Q91.0-Q91.3)\", 131: \"Patau\\'s syndrome (Q91.4-Q91.7)\", 132: \"Other congenital malformations and deformations (Q10-Q18,Q86-Q89)\", 133: \"Other chromosomal abnormalities, not elsewhere classified (Q92-Q99)\", 134: \"Symptoms, signs and abnormal clinical and laboratory findings, not elsewhere classified (R00-R99)\", 135: \"Sudden infant death syndrome (R95)\", 136: \"Other symptoms, signs and abnormal clinical and laboratory findings, not elsewhere classified (R00-R53,R55-R94,R96-R99)\", 137: \"All other diseases (Residual) (F01-F99,H00-H57,L00-M99)\", 138: \"External causes of mortality (*U01,V01-Y84)\", 139: \"Accidents (unintentional injuries) (V01-X59)\", 140: \"Transport accidents (V01-V99)\", 141: \"Motor vehicle accidents(V02-V04,V09.0,V09.2,V12-V14,V19.0-V19.2, V19.4-V19.6,V20-V79,V80.3-V80.5,V81.0-V81.1,V82.0-V82.1,V83-V86, V87.0-V87.8,V88.0-V88.8,V89.0,V89.2)\", 142: \"Other and unspecified transport accidents (V01,V05-V06,V09.1,V09.3-V09.9,V10-V11,V15-V18,V19.3, V19.8-V19.9,V80.0-V80.2,V80.6-V80.9,V81.2-V81.9,V82.2-V82.9, V87.9,V88.9,V89.1,V89.3,V89.9,V90-V99)\", 143: \"Falls (W00-W19)\", 144: \"Accidental discharge of firearms (W32-W34)\", 145: \"Accidental drowning and submersion (W65-W74)\", 146: \"Accidental suffocation and strangulation in bed (W75)\", 147: \"Other accidental suffocation and strangulation (W76-W77,W81-W84)\", 148: \"Accidental inhalation and ingestion of food or other objects causing obstruction of respiratory tract (W78-W80)\", 149: \"Accidents caused by exposure to smoke, fire and flames (X00-X09)\", 150: \"Accidental poisoning and exposure to noxious substances (X40-X49)\", 151: \"Other and unspecified accidents (W20-W31,W35-W64,W85-W99,X10-X39,X50-X59)\", 152: \"Assault (homicide) (*U01,X85-Y09)\", 153: \"Assault (homicide) by hanging, strangulation and suffocation (X91)\", 154: \"Assault (homicide) by discharge of firearms (*U01.4,X93-X95)\", 155: \"Neglect, abandonment and other maltreatment syndromes (Y06-Y07)\", 156: \"Assault (homicide) by other and unspecified means (*U01.0-*U01.3,*U01.5-*U01.9,X85-X90,X92,X96-X99,Y00-Y05,Y08-Y09)\", 157: \"Complications of medical and surgical care (Y40-Y84)\", 158: \"Other external causes (Y10-Y36),\"}"
   ]
  },
  {
   "cell_type": "code",
   "execution_count": 61,
   "id": "3078a44f-a346-4796-b806-1d32fd12f3b9",
   "metadata": {},
   "outputs": [
    {
     "data": {
      "text/html": [
       "<div>\n",
       "<style scoped>\n",
       "    .dataframe tbody tr th:only-of-type {\n",
       "        vertical-align: middle;\n",
       "    }\n",
       "\n",
       "    .dataframe tbody tr th {\n",
       "        vertical-align: top;\n",
       "    }\n",
       "\n",
       "    .dataframe thead th {\n",
       "        text-align: right;\n",
       "    }\n",
       "</style>\n",
       "<table border=\"1\" class=\"dataframe\">\n",
       "  <thead>\n",
       "    <tr style=\"text-align: right;\">\n",
       "      <th></th>\n",
       "      <th>130_infant_cause_recode_text</th>\n",
       "    </tr>\n",
       "  </thead>\n",
       "  <tbody>\n",
       "    <tr>\n",
       "      <th>0</th>\n",
       "      <td>NaN</td>\n",
       "    </tr>\n",
       "    <tr>\n",
       "      <th>1</th>\n",
       "      <td>NaN</td>\n",
       "    </tr>\n",
       "    <tr>\n",
       "      <th>2</th>\n",
       "      <td>NaN</td>\n",
       "    </tr>\n",
       "    <tr>\n",
       "      <th>3</th>\n",
       "      <td>NaN</td>\n",
       "    </tr>\n",
       "    <tr>\n",
       "      <th>4</th>\n",
       "      <td>NaN</td>\n",
       "    </tr>\n",
       "  </tbody>\n",
       "</table>\n",
       "</div>"
      ],
      "text/plain": [
       "  130_infant_cause_recode_text\n",
       "0                          NaN\n",
       "1                          NaN\n",
       "2                          NaN\n",
       "3                          NaN\n",
       "4                          NaN"
      ]
     },
     "execution_count": 61,
     "metadata": {},
     "output_type": "execute_result"
    }
   ],
   "source": [
    "raw_2005_DD_df[\"130_infant_cause_recode_text\"] = raw_2005_DD_df[\"130_infant_cause_recode\"].map(infant_cause_recode_130)\n",
    "raw_2005_DD_df[[\"130_infant_cause_recode_text\"]].head()"
   ]
  },
  {
   "cell_type": "code",
   "execution_count": 62,
   "id": "23ff05e8-d2d6-40a1-a31d-7fb9cb878451",
   "metadata": {},
   "outputs": [],
   "source": [
    "#Map the numeric codes in the csv file to the corresponding text string descriptions\n",
    "#map 39_cause_recode dictionary value to dataframe\n",
    "cause_recode_39 = {1: \"Tuberculosis (A16-A19)\", 2: \"Syphilis (A50-A53)\", 3: \"Human immunodeficiency virus (HIV) disease (B20-B24)\", 4: \"Malignant neoplasms (C00-C97)\", 5: \"Malignant neoplasm of stomach (C16)\", 6: \"Malignant neoplasms of colon, rectum and anus (C18-C21)\", 7: \"Malignant neoplasm of pancreas (C25)\", 8: \"Malignant neoplasms of trachea, bronchus and lung (C33-C34)\", 9: \"Malignant neoplasm of breast (C50)\", 10: \"Malignant neoplasms of cervix uteri, corpus uteri and ovary (C53-C56)\", 11: \"Malignant neoplasm of prostate (C61)\", 12: \"Malignant neoplasms of urinary tract (C64-C68)\", 13: \"Non-Hodgkin\\'s lymphoma (C82-C85)\", 14: \"Leukemia (C91-C95)\", 15: \"Other malignant neoplasms (C00-C15,C17,C22-C24,C26-C32,C37-C49,C51-C52, C57-C60,C62-C63,C69-C81,C88,C90,C96-C97)\", 16: \"Diabetes mellitus (E10-E14)\", 17: \"Alzheimer\\'s disease (G30)\", 18: \"Major cardiovascular diseases (I00-I78)\", 19: \"Diseases of heart (I00-I09,I11,I13,I20-I51)\", 20: \"Hypertensive heart disease with or without renal disease (I11,I13)\", 21: \"Ischemic heart diseases (I20-I25)\", 22: \"Other diseases of heart (I00-I09,I26-I51)\", 23: \"Essential (primary) hypertension and hypertensive renal disease (I10,I12)\", 24: \"Cerebrovascular diseases (I60-I69)\", 25: \"Atherosclerosis (I70)\", 26: \"Other diseases of circulatory system (I71-I78)\", 27: \"Influenza and pneumonia (J10-J18)\", 28: \"Chronic lower respiratory diseases (J40-J47)\", 29: \"Peptic ulcer (K25-K28)\", 30: \"Chronic liver disease and cirrhosis (K70,K73-K74)\", 31: \"Nephritis, nephrotic syndrome, and nephrosis (N00-N07,N17-N19,N25-N27)\", 32: \"Pregnancy, childbirth and the puerperium (O00-O99)\", 33: \"Certain conditions originating in the perinatal period (P00-P96)\", 34: \"Congenital malformations, deformations and chromosomal abnormalities (Q00-Q99)\", 35: \"Sudden infant death syndrome (R95)\", 36: \"Symptoms, signs and abnormal clinical and laboratory findings, not elsewhere classified (excluding Sudden infant death syndrome) (R00-R94,R96-R99)\", 37: \"All other diseases (Residual) (A00-A09,A20-A49,A54-B19,B25-B99,D00-E07, E15-G25,G31-H93,I80-J06,J20-J39,J60-K22,K29-K66,K71-K72, K75-M99,N10-N15,N20-N23,N28-N98)\", 38: \"Motor vehicle accidents (V02-V04,V09.0,V12-V14,V19.0-V19.2,V19.4-V19.6, V20-V79,V80.3-V80.5,V81.0-V81.1,V82.0-V82.1,V83-V86,V87.0-V87.8, V88.0-V88.8,V89.0,V89.2)\", 39: \"All other and unspecified accidents and adverse effects (V01,V05-V06,V09.1,V09.3-V09.9,V10-V11,V15-V18,V19.3,V19.8-V19.9, V80.0-V80.2,V80.6-V80.9,V81.2-V81.9,V82.2-V82.9,V87.9,V88.9,V89.1, V89.3,V89.9,V90-X59,Y40-Y86,Y88)\", 40: \"Intentional self-harm (suicide) (*U03,X60-X84,Y87.0)\", 41: \"Assault (homicide) (*U01-*U02,X85-Y09,Y87.1)\", 42: \"All other external causes (Y10-Y36,Y87.2,Y89)\"}"
   ]
  },
  {
   "cell_type": "code",
   "execution_count": 63,
   "id": "7477e474-5e7f-43f5-a56a-c5193e05344b",
   "metadata": {},
   "outputs": [
    {
     "data": {
      "text/html": [
       "<div>\n",
       "<style scoped>\n",
       "    .dataframe tbody tr th:only-of-type {\n",
       "        vertical-align: middle;\n",
       "    }\n",
       "\n",
       "    .dataframe tbody tr th {\n",
       "        vertical-align: top;\n",
       "    }\n",
       "\n",
       "    .dataframe thead th {\n",
       "        text-align: right;\n",
       "    }\n",
       "</style>\n",
       "<table border=\"1\" class=\"dataframe\">\n",
       "  <thead>\n",
       "    <tr style=\"text-align: right;\">\n",
       "      <th></th>\n",
       "      <th>39_cause_recode_text</th>\n",
       "    </tr>\n",
       "  </thead>\n",
       "  <tbody>\n",
       "    <tr>\n",
       "      <th>0</th>\n",
       "      <td>Other malignant neoplasms (C00-C15,C17,C22-C24...</td>\n",
       "    </tr>\n",
       "    <tr>\n",
       "      <th>1</th>\n",
       "      <td>Chronic lower respiratory diseases (J40-J47)</td>\n",
       "    </tr>\n",
       "    <tr>\n",
       "      <th>2</th>\n",
       "      <td>Cerebrovascular diseases (I60-I69)</td>\n",
       "    </tr>\n",
       "    <tr>\n",
       "      <th>3</th>\n",
       "      <td>Diabetes mellitus (E10-E14)</td>\n",
       "    </tr>\n",
       "    <tr>\n",
       "      <th>4</th>\n",
       "      <td>Malignant neoplasms of trachea, bronchus and l...</td>\n",
       "    </tr>\n",
       "  </tbody>\n",
       "</table>\n",
       "</div>"
      ],
      "text/plain": [
       "                                39_cause_recode_text\n",
       "0  Other malignant neoplasms (C00-C15,C17,C22-C24...\n",
       "1       Chronic lower respiratory diseases (J40-J47)\n",
       "2                 Cerebrovascular diseases (I60-I69)\n",
       "3                        Diabetes mellitus (E10-E14)\n",
       "4  Malignant neoplasms of trachea, bronchus and l..."
      ]
     },
     "execution_count": 63,
     "metadata": {},
     "output_type": "execute_result"
    }
   ],
   "source": [
    "raw_2005_DD_df[\"39_cause_recode_text\"] = raw_2005_DD_df[\"39_cause_recode\"].map(cause_recode_39)\n",
    "raw_2005_DD_df[[\"39_cause_recode_text\"]].head()"
   ]
  },
  {
   "cell_type": "code",
   "execution_count": 64,
   "id": "b856216b-c71e-4a07-8d10-079256568c70",
   "metadata": {},
   "outputs": [],
   "source": [
    "#Map detail age type\n",
    "detail_age_type = {1: 'Years',\n",
    "  2: 'Months',\n",
    "  4: 'Days',\n",
    "  5: 'Hours',\n",
    "  6: 'Minutes',}"
   ]
  },
  {
   "cell_type": "code",
   "execution_count": 65,
   "id": "af883da2-60fd-422d-a473-2a8b694e4ffd",
   "metadata": {},
   "outputs": [
    {
     "data": {
      "text/html": [
       "<div>\n",
       "<style scoped>\n",
       "    .dataframe tbody tr th:only-of-type {\n",
       "        vertical-align: middle;\n",
       "    }\n",
       "\n",
       "    .dataframe tbody tr th {\n",
       "        vertical-align: top;\n",
       "    }\n",
       "\n",
       "    .dataframe thead th {\n",
       "        text-align: right;\n",
       "    }\n",
       "</style>\n",
       "<table border=\"1\" class=\"dataframe\">\n",
       "  <thead>\n",
       "    <tr style=\"text-align: right;\">\n",
       "      <th></th>\n",
       "      <th>detail_age_type_text</th>\n",
       "    </tr>\n",
       "  </thead>\n",
       "  <tbody>\n",
       "    <tr>\n",
       "      <th>0</th>\n",
       "      <td>Years</td>\n",
       "    </tr>\n",
       "    <tr>\n",
       "      <th>1</th>\n",
       "      <td>Years</td>\n",
       "    </tr>\n",
       "    <tr>\n",
       "      <th>2</th>\n",
       "      <td>Years</td>\n",
       "    </tr>\n",
       "    <tr>\n",
       "      <th>3</th>\n",
       "      <td>Years</td>\n",
       "    </tr>\n",
       "    <tr>\n",
       "      <th>4</th>\n",
       "      <td>Years</td>\n",
       "    </tr>\n",
       "  </tbody>\n",
       "</table>\n",
       "</div>"
      ],
      "text/plain": [
       "  detail_age_type_text\n",
       "0                Years\n",
       "1                Years\n",
       "2                Years\n",
       "3                Years\n",
       "4                Years"
      ]
     },
     "execution_count": 65,
     "metadata": {},
     "output_type": "execute_result"
    }
   ],
   "source": [
    "raw_2005_DD_df[\"detail_age_type_text\"] = raw_2005_DD_df[\"detail_age_type\"].map(detail_age_type)\n",
    "raw_2005_DD_df[[\"detail_age_type_text\"]].head()"
   ]
  },
  {
   "cell_type": "code",
   "execution_count": 66,
   "id": "d876d525-d65f-432b-ad23-78c8ee4c857e",
   "metadata": {},
   "outputs": [],
   "source": [
    "#Map race\n",
    "race = {1: 'White',\n",
    "  2: 'Black',\n",
    "  3: 'American Indian (includes Aleuts and Eskimos)',\n",
    "  4: 'Chinese',\n",
    "  5: 'Japanese',\n",
    "  6: 'Hawaiian (includes Part-Hawaiian)',\n",
    "  7: 'Filipino',\n",
    "  18: 'Asian Indian',\n",
    "  28: 'Korean',\n",
    "  38: 'Samoan',\n",
    "  48: 'Vietnamese',\n",
    "  58: 'Guamanian',\n",
    "  68: 'Other Asian or Pacific Islander in areas reporting codes 18-58',\n",
    "  78: 'Combined other Asian or Pacific Islander, includes codes 18-68',\n",
    "  100: 'Other races',\n",
    "  108: 'Other Asian or Pacific Islander'}"
   ]
  },
  {
   "cell_type": "code",
   "execution_count": 67,
   "id": "6c4c2ada-2adc-45cf-ae31-d31823d9ffaa",
   "metadata": {},
   "outputs": [
    {
     "data": {
      "text/html": [
       "<div>\n",
       "<style scoped>\n",
       "    .dataframe tbody tr th:only-of-type {\n",
       "        vertical-align: middle;\n",
       "    }\n",
       "\n",
       "    .dataframe tbody tr th {\n",
       "        vertical-align: top;\n",
       "    }\n",
       "\n",
       "    .dataframe thead th {\n",
       "        text-align: right;\n",
       "    }\n",
       "</style>\n",
       "<table border=\"1\" class=\"dataframe\">\n",
       "  <thead>\n",
       "    <tr style=\"text-align: right;\">\n",
       "      <th></th>\n",
       "      <th>race_text</th>\n",
       "    </tr>\n",
       "  </thead>\n",
       "  <tbody>\n",
       "    <tr>\n",
       "      <th>0</th>\n",
       "      <td>White</td>\n",
       "    </tr>\n",
       "    <tr>\n",
       "      <th>1</th>\n",
       "      <td>White</td>\n",
       "    </tr>\n",
       "    <tr>\n",
       "      <th>2</th>\n",
       "      <td>White</td>\n",
       "    </tr>\n",
       "    <tr>\n",
       "      <th>3</th>\n",
       "      <td>White</td>\n",
       "    </tr>\n",
       "    <tr>\n",
       "      <th>4</th>\n",
       "      <td>White</td>\n",
       "    </tr>\n",
       "  </tbody>\n",
       "</table>\n",
       "</div>"
      ],
      "text/plain": [
       "  race_text\n",
       "0     White\n",
       "1     White\n",
       "2     White\n",
       "3     White\n",
       "4     White"
      ]
     },
     "execution_count": 67,
     "metadata": {},
     "output_type": "execute_result"
    }
   ],
   "source": [
    "raw_2005_DD_df[\"race_text\"] = raw_2005_DD_df[\"race\"].map(race)\n",
    "raw_2005_DD_df[[\"race_text\"]].head()"
   ]
  },
  {
   "cell_type": "code",
   "execution_count": 68,
   "id": "ab0a3963-8a01-41d8-a8a6-09e8f7dc3266",
   "metadata": {},
   "outputs": [],
   "source": [
    "#Map day of week of death?\n",
    "day_of_week_of_death = {1: 'Sunday',\n",
    "  2: 'Monday',\n",
    "  3: 'Tuesday',\n",
    "  4: 'Wednesday',\n",
    "  5: 'Thursday',\n",
    "  6: 'Friday',\n",
    "  7: 'Saturday',\n",
    "  9: 'Unknown'}"
   ]
  },
  {
   "cell_type": "code",
   "execution_count": 69,
   "id": "57ebf443-7951-41e4-a029-e656de3f43d2",
   "metadata": {},
   "outputs": [
    {
     "data": {
      "text/html": [
       "<div>\n",
       "<style scoped>\n",
       "    .dataframe tbody tr th:only-of-type {\n",
       "        vertical-align: middle;\n",
       "    }\n",
       "\n",
       "    .dataframe tbody tr th {\n",
       "        vertical-align: top;\n",
       "    }\n",
       "\n",
       "    .dataframe thead th {\n",
       "        text-align: right;\n",
       "    }\n",
       "</style>\n",
       "<table border=\"1\" class=\"dataframe\">\n",
       "  <thead>\n",
       "    <tr style=\"text-align: right;\">\n",
       "      <th></th>\n",
       "      <th>day_of_week_of_death_text</th>\n",
       "    </tr>\n",
       "  </thead>\n",
       "  <tbody>\n",
       "    <tr>\n",
       "      <th>0</th>\n",
       "      <td>Monday</td>\n",
       "    </tr>\n",
       "    <tr>\n",
       "      <th>1</th>\n",
       "      <td>Saturday</td>\n",
       "    </tr>\n",
       "    <tr>\n",
       "      <th>2</th>\n",
       "      <td>Sunday</td>\n",
       "    </tr>\n",
       "    <tr>\n",
       "      <th>3</th>\n",
       "      <td>Wednesday</td>\n",
       "    </tr>\n",
       "    <tr>\n",
       "      <th>4</th>\n",
       "      <td>Monday</td>\n",
       "    </tr>\n",
       "  </tbody>\n",
       "</table>\n",
       "</div>"
      ],
      "text/plain": [
       "  day_of_week_of_death_text\n",
       "0                    Monday\n",
       "1                  Saturday\n",
       "2                    Sunday\n",
       "3                 Wednesday\n",
       "4                    Monday"
      ]
     },
     "execution_count": 69,
     "metadata": {},
     "output_type": "execute_result"
    }
   ],
   "source": [
    "raw_2005_DD_df[\"day_of_week_of_death_text\"] = raw_2005_DD_df[\"day_of_week_of_death\"].map(day_of_week_of_death)\n",
    "raw_2005_DD_df[[\"day_of_week_of_death_text\"]].head()"
   ]
  },
  {
   "cell_type": "code",
   "execution_count": 70,
   "id": "fc6da331-40a1-4c61-8007-764cedb87ae8",
   "metadata": {},
   "outputs": [
    {
     "ename": "SyntaxError",
     "evalue": "invalid syntax. Perhaps you forgot a comma? (3120101309.py, line 3)",
     "output_type": "error",
     "traceback": [
      "\u001b[0;36m  Cell \u001b[0;32mIn[70], line 3\u001b[0;36m\u001b[0m\n\u001b[0;31m    7:string\"July\"\u001b[0m\n\u001b[0m            ^\u001b[0m\n\u001b[0;31mSyntaxError\u001b[0m\u001b[0;31m:\u001b[0m invalid syntax. Perhaps you forgot a comma?\n"
     ]
    }
   ],
   "source": [
    "#Map month of death?\n",
    "month = {10:\"October\", 11:\"November\", 12:\"December\", 1:\"January\", 2:\"February\", 3:\"March\", 4:\"April\", 5:\"May\", 6:\"June\", \n",
    "7:string\"July\"\n",
    "8:string\"August\"\n",
    "9:string\"September\"\n",
    "}"
   ]
  },
  {
   "cell_type": "code",
   "execution_count": 71,
   "id": "161e604f-37de-4f7b-85eb-45d3e4fe9df6",
   "metadata": {},
   "outputs": [],
   "source": [
    "#Map place of death and decedents status"
   ]
  },
  {
   "cell_type": "code",
   "execution_count": null,
   "id": "77c84176-24df-4963-bbc5-b6912b270f46",
   "metadata": {},
   "outputs": [],
   "source": [
    "#Map manner of death"
   ]
  },
  {
   "cell_type": "code",
   "execution_count": null,
   "id": "fc8802df-06eb-48c9-87be-a339cc4b4798",
   "metadata": {},
   "outputs": [],
   "source": [
    "#Drop any rows that are empty/contain null values"
   ]
  },
  {
   "cell_type": "code",
   "execution_count": null,
   "id": "eb433e81-6231-41b3-aa4e-0a38835f68aa",
   "metadata": {},
   "outputs": [],
   "source": [
    "#Create and display completely mapped dataframe, with only columns of interest \n",
    "#want to caputre: 4 columns mapped above with cause of death codes, age, sex, race/ethnicity, \n",
    "#location of death, month of death, day of week of death, etc\n",
    "\n",
    "columns_to_keep = [\"detail_age\", \"detail_age_type\", \"sex\", \"race\", \"marital_status\", \"day_of_week_of_death\", \"month_of_death\", \n",
    "                   \"place_of_death_and_decedents_status\", \"manner_of_death\", \"358_cause_recode_text\", \"113_cause_recode_text\", \n",
    "                   \"130_infant_cause_recode_text\", \"39_cause_recode_text\"]\n",
    "\n",
    "output_2005_DD_df = raw_2005_DD_df.loc[:, columns_to_keep]"
   ]
  },
  {
   "cell_type": "code",
   "execution_count": null,
   "id": "7d08ee10-a018-4741-a7cb-d80135ca85fc",
   "metadata": {},
   "outputs": [],
   "source": [
    "output_2005_DD_df.head(10)"
   ]
  },
  {
   "cell_type": "code",
   "execution_count": null,
   "id": "a040732d-3f12-4bcb-832a-482aa110000a",
   "metadata": {},
   "outputs": [],
   "source": [
    "age_to_keep = "
   ]
  },
  {
   "cell_type": "code",
   "execution_count": null,
   "id": "4164d79b-36ef-49d5-9a8c-3c78faeb2832",
   "metadata": {},
   "outputs": [],
   "source": [
    "#Rename column headers to improve readability"
   ]
  },
  {
   "cell_type": "code",
   "execution_count": null,
   "id": "8274b6ed-b142-4cef-aef3-a049fc5005b1",
   "metadata": {},
   "outputs": [],
   "source": [
    "#Generate output CSV file with only coulmns of interest for use in project\n",
    "\n"
   ]
  },
  {
   "cell_type": "code",
   "execution_count": null,
   "id": "d04c8678-529a-44b0-a81c-88bc52788798",
   "metadata": {},
   "outputs": [],
   "source": [
    "# Find the most common entry in any of the columns\n"
   ]
  },
  {
   "cell_type": "code",
   "execution_count": null,
   "id": "90cd26f6-115e-4714-80d6-f443299c041a",
   "metadata": {},
   "outputs": [],
   "source": []
  }
 ],
 "metadata": {
  "kernelspec": {
   "display_name": "Python 3 (ipykernel)",
   "language": "python",
   "name": "python3"
  },
  "language_info": {
   "codemirror_mode": {
    "name": "ipython",
    "version": 3
   },
   "file_extension": ".py",
   "mimetype": "text/x-python",
   "name": "python",
   "nbconvert_exporter": "python",
   "pygments_lexer": "ipython3",
   "version": "3.10.14"
  }
 },
 "nbformat": 4,
 "nbformat_minor": 5
}
